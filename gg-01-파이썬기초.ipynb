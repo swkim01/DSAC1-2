{
  "nbformat": 4,
  "nbformat_minor": 0,
  "metadata": {
    "kernelspec": {
      "display_name": "Python 3",
      "language": "python",
      "name": "python3"
    },
    "language_info": {
      "codemirror_mode": {
        "name": "ipython",
        "version": 3
      },
      "file_extension": ".py",
      "mimetype": "text/x-python",
      "name": "python",
      "nbconvert_exporter": "python",
      "pygments_lexer": "ipython3",
      "version": "3.8.5"
    },
    "colab": {
      "name": "gg-01-파이썬기초.ipynb",
      "provenance": []
    }
  },
  "cells": [
    {
      "cell_type": "markdown",
      "metadata": {
        "id": "GrEBDnT_c1Ej"
      },
      "source": [
        "# 파이선 기초\n",
        "\n",
        "## 다루는 내용\n",
        "\n",
        "### 쥬피터 사용법  \n",
        "### 파이선 기본 변수\n",
        "- 정수(int), 부동소수(float), 불리언(True/False), 문자열(strings)\n",
        "- 리스트(list), 튜풀(tuple), 사전(dictionary), for문, if문\n",
        "\n",
        "\n",
        "<table class=\"tfo-notebook-buttons\" align=\"left\">\n",
        "  <td>\n",
        "    <a target=\"_blank\" href=\"https://colab.research.google.com/github/swkim01/DSAC1-2/blob/main/gg-01-파이썬기초.ipynb\"><img src=\"https://github.com/swkim01/DSAC1-2/raw/main/colab_logo_32px.png\" />구글 코랩에서 실행</a>\n",
        "  </td>\n",
        "  <td>\n",
        "    <a target=\"_blank\" href=\"https://github.com/swkim01/DSAC1-2/blob/main/gg-01-파이썬기초.ipynb\"><img src=\"https://github.com/swkim01/DSAC1-2/raw/main/GitHub-Mark-32px.png\" />깃헙에서 소스 보기</a>\n",
        "  </td>\n",
        "</table>"
      ]
    },
    {
      "cell_type": "markdown",
      "metadata": {
        "id": "RbnXO9IOc1Ev"
      },
      "source": [
        "## 쥬피터 사용\n",
        "\n",
        "- 아나콘다 (anaconda)를 설치한 후 터미널 창에서 jupyter notebook 명령으로 실행\n",
        "- 또는 윈도우 명령창에서 jupyter notebook 실행"
      ]
    },
    {
      "cell_type": "markdown",
      "metadata": {
        "id": "UDkaQ_soc1Ex"
      },
      "source": [
        "#### 쥬피터 팁\n",
        "\n",
        "\n",
        "- 명령 모드는 파란색, 편집모드는 초록색으로 보인다\n",
        "- 편집 모드에서 빠져나와 명령모드로 들어가려면 Esc키를 누르거나 셀 외부의 다른 곳을 click한다.\n",
        "- 셀을 실행하려면 Shift + Enter 를 입력한다 (또는 Ctrl + Enter)\n",
        "- 두 개의 셀을 합치려면 Shift + m을 입력한다 (m: merge)\n",
        "- 셀을 둘로 나누려면 나누려는 곳에서 Shift + Ctrl + '-'를 입력한다. \n",
        "- 새로운 셀 삽입은 a(위에 삽입, above), b(아래 삽입, below)을 입력한다 (명령 모드에서)\n",
        "- 출력 화면을 감추려면/다시보려면 'o'를 입력한다 (명령 모드에서)"
      ]
    },
    {
      "cell_type": "markdown",
      "metadata": {
        "id": "86WQ-82Ic1Ex"
      },
      "source": [
        "## 파이썬 기초 문법"
      ]
    },
    {
      "cell_type": "markdown",
      "metadata": {
        "id": "tWHtb3iXc1Ey"
      },
      "source": [
        "- 변수명과 변수 type을 미리 정의할 필요없이 임의로 즉시 만들어 사용할 수 있다.\n",
        "- 예약어(if, for, True 등)는 변수로 사용할 수 없다."
      ]
    },
    {
      "cell_type": "code",
      "metadata": {
        "id": "uWYT5t-Uc1Ey",
        "outputId": "e6b14f44-cb83-4b9e-f3c4-7e82c8bee147"
      },
      "source": [
        "x=3\n",
        "x"
      ],
      "execution_count": null,
      "outputs": [
        {
          "output_type": "execute_result",
          "data": {
            "text/plain": [
              "3"
            ]
          },
          "metadata": {
            "tags": []
          },
          "execution_count": 1
        }
      ]
    },
    {
      "cell_type": "code",
      "metadata": {
        "id": "KTNAcDDjc1E1",
        "outputId": "5ac129da-024e-49b5-83c7-53ee0db98abe"
      },
      "source": [
        "y = 0.5\n",
        "x+y"
      ],
      "execution_count": null,
      "outputs": [
        {
          "output_type": "execute_result",
          "data": {
            "text/plain": [
              "3.5"
            ]
          },
          "metadata": {
            "tags": []
          },
          "execution_count": 2
        }
      ]
    },
    {
      "cell_type": "code",
      "metadata": {
        "id": "h3l1HF2gc1E1",
        "outputId": "200ab6c2-37e6-4e71-a170-fc95b4fe2423"
      },
      "source": [
        "print(x)"
      ],
      "execution_count": null,
      "outputs": [
        {
          "output_type": "stream",
          "text": [
            "3\n"
          ],
          "name": "stdout"
        }
      ]
    },
    {
      "cell_type": "code",
      "metadata": {
        "scrolled": false,
        "id": "5B3Q27WZc1E2",
        "outputId": "1e71e4ed-ee67-4907-be09-508118953f4f"
      },
      "source": [
        "type(x), type(y)"
      ],
      "execution_count": null,
      "outputs": [
        {
          "output_type": "execute_result",
          "data": {
            "text/plain": [
              "(int, float)"
            ]
          },
          "metadata": {
            "tags": []
          },
          "execution_count": 4
        }
      ]
    },
    {
      "cell_type": "markdown",
      "metadata": {
        "id": "Gxkop9oic1E2"
      },
      "source": [
        "- 문자열은 ' ' 또는 \" \" 으로 묶어서 표시한다.\n",
        "- 여러 줄(line)으로 된 문자열은 \"\"\"   \"\"\" 으로 묶어서 표시한다."
      ]
    },
    {
      "cell_type": "code",
      "metadata": {
        "id": "GS5a_HJMc1E3",
        "outputId": "794297eb-c2e0-45ee-e34f-11cb64390097"
      },
      "source": [
        "a = 0.5\n",
        "x = 3\n",
        "y = True\n",
        "z = \"홍길동\"\n",
        "print(a, x, y, z)"
      ],
      "execution_count": null,
      "outputs": [
        {
          "output_type": "stream",
          "text": [
            "0.5 3 True 홍길동\n"
          ],
          "name": "stdout"
        }
      ]
    },
    {
      "cell_type": "code",
      "metadata": {
        "scrolled": true,
        "id": "xWsHx6lAc1E3",
        "outputId": "10aa945c-e396-48a9-cefa-6a66ff0c696e"
      },
      "source": [
        "print(\"문자열을 출력\")\n",
        "print('따옴표는 하나도 됩니다')"
      ],
      "execution_count": null,
      "outputs": [
        {
          "output_type": "stream",
          "text": [
            "문자열을 출력\n",
            "따옴표는 하나도 됩니다\n"
          ],
          "name": "stdout"
        }
      ]
    },
    {
      "cell_type": "code",
      "metadata": {
        "id": "cVVhlwSyc1E4",
        "outputId": "6f31f610-45f3-4145-c6b1-88a7f64ca8c2"
      },
      "source": [
        "multi = \"\"\"이것은 여러 줄로\n",
        "구성된 문자열을 표시하기 위한 \n",
        "방법입니다.\"\"\"\n",
        "print(multi)"
      ],
      "execution_count": null,
      "outputs": [
        {
          "output_type": "stream",
          "text": [
            "이것은 여러 줄로\n",
            "구성된 문자열을 표시하기 위한 \n",
            "방법입니다.\n"
          ],
          "name": "stdout"
        }
      ]
    },
    {
      "cell_type": "markdown",
      "metadata": {
        "id": "IqFKOBrqc1E4"
      },
      "source": [
        "- 논리값은 True, False (대소문자 구분)\n",
        "- 논리값을 마치 숫자인 것처럼 연산에 바로 사용할 수 있다. (True=1,  False=0)"
      ]
    },
    {
      "cell_type": "code",
      "metadata": {
        "id": "e8le7XX3c1E5",
        "outputId": "bac03b6a-bb78-4df2-e942-6f487a62058f"
      },
      "source": [
        "print(x+y)"
      ],
      "execution_count": null,
      "outputs": [
        {
          "output_type": "stream",
          "text": [
            "4\n"
          ],
          "name": "stdout"
        }
      ]
    },
    {
      "cell_type": "code",
      "metadata": {
        "id": "oHqFR5Smc1E5",
        "outputId": "49b8c76d-ba0e-40a1-ebc6-aa5866a30ab1"
      },
      "source": [
        "a = True\n",
        "b = False\n",
        "a & b"
      ],
      "execution_count": null,
      "outputs": [
        {
          "output_type": "execute_result",
          "data": {
            "text/plain": [
              "False"
            ]
          },
          "metadata": {
            "tags": []
          },
          "execution_count": 6
        }
      ]
    },
    {
      "cell_type": "code",
      "metadata": {
        "id": "6R45EEqPc1E6",
        "outputId": "cc52a071-6b4d-4b2e-fb47-85a4bd06e286"
      },
      "source": [
        "a + 3 + b"
      ],
      "execution_count": null,
      "outputs": [
        {
          "output_type": "execute_result",
          "data": {
            "text/plain": [
              "4"
            ]
          },
          "metadata": {
            "tags": []
          },
          "execution_count": 7
        }
      ]
    },
    {
      "cell_type": "code",
      "metadata": {
        "id": "1rS9csWrc1E6",
        "outputId": "58815315-51da-492a-d94e-25a084c2f1b3"
      },
      "source": [
        "a + a + a + a + a + 10"
      ],
      "execution_count": null,
      "outputs": [
        {
          "output_type": "execute_result",
          "data": {
            "text/plain": [
              "15"
            ]
          },
          "metadata": {
            "tags": []
          },
          "execution_count": 8
        }
      ]
    },
    {
      "cell_type": "markdown",
      "metadata": {
        "id": "vLF9B5yNc1E7"
      },
      "source": [
        "### 리스트\n",
        "- 여러 항목의 집합체로 각 항목의 타입은 서로 달라도 된다. (정수, 부동소수, 논리값, 문자열 등)\n",
        "- 리스트를 만들려면 대괄호 [ ]를 사용하고 각 항목을 ','로 구분한다"
      ]
    },
    {
      "cell_type": "code",
      "metadata": {
        "id": "0hIXZTEFc1E7",
        "outputId": "8c40c840-8895-4b00-f0e3-b7321b82dcbc"
      },
      "source": [
        "list_1 = [x, y, z]\n",
        "print(list_1)"
      ],
      "execution_count": null,
      "outputs": [
        {
          "output_type": "stream",
          "text": [
            "[3, True, '홍길동']\n"
          ],
          "name": "stdout"
        }
      ]
    },
    {
      "cell_type": "code",
      "metadata": {
        "id": "UIs6cnF1c1E8",
        "outputId": "f2ff1d73-79bd-4008-8257-4ea12b44b742"
      },
      "source": [
        "item_2 = list([1,2,3])\n",
        "item_2"
      ],
      "execution_count": null,
      "outputs": [
        {
          "output_type": "execute_result",
          "data": {
            "text/plain": [
              "[1, 2, 3]"
            ]
          },
          "metadata": {
            "tags": []
          },
          "execution_count": 61
        }
      ]
    },
    {
      "cell_type": "code",
      "metadata": {
        "id": "7GKPhYWtc1E8",
        "outputId": "42fba754-ab35-4d31-9ac9-342a80567ee9"
      },
      "source": [
        "items = [1, 2, 3, 4, 5, 'kim']\n",
        "items*2"
      ],
      "execution_count": null,
      "outputs": [
        {
          "output_type": "execute_result",
          "data": {
            "text/plain": [
              "[1, 2, 3, 4, 5, 'kim', 1, 2, 3, 4, 5, 'kim']"
            ]
          },
          "metadata": {
            "tags": []
          },
          "execution_count": 24
        }
      ]
    },
    {
      "cell_type": "code",
      "metadata": {
        "id": "Jrpw29dOc1E9",
        "outputId": "1fd06262-f405-498c-d4da-9053dd2f404f"
      },
      "source": [
        "# len() : 리스트의 길이 (항목의 갯수)\n",
        "print(len(list_1))"
      ],
      "execution_count": null,
      "outputs": [
        {
          "output_type": "stream",
          "text": [
            "3\n"
          ],
          "name": "stdout"
        }
      ]
    },
    {
      "cell_type": "code",
      "metadata": {
        "id": "N4vdlVTtc1E9",
        "outputId": "5c11c77e-85ac-4290-ec54-47f8512da96e"
      },
      "source": [
        "# in : 리스트 내에 어떤 항목이 들어 있는 지 확인, \n",
        "# 해당 항목이 있으면 True 반환\n",
        "print(3 in list_1)\n",
        "print(4 in list_1)"
      ],
      "execution_count": null,
      "outputs": [
        {
          "output_type": "stream",
          "text": [
            "True\n",
            "False\n"
          ],
          "name": "stdout"
        }
      ]
    },
    {
      "cell_type": "code",
      "metadata": {
        "scrolled": true,
        "id": "ksDIu903c1E-",
        "outputId": "ba4276ab-7b5c-4eb3-e7c6-0e30398a2dd0"
      },
      "source": [
        "# append() : 리스트에 항목을 추가\n",
        "list_1.append(100); list_1"
      ],
      "execution_count": null,
      "outputs": [
        {
          "output_type": "execute_result",
          "data": {
            "text/plain": [
              "[3, True, '홍길동', 100]"
            ]
          },
          "metadata": {
            "tags": []
          },
          "execution_count": 65
        }
      ]
    },
    {
      "cell_type": "code",
      "metadata": {
        "id": "vPG8k6-Lc1E-",
        "outputId": "2f9d2ddc-8420-4f71-f597-2ae8930af785"
      },
      "source": [
        "# 리스트에서 위치 번호는 '1'이 아니라 '0'부터 시작한다.\n",
        "items[0]"
      ],
      "execution_count": null,
      "outputs": [
        {
          "output_type": "execute_result",
          "data": {
            "text/plain": [
              "1"
            ]
          },
          "metadata": {
            "tags": []
          },
          "execution_count": 66
        }
      ]
    },
    {
      "cell_type": "code",
      "metadata": {
        "scrolled": true,
        "id": "zSpOAiu1c1E_",
        "outputId": "92c47f11-71e6-46fd-9ddc-a21e0e474a73"
      },
      "source": [
        "# 3번째 항목을 값을 바꾸었다.\n",
        "items[2]=100\n",
        "items"
      ],
      "execution_count": null,
      "outputs": [
        {
          "output_type": "execute_result",
          "data": {
            "text/plain": [
              "[1, 5, 100]"
            ]
          },
          "metadata": {
            "tags": []
          },
          "execution_count": 67
        }
      ]
    },
    {
      "cell_type": "code",
      "metadata": {
        "id": "HFtx1Ausc1E_",
        "outputId": "dc91c809-51d8-4c4d-fbbc-7a83afdae727"
      },
      "source": [
        "items[:2]"
      ],
      "execution_count": null,
      "outputs": [
        {
          "output_type": "execute_result",
          "data": {
            "text/plain": [
              "[1, 5]"
            ]
          },
          "metadata": {
            "tags": []
          },
          "execution_count": 68
        }
      ]
    },
    {
      "cell_type": "code",
      "metadata": {
        "id": "RTQTZD-Rc1FA",
        "outputId": "5d808a50-f989-46e6-dee8-0c07afef35a6"
      },
      "source": [
        "# 뒤에서부터 인덱싱할 때는 '-' 를 사용한다.\n",
        "items[-1]"
      ],
      "execution_count": null,
      "outputs": [
        {
          "output_type": "execute_result",
          "data": {
            "text/plain": [
              "100"
            ]
          },
          "metadata": {
            "tags": []
          },
          "execution_count": 69
        }
      ]
    },
    {
      "cell_type": "code",
      "metadata": {
        "id": "XraiNc-2c1FA",
        "outputId": "d16aae24-4a06-4d9a-d7a6-0c17dd55c057"
      },
      "source": [
        "items[-2]"
      ],
      "execution_count": null,
      "outputs": [
        {
          "output_type": "execute_result",
          "data": {
            "text/plain": [
              "5"
            ]
          },
          "metadata": {
            "tags": []
          },
          "execution_count": 70
        }
      ]
    },
    {
      "cell_type": "code",
      "metadata": {
        "id": "faIfgGjsc1FB",
        "outputId": "41ef488c-7074-4364-fb5f-0375f01ebbc2"
      },
      "source": [
        "# 리스트의 일부 구간만 얻으려면 슬라이스(slice) ':'를 사용한다\n",
        "items[2:]"
      ],
      "execution_count": null,
      "outputs": [
        {
          "output_type": "execute_result",
          "data": {
            "text/plain": [
              "[100]"
            ]
          },
          "metadata": {
            "tags": []
          },
          "execution_count": 71
        }
      ]
    },
    {
      "cell_type": "markdown",
      "metadata": {
        "id": "Amx6ZVs_c1FB"
      },
      "source": [
        "- range() : 일정한 범위의 숫자로 구성된 리스트를 한 번에 만드는 함수\n",
        "- range(start, stop[, step])\n",
        "- default : start=0, step=1"
      ]
    },
    {
      "cell_type": "code",
      "metadata": {
        "id": "Btt4fcXZc1FB",
        "outputId": "a4397b5f-e4a9-4efb-bb9c-a780db9653fb"
      },
      "source": [
        "x2 = range(10)\n",
        "x2"
      ],
      "execution_count": null,
      "outputs": [
        {
          "output_type": "execute_result",
          "data": {
            "text/plain": [
              "range(0, 10)"
            ]
          },
          "metadata": {
            "tags": []
          },
          "execution_count": 72
        }
      ]
    },
    {
      "cell_type": "code",
      "metadata": {
        "scrolled": true,
        "id": "8-b3x1h7c1FC",
        "outputId": "04238366-2c21-4801-bc54-208d4f8ecacb"
      },
      "source": [
        "x3 = range(10, 20, 2)\n",
        "for i in x3:\n",
        "    print(i)"
      ],
      "execution_count": null,
      "outputs": [
        {
          "output_type": "stream",
          "text": [
            "10\n",
            "12\n",
            "14\n",
            "16\n",
            "18\n"
          ],
          "name": "stdout"
        }
      ]
    },
    {
      "cell_type": "code",
      "metadata": {
        "id": "ia879Gykc1FC",
        "outputId": "af7c0f2b-a706-4524-93c3-5d0c31a0efe4"
      },
      "source": [
        "print(x3[0])\n",
        "print(x3[2])\n",
        "print(x3[-1])\n",
        "print(x3[-2])"
      ],
      "execution_count": null,
      "outputs": [
        {
          "output_type": "stream",
          "text": [
            "10\n",
            "14\n",
            "18\n",
            "16\n"
          ],
          "name": "stdout"
        }
      ]
    },
    {
      "cell_type": "markdown",
      "metadata": {
        "id": "DIXbmjwXc1FD"
      },
      "source": [
        "- List Comprehension : 리스트 내부 for 문"
      ]
    },
    {
      "cell_type": "code",
      "metadata": {
        "id": "2BynBHhKc1FD",
        "outputId": "530eb584-b538-4f27-c0e6-53a895142b5b"
      },
      "source": [
        "list_2 = [x*10 for x in range(5)]\n",
        "print(list_2)"
      ],
      "execution_count": null,
      "outputs": [
        {
          "output_type": "stream",
          "text": [
            "[0, 10, 20, 30, 40]\n"
          ],
          "name": "stdout"
        }
      ]
    },
    {
      "cell_type": "markdown",
      "metadata": {
        "id": "16gjLd0Bc1FD"
      },
      "source": [
        "### 튜플 (tuple)\n",
        "- 튜플은 리스트처럼 여러 항목의 집합을 담을 수 있는데 리스트와 달리 튜플의 내용은 '상수'로 취급되어 값을 바꿀 수 없다\n",
        "- 튜플을 만들려면 소괄호( )를 사용하여 만들거나 , 로 구분하여 나열한다.\n",
        "- 튜플 사용 이유 : 항목의 내용을 더 이상 변경 방지 & 처리속도 빠르다."
      ]
    },
    {
      "cell_type": "code",
      "metadata": {
        "id": "5cuoiCGPc1FE",
        "outputId": "3cf0f035-5535-49db-afd1-c6435bccf421"
      },
      "source": [
        "my_tuple = (1, 2, 3)\n",
        "your_tuple = 4, 5,\"hello\"\n",
        "print(my_tuple + your_tuple)"
      ],
      "execution_count": null,
      "outputs": [
        {
          "output_type": "stream",
          "text": [
            "(1, 2, 3, 4, 5, 'hello')\n"
          ],
          "name": "stdout"
        }
      ]
    },
    {
      "cell_type": "code",
      "metadata": {
        "id": "CnMprSImc1FE"
      },
      "source": [
        "a, b, c = 3, 4, 100"
      ],
      "execution_count": null,
      "outputs": []
    },
    {
      "cell_type": "code",
      "metadata": {
        "scrolled": true,
        "id": "__ht5Nu7c1FE",
        "outputId": "eaae78ec-0ff7-496a-e7bc-4df032aff453"
      },
      "source": [
        "print(a)\n",
        "print(b)\n",
        "print(c)"
      ],
      "execution_count": null,
      "outputs": [
        {
          "output_type": "stream",
          "text": [
            "3\n",
            "4\n",
            "100\n"
          ],
          "name": "stdout"
        }
      ]
    },
    {
      "cell_type": "code",
      "metadata": {
        "id": "DU09Gdv9c1FF",
        "outputId": "5670d6bc-9d13-4c0a-be84-efea3b7d330d"
      },
      "source": [
        "my_tuple[-1]"
      ],
      "execution_count": null,
      "outputs": [
        {
          "output_type": "execute_result",
          "data": {
            "text/plain": [
              "3"
            ]
          },
          "metadata": {
            "tags": []
          },
          "execution_count": 82
        }
      ]
    },
    {
      "cell_type": "code",
      "metadata": {
        "scrolled": true,
        "id": "HLbRPM6Lc1FF",
        "outputId": "f263726d-d64b-45fc-bf55-fe166034a8ba"
      },
      "source": [
        "my_tuple[-1] = 100"
      ],
      "execution_count": null,
      "outputs": [
        {
          "output_type": "error",
          "ename": "TypeError",
          "evalue": "'tuple' object does not support item assignment",
          "traceback": [
            "\u001b[1;31m---------------------------------------------------------------------------\u001b[0m",
            "\u001b[1;31mTypeError\u001b[0m                                 Traceback (most recent call last)",
            "\u001b[1;32m<ipython-input-83-63312b295010>\u001b[0m in \u001b[0;36m<module>\u001b[1;34m\u001b[0m\n\u001b[1;32m----> 1\u001b[1;33m \u001b[0mmy_tuple\u001b[0m\u001b[1;33m[\u001b[0m\u001b[1;33m-\u001b[0m\u001b[1;36m1\u001b[0m\u001b[1;33m]\u001b[0m \u001b[1;33m=\u001b[0m \u001b[1;36m100\u001b[0m\u001b[1;33m\u001b[0m\u001b[1;33m\u001b[0m\u001b[0m\n\u001b[0m",
            "\u001b[1;31mTypeError\u001b[0m: 'tuple' object does not support item assignment"
          ]
        }
      ]
    },
    {
      "cell_type": "markdown",
      "metadata": {
        "id": "2ru1XpxFc1FG"
      },
      "source": [
        "### 사전 (Dictionaries)\n",
        "- 딕셔너리로 키(key)-값(value) 조합 형태의 리스트를 만들 수 있다. \n",
        "- 딕셔너리에서는 항목을 찾을 때 키(key)를 인자로 사용한다\n",
        "- 딕셔너너리에서 저장된 순서는 중요시하지 않는다.\n",
        "- 딕셔너리는 중괄호 {  } 로 만든다."
      ]
    },
    {
      "cell_type": "code",
      "metadata": {
        "scrolled": true,
        "id": "6zzULkvCc1FG",
        "outputId": "955a9678-76e6-4609-e0c0-605095c37710"
      },
      "source": [
        "name_age = {'kim': 20,'lee': 25}\n",
        "print(name_age['kim']) "
      ],
      "execution_count": null,
      "outputs": [
        {
          "output_type": "stream",
          "text": [
            "20\n"
          ],
          "name": "stdout"
        }
      ]
    },
    {
      "cell_type": "markdown",
      "metadata": {
        "id": "CqW00eVec1FH"
      },
      "source": [
        "- key() : key 리스트\n",
        "- value() : 값 리스트\n",
        "- item() : 딕셔너리 각 항목을 튜플로 만들고 전체 항목을 리스트로 반환(검색 속도를 빠르게 할 목적)"
      ]
    },
    {
      "cell_type": "code",
      "metadata": {
        "scrolled": false,
        "id": "XRKUg8nvc1FH",
        "outputId": "e8abdd07-1049-4821-ebf1-55ddf192ebed"
      },
      "source": [
        "print(name_age.keys())\n",
        "print(name_age.values())\n",
        "print(name_age.items()) "
      ],
      "execution_count": null,
      "outputs": [
        {
          "output_type": "stream",
          "text": [
            "dict_keys(['kim', 'lee'])\n",
            "dict_values([20, 25])\n",
            "dict_items([('kim', 20), ('lee', 25)])\n"
          ],
          "name": "stdout"
        }
      ]
    },
    {
      "cell_type": "code",
      "metadata": {
        "id": "cmx9GgZec1FI",
        "outputId": "f0746d31-85c0-4960-9e68-df63d04daa36"
      },
      "source": [
        "print(\"kim\" in name_age)\n",
        "print(\"park\" in name_age)"
      ],
      "execution_count": null,
      "outputs": [
        {
          "output_type": "stream",
          "text": [
            "True\n",
            "False\n"
          ],
          "name": "stdout"
        }
      ]
    },
    {
      "cell_type": "code",
      "metadata": {
        "id": "psigN-0rc1FI",
        "outputId": "bd016005-3e3a-4d79-88f2-3feb85f22dce"
      },
      "source": [
        "name_age['song'] = 35\n",
        "print(name_age)"
      ],
      "execution_count": null,
      "outputs": [
        {
          "output_type": "stream",
          "text": [
            "{'kim': 20, 'lee': 25, 'song': 35}\n"
          ],
          "name": "stdout"
        }
      ]
    },
    {
      "cell_type": "code",
      "metadata": {
        "id": "-t4MwFARc1FI",
        "outputId": "34b9381a-65ab-478a-dea4-5c5f5e16609d"
      },
      "source": [
        "x = range(1,20,2)\n",
        "for i in x:\n",
        "    print(i*10)"
      ],
      "execution_count": null,
      "outputs": [
        {
          "output_type": "stream",
          "text": [
            "10\n",
            "30\n",
            "50\n",
            "70\n",
            "90\n",
            "110\n",
            "130\n",
            "150\n",
            "170\n",
            "190\n"
          ],
          "name": "stdout"
        }
      ]
    },
    {
      "cell_type": "markdown",
      "metadata": {
        "id": "xleuXpb3c1FJ"
      },
      "source": [
        "### for 루프\n",
        "\n",
        "- 동작을 반복할 때 for 루프를 사용한다\n",
        "- for 문장의 끝에는 ':'가 있어야 하며 for 문이 적용되는 블록(block)은 반드시 들여쓰기 (indentation)을 해야 한다. "
      ]
    },
    {
      "cell_type": "code",
      "metadata": {
        "id": "CV-RBdRuc1FJ"
      },
      "source": [
        "items = [ 1, 5, 100]"
      ],
      "execution_count": null,
      "outputs": []
    },
    {
      "cell_type": "code",
      "metadata": {
        "scrolled": true,
        "id": "aakhEaWxc1FJ",
        "outputId": "f16b6e77-f118-447c-f111-9cd36444f681"
      },
      "source": [
        "for x in items:\n",
        "    print(x**3)"
      ],
      "execution_count": null,
      "outputs": [
        {
          "output_type": "stream",
          "text": [
            "1\n",
            "125\n",
            "1000000\n"
          ],
          "name": "stdout"
        }
      ]
    },
    {
      "cell_type": "code",
      "metadata": {
        "id": "M2X3NNtLc1FK",
        "outputId": "31b92a93-7860-4f39-bf0a-7b44017f2203"
      },
      "source": [
        "for i in range(10): \n",
        "    print (i*1000)"
      ],
      "execution_count": null,
      "outputs": [
        {
          "output_type": "stream",
          "text": [
            "0\n",
            "1000\n",
            "2000\n",
            "3000\n",
            "4000\n",
            "5000\n",
            "6000\n",
            "7000\n",
            "8000\n",
            "9000\n"
          ],
          "name": "stdout"
        }
      ]
    },
    {
      "cell_type": "code",
      "metadata": {
        "id": "BqCkDd64c1FK",
        "outputId": "6cb94a87-5d70-4550-cb6e-4ef68236653f"
      },
      "source": [
        "for x in (1, 3, 5, 10):\n",
        "    print(x, \"'s square = \", x*x)"
      ],
      "execution_count": null,
      "outputs": [
        {
          "output_type": "stream",
          "text": [
            "1 's square =  1\n",
            "3 's square =  9\n",
            "5 's square =  25\n",
            "10 's square =  100\n"
          ],
          "name": "stdout"
        }
      ]
    },
    {
      "cell_type": "markdown",
      "metadata": {
        "id": "VpDjtMRSc1FL"
      },
      "source": [
        "### if 문"
      ]
    },
    {
      "cell_type": "code",
      "metadata": {
        "id": "tvxi3l3Ic1FL",
        "outputId": "8876ba0b-ce1e-4cdc-e7ad-5db4a1d934a1"
      },
      "source": [
        "x=17\n",
        "if x > 10:\n",
        "    print(\"x > 10\") \n",
        "    print('---------')\n",
        "elif x > 3:\n",
        "    print(\"10 >= x < 3\") \n",
        "else:\n",
        "    print(\" x <= 3\")"
      ],
      "execution_count": null,
      "outputs": [
        {
          "output_type": "stream",
          "text": [
            "x > 10\n",
            "---------\n"
          ],
          "name": "stdout"
        }
      ]
    },
    {
      "cell_type": "markdown",
      "metadata": {
        "id": "eX8zMFeuc1FL"
      },
      "source": [
        "## sort()"
      ]
    },
    {
      "cell_type": "markdown",
      "metadata": {
        "id": "Ewc9rQQsc1FM"
      },
      "source": [
        "- sort() : 리스트 항목들의 내용들을 값의 크기 순으로 정렬, 리스트의 내용이 변경\n",
        "- default : 오름차순"
      ]
    },
    {
      "cell_type": "code",
      "metadata": {
        "id": "3r6IYoOec1FM",
        "outputId": "5e88b923-829c-4bf4-d49c-52af1c96908d"
      },
      "source": [
        "x = [2,1,3,5,4]\n",
        "x.sort()\n",
        "print(x)"
      ],
      "execution_count": null,
      "outputs": [
        {
          "output_type": "stream",
          "text": [
            "[1, 2, 3, 4, 5]\n"
          ],
          "name": "stdout"
        }
      ]
    },
    {
      "cell_type": "markdown",
      "metadata": {
        "id": "RvKeycw1c1FM"
      },
      "source": [
        "- 리스트의 내용이 변경되지 않게 하려면 : sorted() 사용"
      ]
    },
    {
      "cell_type": "code",
      "metadata": {
        "scrolled": true,
        "id": "nDJ86ph4c1FN",
        "outputId": "af37dbea-d306-400f-94ba-5b1b0694271b"
      },
      "source": [
        "x = [2,1,3,5,4]\n",
        "y = sorted(x)\n",
        "print(x) # [1, 2, 3, 4, 5]\n",
        "print(y)"
      ],
      "execution_count": null,
      "outputs": [
        {
          "output_type": "stream",
          "text": [
            "[2, 1, 3, 5, 4]\n",
            "[1, 2, 3, 4, 5]\n"
          ],
          "name": "stdout"
        }
      ]
    },
    {
      "cell_type": "markdown",
      "metadata": {
        "id": "0JekEm1oc1FN"
      },
      "source": [
        "- 내림차순으로 정렬 : reverse=True"
      ]
    },
    {
      "cell_type": "code",
      "metadata": {
        "id": "5HAR8Of4c1FN",
        "outputId": "cf171c1e-19a5-4dc4-9ab6-8f6d61655a35"
      },
      "source": [
        "x = [2,1,3,5,4]\n",
        "x.sort(reverse=True)\n",
        "print(x)"
      ],
      "execution_count": null,
      "outputs": [
        {
          "output_type": "stream",
          "text": [
            "[5, 4, 3, 2, 1]\n"
          ],
          "name": "stdout"
        }
      ]
    },
    {
      "cell_type": "markdown",
      "metadata": {
        "id": "nGvsSD5sc1FO"
      },
      "source": [
        "- sort_values() : DataFrame을 정렬하는 메소드\n",
        "- 특정 열을 기준으로 정렬할 수 있다.\n",
        "- by: 기준 열, asecnding:오름차순/내림차순 "
      ]
    },
    {
      "cell_type": "code",
      "metadata": {
        "scrolled": true,
        "id": "wI53-4SQc1FO",
        "outputId": "139b962e-a440-45e9-af26-a4c9aa3dbf03"
      },
      "source": [
        "import pandas as pd\n",
        "\n",
        "df = pd.DataFrame({'순서': [1, 2, 3], \n",
        "                   '이름': ['park', 'lee', 'choi'],\n",
        "                   '나이': [30, 20, 40]})\n",
        "df.sort_values(by=['순서'], ascending=True)"
      ],
      "execution_count": null,
      "outputs": [
        {
          "output_type": "execute_result",
          "data": {
            "text/html": [
              "<div>\n",
              "<style scoped>\n",
              "    .dataframe tbody tr th:only-of-type {\n",
              "        vertical-align: middle;\n",
              "    }\n",
              "\n",
              "    .dataframe tbody tr th {\n",
              "        vertical-align: top;\n",
              "    }\n",
              "\n",
              "    .dataframe thead th {\n",
              "        text-align: right;\n",
              "    }\n",
              "</style>\n",
              "<table border=\"1\" class=\"dataframe\">\n",
              "  <thead>\n",
              "    <tr style=\"text-align: right;\">\n",
              "      <th></th>\n",
              "      <th>순서</th>\n",
              "      <th>이름</th>\n",
              "      <th>나이</th>\n",
              "    </tr>\n",
              "  </thead>\n",
              "  <tbody>\n",
              "    <tr>\n",
              "      <th>0</th>\n",
              "      <td>1</td>\n",
              "      <td>park</td>\n",
              "      <td>30</td>\n",
              "    </tr>\n",
              "    <tr>\n",
              "      <th>1</th>\n",
              "      <td>2</td>\n",
              "      <td>lee</td>\n",
              "      <td>20</td>\n",
              "    </tr>\n",
              "    <tr>\n",
              "      <th>2</th>\n",
              "      <td>3</td>\n",
              "      <td>choi</td>\n",
              "      <td>40</td>\n",
              "    </tr>\n",
              "  </tbody>\n",
              "</table>\n",
              "</div>"
            ],
            "text/plain": [
              "   순서    이름  나이\n",
              "0   1  park  30\n",
              "1   2   lee  20\n",
              "2   3  choi  40"
            ]
          },
          "metadata": {
            "tags": []
          },
          "execution_count": 101
        }
      ]
    },
    {
      "cell_type": "markdown",
      "metadata": {
        "id": "yyifZE3jc1FQ"
      },
      "source": [
        "## 들여 쓰기(Indentation)"
      ]
    },
    {
      "cell_type": "markdown",
      "metadata": {
        "id": "bhWTP9NWc1FS"
      },
      "source": [
        "- 들여쓰기는 보통 Tab 사용, Tab의 크기는 블럭 내에서 통일시켜야 한다.\n",
        "- space, return 은 ( ), { } 블럭 내부에서는 무시된다. \n",
        "   * 따라서 문장 길이가 긴 경우, 보기 쉽게 여러 줄로 표시해도 동작은 동일하다.\n",
        "- ( ), { } 블럭이 없는 경우, 줄이 바뀌면 문장 끝에 역 슬래시 \"\\\" 사용해야 한다."
      ]
    },
    {
      "cell_type": "code",
      "metadata": {
        "id": "iL9hTl7bc1FT",
        "outputId": "3dd88b6c-3037-4103-d01a-d0a9ac98071d"
      },
      "source": [
        "x = [ [1, 2, 3],\n",
        "    [4, 5, 6],\n",
        "    [7, 8, 9]]\n",
        "print(x)"
      ],
      "execution_count": null,
      "outputs": [
        {
          "output_type": "stream",
          "text": [
            "[[1, 2, 3], [4, 5, 6], [7, 8, 9]]\n"
          ],
          "name": "stdout"
        }
      ]
    },
    {
      "cell_type": "code",
      "metadata": {
        "id": "L-cTT7-0c1FT",
        "outputId": "b3d4261f-e74c-478e-c9de-357efbd2d875"
      },
      "source": [
        "x = 3 + 4 + 5 + 6 \\\n",
        "    + 7 \n",
        "print(x)"
      ],
      "execution_count": null,
      "outputs": [
        {
          "output_type": "stream",
          "text": [
            "25\n"
          ],
          "name": "stdout"
        }
      ]
    },
    {
      "cell_type": "markdown",
      "metadata": {
        "id": "fWnk4NcCc1FU"
      },
      "source": [
        "## Module 설치"
      ]
    },
    {
      "cell_type": "markdown",
      "metadata": {
        "id": "gDcREzrNc1FU"
      },
      "source": [
        "- Python 기본 기능 이외에 추가 기능을 사용하려면 해당 module을 설치해야 한다.\n",
        "   * 해당 module을 server에 설치하는 것은 한번만 하면 된다.\n",
        "   * pip install \n",
        "- 설치된 module을 Python에서 사용하려면 program에서 import 해야 한다.\n",
        "   * import matplotlib.pyplot as plt "
      ]
    },
    {
      "cell_type": "markdown",
      "metadata": {
        "id": "cqBbV5vac1FV"
      },
      "source": [
        "## 함수 정의"
      ]
    },
    {
      "cell_type": "markdown",
      "metadata": {
        "id": "6OxixTOhc1FV"
      },
      "source": [
        "- def : 임의의 함수를 정의\n",
        "- 함수 인자의 값을 default 값으로 지정할 수 있다.\n",
        "   * 함수 호출 시에 인자 값을 주지 않으면 default 값으로 수행\n",
        "- 함수 수행 결과로 2개 이사의 값을 return하고자 할 때, tuple로 처리하면 편리 "
      ]
    },
    {
      "cell_type": "code",
      "metadata": {
        "id": "fm71NZtJc1FV",
        "outputId": "58aa5382-944a-4b52-9b91-187130da0eda"
      },
      "source": [
        "def double(x):\n",
        "    return x*2\n",
        "\n",
        "double(5)"
      ],
      "execution_count": null,
      "outputs": [
        {
          "output_type": "execute_result",
          "data": {
            "text/plain": [
              "10"
            ]
          },
          "metadata": {
            "tags": []
          },
          "execution_count": 1
        }
      ]
    },
    {
      "cell_type": "code",
      "metadata": {
        "id": "KufdHMxFc1FW",
        "outputId": "827cf5dc-d655-4e63-c268-8a93c26042ff"
      },
      "source": [
        "def double(x=100):\n",
        "    return x*2\n",
        "\n",
        "double()"
      ],
      "execution_count": null,
      "outputs": [
        {
          "output_type": "execute_result",
          "data": {
            "text/plain": [
              "200"
            ]
          },
          "metadata": {
            "tags": []
          },
          "execution_count": 2
        }
      ]
    },
    {
      "cell_type": "code",
      "metadata": {
        "id": "l_9GbQkcc1FW",
        "outputId": "21960f1b-79ee-45e3-9046-76a17c282a65"
      },
      "source": [
        "def double_triple(x):\n",
        "    return x*2, x*3\n",
        "\n",
        "x, y = double_triple(4)\n",
        "print(x, y)"
      ],
      "execution_count": null,
      "outputs": [
        {
          "output_type": "stream",
          "text": [
            "8 12\n"
          ],
          "name": "stdout"
        }
      ]
    },
    {
      "cell_type": "markdown",
      "metadata": {
        "id": "niLD6qBDc1FX"
      },
      "source": [
        "# matplotlib"
      ]
    },
    {
      "cell_type": "markdown",
      "metadata": {
        "id": "TE5o56-dc1FX"
      },
      "source": [
        "- Python의 시각화 라이브러리\n",
        "- %matplotlib inline : graph를 현재의 Jupyter notebook 화면에 직접 나타나게 그리라는 의미"
      ]
    },
    {
      "cell_type": "code",
      "metadata": {
        "id": "HaafHxiHc1FX",
        "outputId": "873933d7-bc3b-4545-9bbe-ae1dfdd62bcf"
      },
      "source": [
        "import numpy as np\n",
        "import matplotlib.pyplot as plt\n",
        "%matplotlib inline\n",
        "n = 10\n",
        "y = np.random.randn(n)\n",
        "plt.plot(range(n), y)\n",
        "plt.xlabel('시간')\n",
        "plt.ylabel('랜덤 값')"
      ],
      "execution_count": null,
      "outputs": [
        {
          "output_type": "execute_result",
          "data": {
            "text/plain": [
              "Text(0, 0.5, '랜덤 값')"
            ]
          },
          "metadata": {
            "tags": []
          },
          "execution_count": 4
        },
        {
          "output_type": "display_data",
          "data": {
            "image/png": "[encoded data removed]",
            "text/plain": [
              "<Figure size 432x288 with 1 Axes>"
            ]
          },
          "metadata": {
            "tags": [],
            "needs_background": "light"
          }
        }
      ]
    },
    {
      "cell_type": "markdown",
      "metadata": {
        "id": "rpZnOVIXc1FY"
      },
      "source": [
        "- x축, y축 label에 한글이 출력되지 않고 깨졌다.\n",
        "- matplotlib에서 한글이 보이도록 하려면 다음의 코드를 실행해 주어야 한다."
      ]
    },
    {
      "cell_type": "markdown",
      "metadata": {
        "id": "u23Z_Zooc4CF"
      },
      "source": [
        "colab 에서는 다음 코드 수행 후 커널 재실행"
      ]
    },
    {
      "cell_type": "code",
      "metadata": {
        "id": "VHN0-u0qc4r6"
      },
      "source": [
        "!sudo apt-get install -y fonts-nanum\n",
        "!sudo fc-cache -fv\n",
        "!rm ~/.cache/matplotlib -rf"
      ],
      "execution_count": null,
      "outputs": []
    },
    {
      "cell_type": "code",
      "metadata": {
        "id": "DrnWvs0vc1FY"
      },
      "source": [
        "import platform\n",
        "from matplotlib import font_manager, rc \n",
        "import matplotlib\n",
        "\n",
        "# '-' 부호가 제대로 표시되게 하는 설정 \n",
        "matplotlib.rcParams['axes.unicode_minus'] = False\n",
        "\n",
        "# 운영 체제마다 한글이 보이게 하는 설정 # 윈도우\n",
        "if platform.system() == 'Windows':\n",
        "    path = \"c:\\Windows\\Fonts\\malgun.ttf\"\n",
        "    font_name = font_manager.FontProperties(fname=path).get_name() \n",
        "    rc('font', family=font_name)\n",
        "#맥\n",
        "elif platform.system() == 'Darwin': \n",
        "    rc('font', family='AppleGothic')\n",
        "# 리눅스\n",
        "elif platform.system() == 'Linux':\n",
        "    rc('font', family='NanumBarunGothic')"
      ],
      "execution_count": null,
      "outputs": []
    },
    {
      "cell_type": "code",
      "metadata": {
        "id": "aNq0E4_rc1FY",
        "outputId": "23670ef8-de87-4661-90a2-6c390904a372"
      },
      "source": [
        "import numpy as np\n",
        "import matplotlib.pyplot as plt\n",
        "%matplotlib inline\n",
        "n = 10\n",
        "y = np.random.randn(n)\n",
        "plt.plot(range(n), y)\n",
        "plt.xlabel('시간')\n",
        "plt.ylabel('랜덤 값')"
      ],
      "execution_count": null,
      "outputs": [
        {
          "output_type": "execute_result",
          "data": {
            "text/plain": [
              "Text(0, 0.5, '랜덤 값')"
            ]
          },
          "metadata": {
            "tags": []
          },
          "execution_count": 6
        },
        {
          "output_type": "display_data",
          "data": {
            "image/png": "[encoded data removed]",
            "text/plain": [
              "<Figure size 432x288 with 1 Axes>"
            ]
          },
          "metadata": {
            "tags": [],
            "needs_background": "light"
          }
        }
      ]
    },
    {
      "cell_type": "markdown",
      "metadata": {
        "id": "s4f3dlSTc1FZ"
      },
      "source": [
        "# Rondom 숫자"
      ]
    },
    {
      "cell_type": "markdown",
      "metadata": {
        "id": "pFEzb9Edc1FZ"
      },
      "source": [
        "## random"
      ]
    },
    {
      "cell_type": "markdown",
      "metadata": {
        "id": "YgVJOgLdc1FZ"
      },
      "source": [
        "- rand() : 0~1사이 균등분포의 random 수(실수)\n",
        "- randint() : 0~1사이 균등분포의 random 수(정수)\n",
        "- randn() : 정규(Gaussian) 분포의 random 수(평균 0, 표준편차 1), 0~1 사이 아님"
      ]
    },
    {
      "cell_type": "code",
      "metadata": {
        "id": "25dj3uDIc1Fa",
        "outputId": "9a731ed3-85e7-4b65-fac2-2d380ff0cc83"
      },
      "source": [
        "import numpy as np\n",
        "\n",
        "np.random.rand(3)"
      ],
      "execution_count": null,
      "outputs": [
        {
          "output_type": "execute_result",
          "data": {
            "text/plain": [
              "array([0.00307206, 0.19974924, 0.61718814])"
            ]
          },
          "metadata": {
            "tags": []
          },
          "execution_count": 8
        }
      ]
    },
    {
      "cell_type": "code",
      "metadata": {
        "id": "8UEB7Kmjc1Fa",
        "outputId": "60b1739f-3a89-48d5-e9b7-2797b165fb91"
      },
      "source": [
        "import matplotlib.pyplot as plt\n",
        "import numpy as np\n",
        "%matplotlib inline\n",
        "\n",
        "x = range(100)\n",
        "y = np.random.rand(100)\n",
        "plt.scatter(x,y)\n",
        "plt.xlabel('x 축입니다')\n",
        "plt.ylabel('y 축입니다')"
      ],
      "execution_count": null,
      "outputs": [
        {
          "output_type": "execute_result",
          "data": {
            "text/plain": [
              "Text(0, 0.5, 'y 축입니다')"
            ]
          },
          "metadata": {
            "tags": []
          },
          "execution_count": 10
        },
        {
          "output_type": "display_data",
          "data": {
            "image/png": "[encoded data removed]",
            "text/plain": [
              "<Figure size 432x288 with 1 Axes>"
            ]
          },
          "metadata": {
            "tags": [],
            "needs_background": "light"
          }
        }
      ]
    },
    {
      "cell_type": "markdown",
      "metadata": {
        "id": "sf77V8WRc1Fb"
      },
      "source": [
        "## 몬테카를로 분석"
      ]
    },
    {
      "cell_type": "markdown",
      "metadata": {
        "id": "jpSvViulc1Fb"
      },
      "source": [
        "- random 숫자 발생을 이용하여 원주율(pi)를 시뮬레이션으로 구하는 방법\n",
        "   * 원의 면적 : pi * r**2\n",
        "   * pi = 4 * (random한 점이 원 내부에 들어올 확률)"
      ]
    },
    {
      "cell_type": "code",
      "metadata": {
        "id": "XYWVe69Vc1Fb",
        "outputId": "845dd6bc-cb0a-4d53-9d92-36ffbf09b8e3"
      },
      "source": [
        "n = 10000\n",
        "x = np.random.rand(n).round(2)\n",
        "y = np.random.rand(n).round(2)\n",
        "x,y"
      ],
      "execution_count": null,
      "outputs": [
        {
          "output_type": "execute_result",
          "data": {
            "text/plain": [
              "(array([0.03, 0.53, 0.75, ..., 0.47, 0.34, 0.88]),\n",
              " array([0.98, 0.43, 0.58, ..., 0.51, 0.19, 0.97]))"
            ]
          },
          "metadata": {
            "tags": []
          },
          "execution_count": 36
        }
      ]
    },
    {
      "cell_type": "code",
      "metadata": {
        "id": "wyuG--k9c1Fc",
        "outputId": "2ed336da-8d29-4b38-f73c-f22c1c4a8c6b"
      },
      "source": [
        "plt.figure(figsize=(6,6))\n",
        "plt.scatter(x,y, s=50) "
      ],
      "execution_count": null,
      "outputs": [
        {
          "output_type": "execute_result",
          "data": {
            "text/plain": [
              "<matplotlib.collections.PathCollection at 0x234792b5cc0>"
            ]
          },
          "metadata": {
            "tags": []
          },
          "execution_count": 37
        },
        {
          "output_type": "display_data",
          "data": {
            "image/png": "[encoded data removed]",
            "text/plain": [
              "<Figure size 432x432 with 1 Axes>"
            ]
          },
          "metadata": {
            "tags": [],
            "needs_background": "light"
          }
        }
      ]
    },
    {
      "cell_type": "code",
      "metadata": {
        "id": "Jp7db6c-c1Fc",
        "outputId": "4f0ee12e-bee9-4713-9b9e-548a68cd9287"
      },
      "source": [
        "xx=np.linspace(0,1,100) \n",
        "plt.figure(figsize=(6,6)) \n",
        "plt.plot(xx, (1-xx*xx)**0.5, c='r')"
      ],
      "execution_count": null,
      "outputs": [
        {
          "output_type": "execute_result",
          "data": {
            "text/plain": [
              "[<matplotlib.lines.Line2D at 0x23479312c18>]"
            ]
          },
          "metadata": {
            "tags": []
          },
          "execution_count": 38
        },
        {
          "output_type": "display_data",
          "data": {
            "image/png": "[encoded data removed]",
            "text/plain": [
              "<Figure size 432x432 with 1 Axes>"
            ]
          },
          "metadata": {
            "tags": [],
            "needs_background": "light"
          }
        }
      ]
    },
    {
      "cell_type": "code",
      "metadata": {
        "id": "ujuzxqMIc1Fc",
        "outputId": "6d5d1c1a-1f4c-4f82-9bf1-2166f28a370a"
      },
      "source": [
        "z = np.random.rand(500000)\n",
        "(z < 0.5).mean()"
      ],
      "execution_count": null,
      "outputs": [
        {
          "output_type": "execute_result",
          "data": {
            "text/plain": [
              "0.498254"
            ]
          },
          "metadata": {
            "tags": []
          },
          "execution_count": 39
        }
      ]
    },
    {
      "cell_type": "code",
      "metadata": {
        "id": "O-xmta9Sc1Fd",
        "outputId": "0ef9f9c7-0eff-481d-82e4-906780bea332"
      },
      "source": [
        "pi = ((x**2 + y**2) < 1).mean()*4 \n",
        "pi"
      ],
      "execution_count": null,
      "outputs": [
        {
          "output_type": "execute_result",
          "data": {
            "text/plain": [
              "3.096"
            ]
          },
          "metadata": {
            "tags": []
          },
          "execution_count": 40
        }
      ]
    },
    {
      "cell_type": "code",
      "metadata": {
        "id": "ynIG635Dc1Fd",
        "outputId": "8574c58f-3bbc-4b2d-d809-cf358a71d060"
      },
      "source": [
        "n = 100000\n",
        "x = np.random.rand(n)\n",
        "y = np.random.rand(n) \n",
        "plt.figure(figsize=(6,6)) \n",
        "plt.scatter(x,y, s=1) \n",
        "xx=np.linspace(0,1,100) \n",
        "plt.plot(xx, (1-xx*xx)**0.5, c='r')\n",
        "pi = ((x**2 + y**2) < 1).mean()*4 \n",
        "pi"
      ],
      "execution_count": null,
      "outputs": [
        {
          "output_type": "execute_result",
          "data": {
            "text/plain": [
              "3.1386"
            ]
          },
          "metadata": {
            "tags": []
          },
          "execution_count": 43
        },
        {
          "output_type": "display_data",
          "data": {
            "image/png": "[encoded data removed]",
            "text/plain": [
              "<Figure size 432x432 with 1 Axes>"
            ]
          },
          "metadata": {
            "tags": [],
            "needs_background": "light"
          }
        }
      ]
    },
    {
      "cell_type": "markdown",
      "metadata": {
        "id": "mj6QJLB7c1Fe"
      },
      "source": [
        "## 정규 분포"
      ]
    },
    {
      "cell_type": "markdown",
      "metadata": {
        "id": "ZIflwD7vc1Fe"
      },
      "source": [
        "- 주사위를 여러번 던져서 1~6 사이의 값이 몇 번 나오는 지를 확인"
      ]
    },
    {
      "cell_type": "code",
      "metadata": {
        "scrolled": true,
        "id": "An2t_c8oc1Fe",
        "outputId": "75176716-3228-49b6-fffe-33779e4bca72"
      },
      "source": [
        "x = np.random.randint(1,7, 10) ;x"
      ],
      "execution_count": null,
      "outputs": [
        {
          "output_type": "execute_result",
          "data": {
            "text/plain": [
              "array([1, 4, 5, 2, 1, 2, 2, 1, 3, 5])"
            ]
          },
          "metadata": {
            "tags": []
          },
          "execution_count": 45
        }
      ]
    },
    {
      "cell_type": "code",
      "metadata": {
        "scrolled": true,
        "id": "bS51CqiNc1Ff",
        "outputId": "6e42cf3c-42be-4d48-9646-695deea7e67a"
      },
      "source": [
        "x = np.random.randint(1,7,10000) \n",
        "plt.hist(x, bins = 6, width=0.6) \n",
        "plt.show()"
      ],
      "execution_count": null,
      "outputs": [
        {
          "output_type": "display_data",
          "data": {
            "image/png": "[encoded data removed]",
            "text/plain": [
              "<Figure size 432x288 with 1 Axes>"
            ]
          },
          "metadata": {
            "tags": [],
            "needs_background": "light"
          }
        }
      ]
    },
    {
      "cell_type": "markdown",
      "metadata": {
        "id": "z__ZSvjXc1Ff"
      },
      "source": [
        "- 2개의 주사위를 동시에 던져 나오는 값의 합(2~12 사이)의 분포 \n",
        "- 4개의 주사위를 동시에 던져 나오는 값의 합(4~24 사이)의 분포 \n",
        "- 32개의 주사위를 동시에 던져 나오는 값의 합(32~192 사이)의 분포\n",
        "- 정규분포로 수렴"
      ]
    },
    {
      "cell_type": "code",
      "metadata": {
        "id": "sT777gC-c1Fg",
        "outputId": "5244af51-912f-49c0-b362-c24d0bc88436"
      },
      "source": [
        "z = 0\n",
        "n = 2 # number of indices thrown\n",
        "for i in range(n):\n",
        "    x = np.random.randint(1,7,10000) \n",
        "    z = z + x\n",
        "plt.hist(z, bins = n*5+1, width=0.6) \n",
        "plt.show()"
      ],
      "execution_count": null,
      "outputs": [
        {
          "output_type": "display_data",
          "data": {
            "image/png": "[encoded data removed]",
            "text/plain": [
              "<Figure size 432x288 with 1 Axes>"
            ]
          },
          "metadata": {
            "tags": [],
            "needs_background": "light"
          }
        }
      ]
    },
    {
      "cell_type": "code",
      "metadata": {
        "id": "dho4KE3cc1Fg",
        "outputId": "61cbc475-1905-47ff-8f58-b18d5ad997e9"
      },
      "source": [
        "z = 0\n",
        "n = 4 # number of indices thrown\n",
        "for i in range(n):\n",
        "    x = np.random.randint(1,7,10000) \n",
        "    z = z + x\n",
        "plt.hist(z, bins = n*5+1, width=0.6) \n",
        "plt.show()"
      ],
      "execution_count": null,
      "outputs": [
        {
          "output_type": "display_data",
          "data": {
            "image/png": "[encoded data removed]",
            "text/plain": [
              "<Figure size 432x288 with 1 Axes>"
            ]
          },
          "metadata": {
            "tags": [],
            "needs_background": "light"
          }
        }
      ]
    },
    {
      "cell_type": "code",
      "metadata": {
        "id": "Ofw8ZfwVc1Fh",
        "outputId": "151c2476-2b53-4b28-fa84-ce415c1ada14"
      },
      "source": [
        "z = 0\n",
        "n = 32 # number of indices thrown\n",
        "for i in range(n):\n",
        "    x = np.random.randint(1,7,100000) \n",
        "    z = z + x\n",
        "plt.hist(z, bins = n*5+1, width=0.6) \n",
        "plt.show()"
      ],
      "execution_count": null,
      "outputs": [
        {
          "output_type": "display_data",
          "data": {
            "image/png": "[encoded data removed]",
            "text/plain": [
              "<Figure size 432x288 with 1 Axes>"
            ]
          },
          "metadata": {
            "tags": [],
            "needs_background": "light"
          }
        }
      ]
    },
    {
      "cell_type": "markdown",
      "metadata": {
        "id": "RYo3rL5Ec1Fh"
      },
      "source": [
        "## 표준 정규분포"
      ]
    },
    {
      "cell_type": "markdown",
      "metadata": {
        "id": "G-YFeMEmc1Fh"
      },
      "source": [
        "- randn() : 정규(Gaussian) 분포의 random 수(평균 0, 표준편차 1), 0~1 사이 아님 "
      ]
    },
    {
      "cell_type": "code",
      "metadata": {
        "id": "LHYeObATc1Fi",
        "outputId": "224b41d4-f6fe-4690-bdd6-f23c3d0fe17f"
      },
      "source": [
        "x = np.random.randn(3) ;x"
      ],
      "execution_count": null,
      "outputs": [
        {
          "output_type": "execute_result",
          "data": {
            "text/plain": [
              "array([ 1.16173414,  0.77537531, -0.00731146])"
            ]
          },
          "metadata": {
            "tags": []
          },
          "execution_count": 53
        }
      ]
    },
    {
      "cell_type": "code",
      "metadata": {
        "id": "n0DAwmNrc1Fi",
        "outputId": "1a4c7c89-67c3-4d84-ded8-6523c6f007c2"
      },
      "source": [
        "x = np.random.randn(100000) \n",
        "plt.hist(x, bins = 100, width=0.03) \n",
        "plt.show()"
      ],
      "execution_count": null,
      "outputs": [
        {
          "output_type": "display_data",
          "data": {
            "image/png": "[encoded data removed]",
            "text/plain": [
              "<Figure size 432x288 with 1 Axes>"
            ]
          },
          "metadata": {
            "tags": [],
            "needs_background": "light"
          }
        }
      ]
    },
    {
      "cell_type": "code",
      "metadata": {
        "id": "XPUPAqZPc1Fi"
      },
      "source": [
        ""
      ],
      "execution_count": null,
      "outputs": []
    }
  ]
}