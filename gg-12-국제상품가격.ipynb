{
  "nbformat": 4,
  "nbformat_minor": 0,
  "metadata": {
    "kernelspec": {
      "display_name": "Python 3",
      "language": "python",
      "name": "python3"
    },
    "language_info": {
      "codemirror_mode": {
        "name": "ipython",
        "version": 3
      },
      "file_extension": ".py",
      "mimetype": "text/x-python",
      "name": "python",
      "nbconvert_exporter": "python",
      "pygments_lexer": "ipython3",
      "version": "3.8.5"
    },
    "colab": {
      "name": "gg-12-국제상품가격.ipynb",
      "provenance": []
    }
  },
  "cells": [
    {
      "cell_type": "markdown",
      "metadata": {
        "collapsed": true,
        "id": "yhi-pzhW7KdX"
      },
      "source": [
        "# 국제 상품 가격 데이터\n",
        "파이썬에서 국제 원자재(금, 은, 구리, 원유)의 가격을 가져와 다루는 방법\n",
        "\n",
        "* 국제 금가격 (LBM, 런던금은시장)\n",
        "* 국제 은 가격 (LBMA, 런던 금시장협회)\n",
        "* 국제 구리 가격 (LME, 런던 금속 거래소)\n",
        "* 국제 원유가격 (서부 텍사스 중질유, 두바이유, 북해 브렌트유)\n",
        "\n",
        "<img src=\"http://i.imgur.com/qVjtvea.png\" >\n",
        "\n",
        "### 2017 http://fb.com/financedata\n",
        "\n",
        "<table class=\"tfo-notebook-buttons\" align=\"left\">\n",
        "  <td>\n",
        "    <a target=\"_blank\" href=\"https://colab.research.google.com/github/swkim01/DSAC1-2/blob/main/gg-12-국제상품가격.ipynb\"><img src=\"https://github.com/swkim01/DSAC1-2/raw/main/colab_logo_32px.png\" />구글 코랩에서 실행</a>\n",
        "  </td>\n",
        "  <td>\n",
        "    <a target=\"_blank\" href=\"https://github.com/swkim01/DSAC1-2/blob/main/gg-12-국제상품가격.ipynb\"><img src=\"https://github.com/swkim01/DSAC1-2/raw/main/GitHub-Mark-32px.png\" />깃헙에서 소스 보기</a>\n",
        "  </td>\n",
        "</table>"
      ]
    },
    {
      "cell_type": "code",
      "metadata": {
        "id": "dY8qIrYb7Kdh"
      },
      "source": [
        "%matplotlib inline\n",
        "import matplotlib.pyplot as plt\n",
        "\n",
        "plt.rcParams[\"figure.figsize\"] = (14,4)\n",
        "plt.rcParams['axes.grid'] = True "
      ],
      "execution_count": 1,
      "outputs": []
    },
    {
      "cell_type": "code",
      "metadata": {
        "id": "Sabxu_r17Kdj",
        "outputId": "d67d464d-e5d4-4328-c73b-24dff3ecc268",
        "colab": {
          "base_uri": "https://localhost:8080/"
        }
      },
      "source": [
        "!pip3 install pandas_datareader"
      ],
      "execution_count": 2,
      "outputs": [
        {
          "output_type": "stream",
          "text": [
            "Requirement already satisfied: pandas_datareader in /usr/local/lib/python3.7/dist-packages (0.9.0)\n",
            "Requirement already satisfied: requests>=2.19.0 in /usr/local/lib/python3.7/dist-packages (from pandas_datareader) (2.23.0)\n",
            "Requirement already satisfied: lxml in /usr/local/lib/python3.7/dist-packages (from pandas_datareader) (4.2.6)\n",
            "Requirement already satisfied: pandas>=0.23 in /usr/local/lib/python3.7/dist-packages (from pandas_datareader) (1.1.5)\n",
            "Requirement already satisfied: chardet<4,>=3.0.2 in /usr/local/lib/python3.7/dist-packages (from requests>=2.19.0->pandas_datareader) (3.0.4)\n",
            "Requirement already satisfied: idna<3,>=2.5 in /usr/local/lib/python3.7/dist-packages (from requests>=2.19.0->pandas_datareader) (2.10)\n",
            "Requirement already satisfied: certifi>=2017.4.17 in /usr/local/lib/python3.7/dist-packages (from requests>=2.19.0->pandas_datareader) (2020.12.5)\n",
            "Requirement already satisfied: urllib3!=1.25.0,!=1.25.1,<1.26,>=1.21.1 in /usr/local/lib/python3.7/dist-packages (from requests>=2.19.0->pandas_datareader) (1.24.3)\n",
            "Requirement already satisfied: python-dateutil>=2.7.3 in /usr/local/lib/python3.7/dist-packages (from pandas>=0.23->pandas_datareader) (2.8.1)\n",
            "Requirement already satisfied: pytz>=2017.2 in /usr/local/lib/python3.7/dist-packages (from pandas>=0.23->pandas_datareader) (2018.9)\n",
            "Requirement already satisfied: numpy>=1.15.4 in /usr/local/lib/python3.7/dist-packages (from pandas>=0.23->pandas_datareader) (1.19.5)\n",
            "Requirement already satisfied: six>=1.5 in /usr/local/lib/python3.7/dist-packages (from python-dateutil>=2.7.3->pandas>=0.23->pandas_datareader) (1.15.0)\n"
          ],
          "name": "stdout"
        }
      ]
    },
    {
      "cell_type": "code",
      "metadata": {
        "scrolled": true,
        "id": "lhW3gFKV7Kdl"
      },
      "source": [
        "import pandas as pd\n",
        "import pandas_datareader as pdr"
      ],
      "execution_count": 3,
      "outputs": []
    },
    {
      "cell_type": "markdown",
      "metadata": {
        "id": "UfVF-A607Kdm"
      },
      "source": [
        "# 국제 금가격 (런던 금시장)\n",
        "Gold Fixing Price in London Bullion Market (based in U.S. Dollar)\n",
        "* (HSBC, 도이치은행 등) 5개 은행이 회의를 통해 Gold Fixing Price 발표\n",
        "* 하루에 두 번 (10:30 AM, 3:00 PM 런던시간)\n",
        "\n",
        "FRED (세인트루이스 연방준비은행 경제 데이터)\n",
        "* https://fred.stlouisfed.org/series/GOLDAMGBD228NLBM\n",
        "* https://fred.stlouisfed.org/series/GOLDPMGBD228NLBM "
      ]
    },
    {
      "cell_type": "code",
      "metadata": {
        "id": "5zCaaXcu7Kdm",
        "outputId": "f3ed9978-67bc-4d41-f9b6-3f6b89ff7065",
        "colab": {
          "base_uri": "https://localhost:8080/",
          "height": 408
        }
      },
      "source": [
        "df_gold = pdr.DataReader('GOLDAMGBD228NLBM', 'fred', start='2000-01-01')\n",
        "\n",
        "print('row count:', len(df_gold))\n",
        "df_gold.tail(10)"
      ],
      "execution_count": 4,
      "outputs": [
        {
          "output_type": "stream",
          "text": [
            "row count: 5565\n"
          ],
          "name": "stdout"
        },
        {
          "output_type": "execute_result",
          "data": {
            "text/html": [
              "<div>\n",
              "<style scoped>\n",
              "    .dataframe tbody tr th:only-of-type {\n",
              "        vertical-align: middle;\n",
              "    }\n",
              "\n",
              "    .dataframe tbody tr th {\n",
              "        vertical-align: top;\n",
              "    }\n",
              "\n",
              "    .dataframe thead th {\n",
              "        text-align: right;\n",
              "    }\n",
              "</style>\n",
              "<table border=\"1\" class=\"dataframe\">\n",
              "  <thead>\n",
              "    <tr style=\"text-align: right;\">\n",
              "      <th></th>\n",
              "      <th>GOLDAMGBD228NLBM</th>\n",
              "    </tr>\n",
              "    <tr>\n",
              "      <th>DATE</th>\n",
              "      <th></th>\n",
              "    </tr>\n",
              "  </thead>\n",
              "  <tbody>\n",
              "    <tr>\n",
              "      <th>2021-04-19</th>\n",
              "      <td>1788.40</td>\n",
              "    </tr>\n",
              "    <tr>\n",
              "      <th>2021-04-20</th>\n",
              "      <td>1765.50</td>\n",
              "    </tr>\n",
              "    <tr>\n",
              "      <th>2021-04-21</th>\n",
              "      <td>1781.05</td>\n",
              "    </tr>\n",
              "    <tr>\n",
              "      <th>2021-04-22</th>\n",
              "      <td>1785.65</td>\n",
              "    </tr>\n",
              "    <tr>\n",
              "      <th>2021-04-23</th>\n",
              "      <td>1785.30</td>\n",
              "    </tr>\n",
              "    <tr>\n",
              "      <th>2021-04-26</th>\n",
              "      <td>1779.65</td>\n",
              "    </tr>\n",
              "    <tr>\n",
              "      <th>2021-04-27</th>\n",
              "      <td>1780.90</td>\n",
              "    </tr>\n",
              "    <tr>\n",
              "      <th>2021-04-28</th>\n",
              "      <td>1764.15</td>\n",
              "    </tr>\n",
              "    <tr>\n",
              "      <th>2021-04-29</th>\n",
              "      <td>1774.65</td>\n",
              "    </tr>\n",
              "    <tr>\n",
              "      <th>2021-04-30</th>\n",
              "      <td>1768.80</td>\n",
              "    </tr>\n",
              "  </tbody>\n",
              "</table>\n",
              "</div>"
            ],
            "text/plain": [
              "            GOLDAMGBD228NLBM\n",
              "DATE                        \n",
              "2021-04-19           1788.40\n",
              "2021-04-20           1765.50\n",
              "2021-04-21           1781.05\n",
              "2021-04-22           1785.65\n",
              "2021-04-23           1785.30\n",
              "2021-04-26           1779.65\n",
              "2021-04-27           1780.90\n",
              "2021-04-28           1764.15\n",
              "2021-04-29           1774.65\n",
              "2021-04-30           1768.80"
            ]
          },
          "metadata": {
            "tags": []
          },
          "execution_count": 4
        }
      ]
    },
    {
      "cell_type": "code",
      "metadata": {
        "scrolled": true,
        "id": "iQy6OcFz7Kdn",
        "outputId": "8a65ce69-4130-4ba7-a5ef-70af224d9b97",
        "colab": {
          "base_uri": "https://localhost:8080/",
          "height": 297
        }
      },
      "source": [
        "df_gold.plot()"
      ],
      "execution_count": 5,
      "outputs": [
        {
          "output_type": "execute_result",
          "data": {
            "text/plain": [
              "<matplotlib.axes._subplots.AxesSubplot at 0x7fcde8b2c6d0>"
            ]
          },
          "metadata": {
            "tags": []
          },
          "execution_count": 5
        },
        {
          "output_type": "display_data",
          "data": {
            "image/png": "[encoded data removed]",
            "text/plain": [
              "<Figure size 432x288 with 1 Axes>"
            ]
          },
          "metadata": {
            "tags": [],
            "needs_background": "light"
          }
        }
      ]
    },
    {
      "cell_type": "markdown",
      "metadata": {
        "id": "ix3qihHm7Kdo"
      },
      "source": [
        "# 국제 은 가격\n",
        "* https://www.quandl.com/ 다양한 금융, 경제 데이터와 API를 제공)\n",
        "*  \"LBMA/SILVER\", 런던 금시장협회 (LBMA) 은 가격 "
      ]
    },
    {
      "cell_type": "markdown",
      "metadata": {
        "id": "h9ySGsm678h8"
      },
      "source": [
        "# 변경사항\n",
        "- Qpandl 서비스는 API 키를 입력해야 동작함 (21. 5. 2)\n",
        "- 따라서 quandl 에 계정을 생성한 후 인증하고 API키를 입력함"
      ]
    },
    {
      "cell_type": "code",
      "metadata": {
        "id": "wP-IHZZ07Kdo",
        "outputId": "413aa554-dd43-42b2-8f4d-ded4edd27124",
        "colab": {
          "base_uri": "https://localhost:8080/",
          "height": 408
        }
      },
      "source": [
        "# 영국 은(silver)\n",
        "df_silver = pdr.DataReader('LBMA/SILVER', 'quandl', start='2000-01-01', api_key=\"your api key\")\n",
        "\n",
        "print('row count:', len(df_silver))\n",
        "df_silver.tail(10)"
      ],
      "execution_count": 15,
      "outputs": [
        {
          "output_type": "stream",
          "text": [
            "row count: 5391\n"
          ],
          "name": "stdout"
        },
        {
          "output_type": "execute_result",
          "data": {
            "text/html": [
              "<div>\n",
              "<style scoped>\n",
              "    .dataframe tbody tr th:only-of-type {\n",
              "        vertical-align: middle;\n",
              "    }\n",
              "\n",
              "    .dataframe tbody tr th {\n",
              "        vertical-align: top;\n",
              "    }\n",
              "\n",
              "    .dataframe thead th {\n",
              "        text-align: right;\n",
              "    }\n",
              "</style>\n",
              "<table border=\"1\" class=\"dataframe\">\n",
              "  <thead>\n",
              "    <tr style=\"text-align: right;\">\n",
              "      <th></th>\n",
              "      <th>USD</th>\n",
              "      <th>GBP</th>\n",
              "      <th>EURO</th>\n",
              "    </tr>\n",
              "    <tr>\n",
              "      <th>Date</th>\n",
              "      <th></th>\n",
              "      <th></th>\n",
              "      <th></th>\n",
              "    </tr>\n",
              "  </thead>\n",
              "  <tbody>\n",
              "    <tr>\n",
              "      <th>2000-01-17</th>\n",
              "      <td>5.1250</td>\n",
              "      <td>3.13647</td>\n",
              "      <td>5.07175</td>\n",
              "    </tr>\n",
              "    <tr>\n",
              "      <th>2000-01-14</th>\n",
              "      <td>5.0950</td>\n",
              "      <td>3.09915</td>\n",
              "      <td>4.97802</td>\n",
              "    </tr>\n",
              "    <tr>\n",
              "      <th>2000-01-13</th>\n",
              "      <td>5.0900</td>\n",
              "      <td>3.09611</td>\n",
              "      <td>4.94895</td>\n",
              "    </tr>\n",
              "    <tr>\n",
              "      <th>2000-01-12</th>\n",
              "      <td>5.1450</td>\n",
              "      <td>3.12386</td>\n",
              "      <td>4.99386</td>\n",
              "    </tr>\n",
              "    <tr>\n",
              "      <th>2000-01-11</th>\n",
              "      <td>5.1550</td>\n",
              "      <td>3.13755</td>\n",
              "      <td>5.00729</td>\n",
              "    </tr>\n",
              "    <tr>\n",
              "      <th>2000-01-10</th>\n",
              "      <td>5.1450</td>\n",
              "      <td>3.14390</td>\n",
              "      <td>5.03178</td>\n",
              "    </tr>\n",
              "    <tr>\n",
              "      <th>2000-01-07</th>\n",
              "      <td>5.1350</td>\n",
              "      <td>3.12158</td>\n",
              "      <td>4.99028</td>\n",
              "    </tr>\n",
              "    <tr>\n",
              "      <th>2000-01-06</th>\n",
              "      <td>5.1400</td>\n",
              "      <td>3.11515</td>\n",
              "      <td>4.94231</td>\n",
              "    </tr>\n",
              "    <tr>\n",
              "      <th>2000-01-05</th>\n",
              "      <td>5.2850</td>\n",
              "      <td>3.22354</td>\n",
              "      <td>5.10135</td>\n",
              "    </tr>\n",
              "    <tr>\n",
              "      <th>2000-01-04</th>\n",
              "      <td>5.3025</td>\n",
              "      <td>3.23225</td>\n",
              "      <td>5.13808</td>\n",
              "    </tr>\n",
              "  </tbody>\n",
              "</table>\n",
              "</div>"
            ],
            "text/plain": [
              "               USD      GBP     EURO\n",
              "Date                                \n",
              "2000-01-17  5.1250  3.13647  5.07175\n",
              "2000-01-14  5.0950  3.09915  4.97802\n",
              "2000-01-13  5.0900  3.09611  4.94895\n",
              "2000-01-12  5.1450  3.12386  4.99386\n",
              "2000-01-11  5.1550  3.13755  5.00729\n",
              "2000-01-10  5.1450  3.14390  5.03178\n",
              "2000-01-07  5.1350  3.12158  4.99028\n",
              "2000-01-06  5.1400  3.11515  4.94231\n",
              "2000-01-05  5.2850  3.22354  5.10135\n",
              "2000-01-04  5.3025  3.23225  5.13808"
            ]
          },
          "metadata": {
            "tags": []
          },
          "execution_count": 15
        }
      ]
    },
    {
      "cell_type": "code",
      "metadata": {
        "id": "kPTC2A2R7Kdp",
        "outputId": "d8ecfaff-0bd8-4d71-cf7c-19ab70937c70",
        "colab": {
          "base_uri": "https://localhost:8080/",
          "height": 287
        }
      },
      "source": [
        "df_silver['USD'].plot()"
      ],
      "execution_count": 16,
      "outputs": [
        {
          "output_type": "execute_result",
          "data": {
            "text/plain": [
              "<matplotlib.axes._subplots.AxesSubplot at 0x7fcde0eebad0>"
            ]
          },
          "metadata": {
            "tags": []
          },
          "execution_count": 16
        },
        {
          "output_type": "display_data",
          "data": {
            "image/png": "[encoded data removed]",
            "text/plain": [
              "<Figure size 432x288 with 1 Axes>"
            ]
          },
          "metadata": {
            "tags": [],
            "needs_background": "light"
          }
        }
      ]
    },
    {
      "cell_type": "markdown",
      "metadata": {
        "id": "1W1Ers947Kdq"
      },
      "source": [
        "# 국제 구리 가격\n",
        "* 런던 금속 거래소(London Metal Exchange), 전 세계 비철금속거래의 지표\n",
        "* Cash(현금가격), 3Months(3개월 선물가격), 15Months(15개월 선물가격) 등  "
      ]
    },
    {
      "cell_type": "code",
      "metadata": {
        "id": "IbvEo8fn7Kdq"
      },
      "source": [
        "# LME 구리 가격\n",
        "df_copper = pdr.DataReader('LME/PR_CU', 'quandl', start='2000-01-01', api_key=\"your api key\")\n",
        "\n",
        "print('row count:', len(df_copper))\n",
        "df_copper.tail(10)"
      ],
      "execution_count": null,
      "outputs": []
    },
    {
      "cell_type": "code",
      "metadata": {
        "id": "4MEA7nYs7Kdr",
        "outputId": "fe49dbb8-d851-4f6a-e6a8-12cc440ccff4"
      },
      "source": [
        "df_copper['CashSeller&Settlement'].plot()"
      ],
      "execution_count": null,
      "outputs": [
        {
          "output_type": "execute_result",
          "data": {
            "text/plain": [
              "<matplotlib.axes._subplots.AxesSubplot at 0x7ff796cd50b8>"
            ]
          },
          "metadata": {
            "tags": []
          },
          "execution_count": 8
        },
        {
          "output_type": "display_data",
          "data": {
            "image/png": "[encoded data removed]",
            "text/plain": [
              "<matplotlib.figure.Figure at 0x7ff796e66ac8>"
            ]
          },
          "metadata": {
            "tags": []
          }
        }
      ]
    },
    {
      "cell_type": "markdown",
      "metadata": {
        "id": "vDDtdrk07Kdr"
      },
      "source": [
        "# 국제 원유 가격\n",
        "국제 원유 가격을 대표하는 3대 유종이 있으며, 생산지와 대표적인 소비지역이 다르다.\n",
        "\n",
        "1. 서부 텍사스 중질유 (POILWTIUSDM): 국제 원유가격을 대표 \n",
        "1. 두바이유 (POILDUBUSDM): 한국이 주로 수입(국내 유가에 영향)\n",
        "1. 북해 브렌트유 (POILBREUSDM): 북해에서 생산, 유럽과 아프리카에서 소비\n",
        "\n",
        "FRED 링크는 각각 다음과 같다.\n",
        "* 서부 텍사스 중질유(WTI Crude):  https://fred.stlouisfed.org/series/POILWTIUSDM\n",
        "* 두바이유 (Dubai Crude): https://fred.stlouisfed.org/series/POILDUBUSDM\n",
        "* 북해 브렌트유(Brent Crude): https://fred.stlouisfed.org/series/POILBREUSDM"
      ]
    },
    {
      "cell_type": "code",
      "metadata": {
        "id": "i0JoIDde7Kds",
        "outputId": "0e7b07a7-9a50-4874-a34f-9c398f2fa6a2",
        "colab": {
          "base_uri": "https://localhost:8080/",
          "height": 408
        }
      },
      "source": [
        "# 서부 텍사스 중질유(WTI Crude), monthly\n",
        "df_wt = pdr.DataReader('POILWTIUSDM', 'fred', start='2000-01-01')\n",
        "\n",
        "print('row count:', len(df_wt))\n",
        "df_wt.tail(10)"
      ],
      "execution_count": 18,
      "outputs": [
        {
          "output_type": "stream",
          "text": [
            "row count: 255\n"
          ],
          "name": "stdout"
        },
        {
          "output_type": "execute_result",
          "data": {
            "text/html": [
              "<div>\n",
              "<style scoped>\n",
              "    .dataframe tbody tr th:only-of-type {\n",
              "        vertical-align: middle;\n",
              "    }\n",
              "\n",
              "    .dataframe tbody tr th {\n",
              "        vertical-align: top;\n",
              "    }\n",
              "\n",
              "    .dataframe thead th {\n",
              "        text-align: right;\n",
              "    }\n",
              "</style>\n",
              "<table border=\"1\" class=\"dataframe\">\n",
              "  <thead>\n",
              "    <tr style=\"text-align: right;\">\n",
              "      <th></th>\n",
              "      <th>POILWTIUSDM</th>\n",
              "    </tr>\n",
              "    <tr>\n",
              "      <th>DATE</th>\n",
              "      <th></th>\n",
              "    </tr>\n",
              "  </thead>\n",
              "  <tbody>\n",
              "    <tr>\n",
              "      <th>2020-06-01</th>\n",
              "      <td>38.302273</td>\n",
              "    </tr>\n",
              "    <tr>\n",
              "      <th>2020-07-01</th>\n",
              "      <td>40.750000</td>\n",
              "    </tr>\n",
              "    <tr>\n",
              "      <th>2020-08-01</th>\n",
              "      <td>42.364286</td>\n",
              "    </tr>\n",
              "    <tr>\n",
              "      <th>2020-09-01</th>\n",
              "      <td>39.609545</td>\n",
              "    </tr>\n",
              "    <tr>\n",
              "      <th>2020-10-01</th>\n",
              "      <td>39.529545</td>\n",
              "    </tr>\n",
              "    <tr>\n",
              "      <th>2020-11-01</th>\n",
              "      <td>41.516190</td>\n",
              "    </tr>\n",
              "    <tr>\n",
              "      <th>2020-12-01</th>\n",
              "      <td>47.093913</td>\n",
              "    </tr>\n",
              "    <tr>\n",
              "      <th>2021-01-01</th>\n",
              "      <td>51.940000</td>\n",
              "    </tr>\n",
              "    <tr>\n",
              "      <th>2021-02-01</th>\n",
              "      <td>59.081000</td>\n",
              "    </tr>\n",
              "    <tr>\n",
              "      <th>2021-03-01</th>\n",
              "      <td>62.350000</td>\n",
              "    </tr>\n",
              "  </tbody>\n",
              "</table>\n",
              "</div>"
            ],
            "text/plain": [
              "            POILWTIUSDM\n",
              "DATE                   \n",
              "2020-06-01    38.302273\n",
              "2020-07-01    40.750000\n",
              "2020-08-01    42.364286\n",
              "2020-09-01    39.609545\n",
              "2020-10-01    39.529545\n",
              "2020-11-01    41.516190\n",
              "2020-12-01    47.093913\n",
              "2021-01-01    51.940000\n",
              "2021-02-01    59.081000\n",
              "2021-03-01    62.350000"
            ]
          },
          "metadata": {
            "tags": []
          },
          "execution_count": 18
        }
      ]
    },
    {
      "cell_type": "code",
      "metadata": {
        "id": "saZgJsCj7Kds",
        "outputId": "ffd87c05-8ba2-4f58-e4d5-861f5176ea64",
        "colab": {
          "base_uri": "https://localhost:8080/",
          "height": 297
        }
      },
      "source": [
        "df_wt.columns = ['WTI Crude']\n",
        "df_wt.plot()"
      ],
      "execution_count": 19,
      "outputs": [
        {
          "output_type": "execute_result",
          "data": {
            "text/plain": [
              "<matplotlib.axes._subplots.AxesSubplot at 0x7fcde0e28c90>"
            ]
          },
          "metadata": {
            "tags": []
          },
          "execution_count": 19
        },
        {
          "output_type": "display_data",
          "data": {
            "image/png": "[encoded data removed]",
            "text/plain": [
              "<Figure size 432x288 with 1 Axes>"
            ]
          },
          "metadata": {
            "tags": [],
            "needs_background": "light"
          }
        }
      ]
    },
    {
      "cell_type": "code",
      "metadata": {
        "id": "ffmA0ccM7Kdt",
        "outputId": "374e5a4a-d8b6-4bf1-902b-ed462d558d51",
        "colab": {
          "base_uri": "https://localhost:8080/",
          "height": 408
        }
      },
      "source": [
        "# 두바이유 (Dubai Crude), monthly\n",
        "df_du = pdr.DataReader('POILDUBUSDM', 'fred', start='2000-01-01')\n",
        "\n",
        "print('row count:', len(df_du))\n",
        "df_du.tail(10)"
      ],
      "execution_count": 20,
      "outputs": [
        {
          "output_type": "stream",
          "text": [
            "row count: 255\n"
          ],
          "name": "stdout"
        },
        {
          "output_type": "execute_result",
          "data": {
            "text/html": [
              "<div>\n",
              "<style scoped>\n",
              "    .dataframe tbody tr th:only-of-type {\n",
              "        vertical-align: middle;\n",
              "    }\n",
              "\n",
              "    .dataframe tbody tr th {\n",
              "        vertical-align: top;\n",
              "    }\n",
              "\n",
              "    .dataframe thead th {\n",
              "        text-align: right;\n",
              "    }\n",
              "</style>\n",
              "<table border=\"1\" class=\"dataframe\">\n",
              "  <thead>\n",
              "    <tr style=\"text-align: right;\">\n",
              "      <th></th>\n",
              "      <th>POILDUBUSDM</th>\n",
              "    </tr>\n",
              "    <tr>\n",
              "      <th>DATE</th>\n",
              "      <th></th>\n",
              "    </tr>\n",
              "  </thead>\n",
              "  <tbody>\n",
              "    <tr>\n",
              "      <th>2020-06-01</th>\n",
              "      <td>40.138636</td>\n",
              "    </tr>\n",
              "    <tr>\n",
              "      <th>2020-07-01</th>\n",
              "      <td>42.641304</td>\n",
              "    </tr>\n",
              "    <tr>\n",
              "      <th>2020-08-01</th>\n",
              "      <td>43.705238</td>\n",
              "    </tr>\n",
              "    <tr>\n",
              "      <th>2020-09-01</th>\n",
              "      <td>41.103182</td>\n",
              "    </tr>\n",
              "    <tr>\n",
              "      <th>2020-10-01</th>\n",
              "      <td>39.704091</td>\n",
              "    </tr>\n",
              "    <tr>\n",
              "      <th>2020-11-01</th>\n",
              "      <td>42.577619</td>\n",
              "    </tr>\n",
              "    <tr>\n",
              "      <th>2020-12-01</th>\n",
              "      <td>49.316522</td>\n",
              "    </tr>\n",
              "    <tr>\n",
              "      <th>2021-01-01</th>\n",
              "      <td>53.968571</td>\n",
              "    </tr>\n",
              "    <tr>\n",
              "      <th>2021-02-01</th>\n",
              "      <td>60.366000</td>\n",
              "    </tr>\n",
              "    <tr>\n",
              "      <th>2021-03-01</th>\n",
              "      <td>63.945652</td>\n",
              "    </tr>\n",
              "  </tbody>\n",
              "</table>\n",
              "</div>"
            ],
            "text/plain": [
              "            POILDUBUSDM\n",
              "DATE                   \n",
              "2020-06-01    40.138636\n",
              "2020-07-01    42.641304\n",
              "2020-08-01    43.705238\n",
              "2020-09-01    41.103182\n",
              "2020-10-01    39.704091\n",
              "2020-11-01    42.577619\n",
              "2020-12-01    49.316522\n",
              "2021-01-01    53.968571\n",
              "2021-02-01    60.366000\n",
              "2021-03-01    63.945652"
            ]
          },
          "metadata": {
            "tags": []
          },
          "execution_count": 20
        }
      ]
    },
    {
      "cell_type": "code",
      "metadata": {
        "id": "DhqbvjVw7Kdt",
        "outputId": "1d034508-6f8f-4df2-f480-ddf514966569",
        "colab": {
          "base_uri": "https://localhost:8080/",
          "height": 297
        }
      },
      "source": [
        "df_du.columns = [' Dubai Crude']\n",
        "df_du.plot()"
      ],
      "execution_count": 21,
      "outputs": [
        {
          "output_type": "execute_result",
          "data": {
            "text/plain": [
              "<matplotlib.axes._subplots.AxesSubplot at 0x7fcde0d6c050>"
            ]
          },
          "metadata": {
            "tags": []
          },
          "execution_count": 21
        },
        {
          "output_type": "display_data",
          "data": {
            "image/png": "[encoded data removed]",
            "text/plain": [
              "<Figure size 432x288 with 1 Axes>"
            ]
          },
          "metadata": {
            "tags": [],
            "needs_background": "light"
          }
        }
      ]
    },
    {
      "cell_type": "markdown",
      "metadata": {
        "id": "KLj04WZK7Kdu"
      },
      "source": [
        "# 두 가지 이상의 유가 보기\n",
        "\n",
        "DataReader 함수의 항목을 리스트로 전달하면, 한번에 여러 항목의 데이터를 가져올 수 있다"
      ]
    },
    {
      "cell_type": "code",
      "metadata": {
        "id": "wRYcVh6w7Kdu",
        "outputId": "7c7aded4-fe84-4be1-e3c8-b4111f439c79",
        "colab": {
          "base_uri": "https://localhost:8080/",
          "height": 408
        }
      },
      "source": [
        "# POILDUBUSDM: 두바이유\n",
        "# POILWTIUSDM: 서부 텍사스 중질유\n",
        "\n",
        "df_oil = pdr.DataReader(['POILDUBUSDM', 'POILWTIUSDM'], 'fred', start='2000-01-01')\n",
        "\n",
        "print('row count:', len(df_oil))\n",
        "df_oil.tail(10)"
      ],
      "execution_count": 22,
      "outputs": [
        {
          "output_type": "stream",
          "text": [
            "row count: 255\n"
          ],
          "name": "stdout"
        },
        {
          "output_type": "execute_result",
          "data": {
            "text/html": [
              "<div>\n",
              "<style scoped>\n",
              "    .dataframe tbody tr th:only-of-type {\n",
              "        vertical-align: middle;\n",
              "    }\n",
              "\n",
              "    .dataframe tbody tr th {\n",
              "        vertical-align: top;\n",
              "    }\n",
              "\n",
              "    .dataframe thead th {\n",
              "        text-align: right;\n",
              "    }\n",
              "</style>\n",
              "<table border=\"1\" class=\"dataframe\">\n",
              "  <thead>\n",
              "    <tr style=\"text-align: right;\">\n",
              "      <th></th>\n",
              "      <th>POILDUBUSDM</th>\n",
              "      <th>POILWTIUSDM</th>\n",
              "    </tr>\n",
              "    <tr>\n",
              "      <th>DATE</th>\n",
              "      <th></th>\n",
              "      <th></th>\n",
              "    </tr>\n",
              "  </thead>\n",
              "  <tbody>\n",
              "    <tr>\n",
              "      <th>2020-06-01</th>\n",
              "      <td>40.138636</td>\n",
              "      <td>38.302273</td>\n",
              "    </tr>\n",
              "    <tr>\n",
              "      <th>2020-07-01</th>\n",
              "      <td>42.641304</td>\n",
              "      <td>40.750000</td>\n",
              "    </tr>\n",
              "    <tr>\n",
              "      <th>2020-08-01</th>\n",
              "      <td>43.705238</td>\n",
              "      <td>42.364286</td>\n",
              "    </tr>\n",
              "    <tr>\n",
              "      <th>2020-09-01</th>\n",
              "      <td>41.103182</td>\n",
              "      <td>39.609545</td>\n",
              "    </tr>\n",
              "    <tr>\n",
              "      <th>2020-10-01</th>\n",
              "      <td>39.704091</td>\n",
              "      <td>39.529545</td>\n",
              "    </tr>\n",
              "    <tr>\n",
              "      <th>2020-11-01</th>\n",
              "      <td>42.577619</td>\n",
              "      <td>41.516190</td>\n",
              "    </tr>\n",
              "    <tr>\n",
              "      <th>2020-12-01</th>\n",
              "      <td>49.316522</td>\n",
              "      <td>47.093913</td>\n",
              "    </tr>\n",
              "    <tr>\n",
              "      <th>2021-01-01</th>\n",
              "      <td>53.968571</td>\n",
              "      <td>51.940000</td>\n",
              "    </tr>\n",
              "    <tr>\n",
              "      <th>2021-02-01</th>\n",
              "      <td>60.366000</td>\n",
              "      <td>59.081000</td>\n",
              "    </tr>\n",
              "    <tr>\n",
              "      <th>2021-03-01</th>\n",
              "      <td>63.945652</td>\n",
              "      <td>62.350000</td>\n",
              "    </tr>\n",
              "  </tbody>\n",
              "</table>\n",
              "</div>"
            ],
            "text/plain": [
              "            POILDUBUSDM  POILWTIUSDM\n",
              "DATE                                \n",
              "2020-06-01    40.138636    38.302273\n",
              "2020-07-01    42.641304    40.750000\n",
              "2020-08-01    43.705238    42.364286\n",
              "2020-09-01    41.103182    39.609545\n",
              "2020-10-01    39.704091    39.529545\n",
              "2020-11-01    42.577619    41.516190\n",
              "2020-12-01    49.316522    47.093913\n",
              "2021-01-01    53.968571    51.940000\n",
              "2021-02-01    60.366000    59.081000\n",
              "2021-03-01    63.945652    62.350000"
            ]
          },
          "metadata": {
            "tags": []
          },
          "execution_count": 22
        }
      ]
    },
    {
      "cell_type": "code",
      "metadata": {
        "id": "I29X5lSE7Kdv",
        "outputId": "fa5fca46-52b4-4d73-8568-d7bdfd643e7b",
        "colab": {
          "base_uri": "https://localhost:8080/",
          "height": 297
        }
      },
      "source": [
        "df_oil.plot()"
      ],
      "execution_count": 23,
      "outputs": [
        {
          "output_type": "execute_result",
          "data": {
            "text/plain": [
              "<matplotlib.axes._subplots.AxesSubplot at 0x7fcde0cb0490>"
            ]
          },
          "metadata": {
            "tags": []
          },
          "execution_count": 23
        },
        {
          "output_type": "display_data",
          "data": {
            "image/png": "[encoded data removed]",
            "text/plain": [
              "<Figure size 432x288 with 1 Axes>"
            ]
          },
          "metadata": {
            "tags": [],
            "needs_background": "light"
          }
        }
      ]
    },
    {
      "cell_type": "markdown",
      "metadata": {
        "id": "VKB3oJPk7Kdv"
      },
      "source": [
        "# 두 가격의 차이\n",
        "두 가격을 함께 놓고 보니, 두바이유와 서부 텍사스 중질유의 가격이 거의 같으나 약간 차이가 있다. \n",
        "\n",
        "차이를 구해서 상세하게 살펴보자"
      ]
    },
    {
      "cell_type": "code",
      "metadata": {
        "id": "sygndnZe7Kdw",
        "outputId": "edc0f2ab-7bdd-49f0-e5c1-3ebc87ab99a7",
        "colab": {
          "base_uri": "https://localhost:8080/",
          "height": 390
        }
      },
      "source": [
        "df_oil['diff'] = df_oil['POILDUBUSDM'] -  df_oil['POILWTIUSDM']\n",
        "df_oil.tail(10)"
      ],
      "execution_count": 24,
      "outputs": [
        {
          "output_type": "execute_result",
          "data": {
            "text/html": [
              "<div>\n",
              "<style scoped>\n",
              "    .dataframe tbody tr th:only-of-type {\n",
              "        vertical-align: middle;\n",
              "    }\n",
              "\n",
              "    .dataframe tbody tr th {\n",
              "        vertical-align: top;\n",
              "    }\n",
              "\n",
              "    .dataframe thead th {\n",
              "        text-align: right;\n",
              "    }\n",
              "</style>\n",
              "<table border=\"1\" class=\"dataframe\">\n",
              "  <thead>\n",
              "    <tr style=\"text-align: right;\">\n",
              "      <th></th>\n",
              "      <th>POILDUBUSDM</th>\n",
              "      <th>POILWTIUSDM</th>\n",
              "      <th>diff</th>\n",
              "    </tr>\n",
              "    <tr>\n",
              "      <th>DATE</th>\n",
              "      <th></th>\n",
              "      <th></th>\n",
              "      <th></th>\n",
              "    </tr>\n",
              "  </thead>\n",
              "  <tbody>\n",
              "    <tr>\n",
              "      <th>2020-06-01</th>\n",
              "      <td>40.138636</td>\n",
              "      <td>38.302273</td>\n",
              "      <td>1.836364</td>\n",
              "    </tr>\n",
              "    <tr>\n",
              "      <th>2020-07-01</th>\n",
              "      <td>42.641304</td>\n",
              "      <td>40.750000</td>\n",
              "      <td>1.891304</td>\n",
              "    </tr>\n",
              "    <tr>\n",
              "      <th>2020-08-01</th>\n",
              "      <td>43.705238</td>\n",
              "      <td>42.364286</td>\n",
              "      <td>1.340952</td>\n",
              "    </tr>\n",
              "    <tr>\n",
              "      <th>2020-09-01</th>\n",
              "      <td>41.103182</td>\n",
              "      <td>39.609545</td>\n",
              "      <td>1.493636</td>\n",
              "    </tr>\n",
              "    <tr>\n",
              "      <th>2020-10-01</th>\n",
              "      <td>39.704091</td>\n",
              "      <td>39.529545</td>\n",
              "      <td>0.174545</td>\n",
              "    </tr>\n",
              "    <tr>\n",
              "      <th>2020-11-01</th>\n",
              "      <td>42.577619</td>\n",
              "      <td>41.516190</td>\n",
              "      <td>1.061429</td>\n",
              "    </tr>\n",
              "    <tr>\n",
              "      <th>2020-12-01</th>\n",
              "      <td>49.316522</td>\n",
              "      <td>47.093913</td>\n",
              "      <td>2.222609</td>\n",
              "    </tr>\n",
              "    <tr>\n",
              "      <th>2021-01-01</th>\n",
              "      <td>53.968571</td>\n",
              "      <td>51.940000</td>\n",
              "      <td>2.028571</td>\n",
              "    </tr>\n",
              "    <tr>\n",
              "      <th>2021-02-01</th>\n",
              "      <td>60.366000</td>\n",
              "      <td>59.081000</td>\n",
              "      <td>1.285000</td>\n",
              "    </tr>\n",
              "    <tr>\n",
              "      <th>2021-03-01</th>\n",
              "      <td>63.945652</td>\n",
              "      <td>62.350000</td>\n",
              "      <td>1.595652</td>\n",
              "    </tr>\n",
              "  </tbody>\n",
              "</table>\n",
              "</div>"
            ],
            "text/plain": [
              "            POILDUBUSDM  POILWTIUSDM      diff\n",
              "DATE                                          \n",
              "2020-06-01    40.138636    38.302273  1.836364\n",
              "2020-07-01    42.641304    40.750000  1.891304\n",
              "2020-08-01    43.705238    42.364286  1.340952\n",
              "2020-09-01    41.103182    39.609545  1.493636\n",
              "2020-10-01    39.704091    39.529545  0.174545\n",
              "2020-11-01    42.577619    41.516190  1.061429\n",
              "2020-12-01    49.316522    47.093913  2.222609\n",
              "2021-01-01    53.968571    51.940000  2.028571\n",
              "2021-02-01    60.366000    59.081000  1.285000\n",
              "2021-03-01    63.945652    62.350000  1.595652"
            ]
          },
          "metadata": {
            "tags": []
          },
          "execution_count": 24
        }
      ]
    },
    {
      "cell_type": "code",
      "metadata": {
        "id": "9dtrC-SZ7Kdw",
        "outputId": "8ffd718c-6377-4f12-8e0e-d1903236fe07",
        "colab": {
          "base_uri": "https://localhost:8080/",
          "height": 297
        }
      },
      "source": [
        "df_oil['diff'].plot()"
      ],
      "execution_count": 25,
      "outputs": [
        {
          "output_type": "execute_result",
          "data": {
            "text/plain": [
              "<matplotlib.axes._subplots.AxesSubplot at 0x7fcde0c49790>"
            ]
          },
          "metadata": {
            "tags": []
          },
          "execution_count": 25
        },
        {
          "output_type": "display_data",
          "data": {
            "image/png": "[encoded data removed]",
            "text/plain": [
              "<Figure size 432x288 with 1 Axes>"
            ]
          },
          "metadata": {
            "tags": [],
            "needs_background": "light"
          }
        }
      ]
    },
    {
      "cell_type": "markdown",
      "metadata": {
        "id": "ipU5dud07Kdx"
      },
      "source": [
        "가격의 차이를 좀 더 분명하게 표현해 보자. 0을 기준으로 낮으면 파란색, 높으면 빨간색으로 표시한다."
      ]
    },
    {
      "cell_type": "code",
      "metadata": {
        "id": "IBBqBgG77Kdx",
        "outputId": "1f2eb40e-e0a7-461f-d648-a362f81c5966",
        "colab": {
          "base_uri": "https://localhost:8080/",
          "height": 297
        }
      },
      "source": [
        "ax = df_oil['diff'].plot(color='k')\n",
        "\n",
        "x = df_oil.index\n",
        "y = df_oil['diff']\n",
        "\n",
        "ax.fill_between(x, 0, y, where=y > 0, facecolor='r', alpha=0.6, interpolate=True)\n",
        "ax.fill_between(x, 0, y, where=y <= 0, facecolor='b', alpha=0.6, interpolate=True)"
      ],
      "execution_count": 26,
      "outputs": [
        {
          "output_type": "execute_result",
          "data": {
            "text/plain": [
              "<matplotlib.collections.PolyCollection at 0x7fcde0e0d290>"
            ]
          },
          "metadata": {
            "tags": []
          },
          "execution_count": 26
        },
        {
          "output_type": "display_data",
          "data": {
            "image/png": "[encoded data removed]",
            "text/plain": [
              "<Figure size 432x288 with 1 Axes>"
            ]
          },
          "metadata": {
            "tags": [],
            "needs_background": "light"
          }
        }
      ]
    },
    {
      "cell_type": "markdown",
      "metadata": {
        "id": "9Zkl7W7F7Kdy"
      },
      "source": [
        "### 2017 http://fb.com/financedata"
      ]
    }
  ]
}