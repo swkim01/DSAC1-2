{
 "cells": [
  {
   "cell_type": "markdown",
   "metadata": {},
   "source": [
    "# 영문 이름으로 성별 예측\n",
    "- 미국 남녀 이름의 alphabet을 보고 남녀 성별을 예측\n",
    "\n",
    "<table class=\"tfo-notebook-buttons\" align=\"left\">\n",
    "  <td>\n",
    "    <a target=\"_blank\" href=\"https://colab.research.google.com/github/swkim01/DSAC1-2/blob/main/gg-15-이름성별예측.ipynb\"><img src=\"https://github.com/swkim01/DSAC1-2/raw/main/colab_logo_32px.png\" />구글 코랩에서 실행</a>\n",
    "  </td>\n",
    "  <td>\n",
    "    <a target=\"_blank\" href=\"https://github.com/swkim01/DSAC1-2/blob/main/gg-15-이름성별예측.ipynb\"><img src=\"https://github.com/swkim01/DSAC1-2/raw/main/GitHub-Mark-32px.png\" />깃헙에서 소스 보기</a>\n",
    "  </td>\n",
    "</table>"
   ]
  },
  {
   "cell_type": "markdown",
   "metadata": {},
   "source": [
    "- nltk : natural language toolkit\n",
    "- nltk에서 제공하는 남녀 이름 database를 download"
   ]
  },
  {
   "cell_type": "code",
   "execution_count": 1,
   "metadata": {
    "scrolled": false
   },
   "outputs": [
    {
     "name": "stderr",
     "output_type": "stream",
     "text": [
      "[nltk_data] Downloading package names to\n",
      "[nltk_data]     C:\\Users\\admin\\AppData\\Roaming\\nltk_data...\n",
      "[nltk_data]   Package names is already up-to-date!\n"
     ]
    },
    {
     "data": {
      "text/plain": [
       "True"
      ]
     },
     "execution_count": 1,
     "metadata": {},
     "output_type": "execute_result"
    }
   ],
   "source": [
    "from nltk.corpus import names\n",
    "import nltk\n",
    "\n",
    "nltk.download('names')"
   ]
  },
  {
   "cell_type": "markdown",
   "metadata": {},
   "source": [
    "- male.txt : 남자 이름 database\n",
    "- female.txt : 여자 이름 database"
   ]
  },
  {
   "cell_type": "code",
   "execution_count": 10,
   "metadata": {
    "scrolled": false
   },
   "outputs": [
    {
     "data": {
      "text/plain": [
       "[('Aamir', '남자'),\n",
       " ('Aaron', '남자'),\n",
       " ('Abbey', '남자'),\n",
       " ('Abbie', '남자'),\n",
       " ('Abbot', '남자'),\n",
       " ('Abbott', '남자'),\n",
       " ('Abby', '남자'),\n",
       " ('Abdel', '남자'),\n",
       " ('Abdul', '남자'),\n",
       " ('Abdulkarim', '남자')]"
      ]
     },
     "execution_count": 10,
     "metadata": {},
     "output_type": "execute_result"
    }
   ],
   "source": [
    "labeled_names = ([(name, '남자') for name in names.words('male.txt')] + \n",
    "                 [(name, '여자') for name in names.words('female.txt')])\n",
    "labeled_names[:10]"
   ]
  },
  {
   "cell_type": "code",
   "execution_count": 11,
   "metadata": {},
   "outputs": [
    {
     "data": {
      "text/plain": [
       "[('Yaakov', '남자'),\n",
       " ('Elihu', '남자'),\n",
       " ('Susann', '여자'),\n",
       " ('Lira', '여자'),\n",
       " ('Maxwell', '남자'),\n",
       " ('Agneta', '여자'),\n",
       " ('Natalee', '여자'),\n",
       " ('Willyt', '여자'),\n",
       " ('Kath', '여자'),\n",
       " ('Waldo', '남자')]"
      ]
     },
     "execution_count": 11,
     "metadata": {},
     "output_type": "execute_result"
    }
   ],
   "source": [
    "import random\n",
    "\n",
    "random.shuffle(labeled_names,  )\n",
    "labeled_names[0:10]"
   ]
  },
  {
   "cell_type": "markdown",
   "metadata": {},
   "source": [
    "- gender_features() : 마지막 글자 한 자만 추출한다.\n",
    "   * 이름의 마지막 문자가 성별과 많이 관련있다고 알려져 있다. 확인 필요\n",
    "   * 마지막 문자를 이용해 성별을 예측해 보는 모델 생성"
   ]
  },
  {
   "cell_type": "code",
   "execution_count": 13,
   "metadata": {},
   "outputs": [
    {
     "data": {
      "text/plain": [
       "{'last_letter': 'i'}"
      ]
     },
     "execution_count": 13,
     "metadata": {},
     "output_type": "execute_result"
    }
   ],
   "source": [
    "def gender_features(word):\n",
    "    return {'last_letter': word[-1]}\n",
    "\n",
    "gender_features('Sopi')"
   ]
  },
  {
   "cell_type": "code",
   "execution_count": 14,
   "metadata": {},
   "outputs": [
    {
     "data": {
      "text/plain": [
       "[({'last_letter': 'v'}, '남자'),\n",
       " ({'last_letter': 'u'}, '남자'),\n",
       " ({'last_letter': 'n'}, '여자'),\n",
       " ({'last_letter': 'a'}, '여자'),\n",
       " ({'last_letter': 'l'}, '남자'),\n",
       " ({'last_letter': 'a'}, '여자'),\n",
       " ({'last_letter': 'e'}, '여자'),\n",
       " ({'last_letter': 't'}, '여자'),\n",
       " ({'last_letter': 'h'}, '여자'),\n",
       " ({'last_letter': 'o'}, '남자')]"
      ]
     },
     "execution_count": 14,
     "metadata": {},
     "output_type": "execute_result"
    }
   ],
   "source": [
    "featuresets = [(gender_features(n), gender) for (n, gender) in labeled_names]\n",
    "featuresets[0:10]"
   ]
  },
  {
   "cell_type": "code",
   "execution_count": 15,
   "metadata": {},
   "outputs": [
    {
     "data": {
      "text/plain": [
       "7944"
      ]
     },
     "execution_count": 15,
     "metadata": {},
     "output_type": "execute_result"
    }
   ],
   "source": [
    "len(featuresets)"
   ]
  },
  {
   "cell_type": "markdown",
   "metadata": {},
   "source": [
    "### NaiveBaysesClassifier \n",
    "- train_set : 2,000 ~ 끝까지\n",
    "- test_set : 0 ~ 1999"
   ]
  },
  {
   "cell_type": "code",
   "execution_count": 16,
   "metadata": {},
   "outputs": [],
   "source": [
    "train_set, test_set = featuresets[2000:], featuresets[:2000]\n",
    "classifier = nltk.NaiveBayesClassifier.train(train_set)"
   ]
  },
  {
   "cell_type": "code",
   "execution_count": 17,
   "metadata": {},
   "outputs": [
    {
     "data": {
      "text/plain": [
       "'여자'"
      ]
     },
     "execution_count": 17,
     "metadata": {},
     "output_type": "execute_result"
    }
   ],
   "source": [
    "classifier.classify(gender_features('Sephipa'))"
   ]
  },
  {
   "cell_type": "code",
   "execution_count": 18,
   "metadata": {},
   "outputs": [
    {
     "name": "stdout",
     "output_type": "stream",
     "text": [
      "Most Informative Features\n",
      "             last_letter = 'a'                여자 : 남자     =     39.2 : 1.0\n",
      "             last_letter = 'k'                남자 : 여자     =     37.0 : 1.0\n",
      "             last_letter = 'f'                남자 : 여자     =     11.5 : 1.0\n",
      "             last_letter = 'd'                남자 : 여자     =      9.2 : 1.0\n",
      "             last_letter = 'm'                남자 : 여자     =      8.0 : 1.0\n"
     ]
    }
   ],
   "source": [
    "#  likelihood ratios\n",
    "classifier.show_most_informative_features(5)"
   ]
  },
  {
   "cell_type": "code",
   "execution_count": 19,
   "metadata": {},
   "outputs": [
    {
     "name": "stdout",
     "output_type": "stream",
     "text": [
      "0.767\n"
     ]
    }
   ],
   "source": [
    "print(nltk.classify.accuracy(classifier, test_set))"
   ]
  },
  {
   "cell_type": "markdown",
   "metadata": {},
   "source": [
    "### 새로운 특성 사용\n",
    "- 이름의 첫번째 문자\n",
    "- 이름의 마지막 문자\n",
    "- 이름의 전체 길이\n",
    "- 이름에서의 각 alphabet의 빈도 수"
   ]
  },
  {
   "cell_type": "code",
   "execution_count": 20,
   "metadata": {
    "scrolled": true
   },
   "outputs": [
    {
     "data": {
      "text/plain": [
       "{'first_letter': 'j',\n",
       " 'last_letter': 'a',\n",
       " 'length': 6,\n",
       " 'count(a)': 1,\n",
       " 'count(b)': 0,\n",
       " 'count(c)': 0,\n",
       " 'count(d)': 0,\n",
       " 'count(e)': 0,\n",
       " 'count(f)': 0,\n",
       " 'count(g)': 0,\n",
       " 'count(h)': 1,\n",
       " 'count(i)': 0,\n",
       " 'count(j)': 1,\n",
       " 'count(k)': 0,\n",
       " 'count(l)': 0,\n",
       " 'count(m)': 0,\n",
       " 'count(n)': 0,\n",
       " 'count(o)': 1,\n",
       " 'count(p)': 0,\n",
       " 'count(q)': 0,\n",
       " 'count(r)': 0,\n",
       " 'count(s)': 1,\n",
       " 'count(t)': 0,\n",
       " 'count(u)': 1,\n",
       " 'count(v)': 0,\n",
       " 'count(w)': 0,\n",
       " 'count(x)': 0,\n",
       " 'count(y)': 0,\n",
       " 'count(z)': 0}"
      ]
     },
     "execution_count": 20,
     "metadata": {},
     "output_type": "execute_result"
    }
   ],
   "source": [
    "def gender_features2(name):\n",
    "    features = {}\n",
    "    features[\"first_letter\"] = name[0].lower()\n",
    "    features[\"last_letter\"] = name[-1].lower()\n",
    "    features[\"length\"] = len(name)\n",
    "    for letter in 'abcdefghijklmnopqrstuvwxyz':\n",
    "        features[\"count({})\".format(letter)] = name.lower().count(letter)\n",
    "#        features[\"has({})\".format(letter)] = (letter in name.lower())\n",
    "    return features\n",
    "\n",
    "gender_features2('Joshua') "
   ]
  },
  {
   "cell_type": "code",
   "execution_count": 21,
   "metadata": {},
   "outputs": [
    {
     "data": {
      "text/plain": [
       "[('Yaakov', '남자'),\n",
       " ('Elihu', '남자'),\n",
       " ('Susann', '여자'),\n",
       " ('Lira', '여자'),\n",
       " ('Maxwell', '남자'),\n",
       " ('Agneta', '여자'),\n",
       " ('Natalee', '여자'),\n",
       " ('Willyt', '여자'),\n",
       " ('Kath', '여자'),\n",
       " ('Waldo', '남자')]"
      ]
     },
     "execution_count": 21,
     "metadata": {},
     "output_type": "execute_result"
    }
   ],
   "source": [
    "labeled_names[0:10]"
   ]
  },
  {
   "cell_type": "code",
   "execution_count": 22,
   "metadata": {},
   "outputs": [
    {
     "data": {
      "text/plain": [
       "[({'first_letter': 'y',\n",
       "   'last_letter': 'v',\n",
       "   'length': 6,\n",
       "   'count(a)': 2,\n",
       "   'count(b)': 0,\n",
       "   'count(c)': 0,\n",
       "   'count(d)': 0,\n",
       "   'count(e)': 0,\n",
       "   'count(f)': 0,\n",
       "   'count(g)': 0,\n",
       "   'count(h)': 0,\n",
       "   'count(i)': 0,\n",
       "   'count(j)': 0,\n",
       "   'count(k)': 1,\n",
       "   'count(l)': 0,\n",
       "   'count(m)': 0,\n",
       "   'count(n)': 0,\n",
       "   'count(o)': 1,\n",
       "   'count(p)': 0,\n",
       "   'count(q)': 0,\n",
       "   'count(r)': 0,\n",
       "   'count(s)': 0,\n",
       "   'count(t)': 0,\n",
       "   'count(u)': 0,\n",
       "   'count(v)': 1,\n",
       "   'count(w)': 0,\n",
       "   'count(x)': 0,\n",
       "   'count(y)': 1,\n",
       "   'count(z)': 0},\n",
       "  '남자'),\n",
       " ({'first_letter': 'e',\n",
       "   'last_letter': 'u',\n",
       "   'length': 5,\n",
       "   'count(a)': 0,\n",
       "   'count(b)': 0,\n",
       "   'count(c)': 0,\n",
       "   'count(d)': 0,\n",
       "   'count(e)': 1,\n",
       "   'count(f)': 0,\n",
       "   'count(g)': 0,\n",
       "   'count(h)': 1,\n",
       "   'count(i)': 1,\n",
       "   'count(j)': 0,\n",
       "   'count(k)': 0,\n",
       "   'count(l)': 1,\n",
       "   'count(m)': 0,\n",
       "   'count(n)': 0,\n",
       "   'count(o)': 0,\n",
       "   'count(p)': 0,\n",
       "   'count(q)': 0,\n",
       "   'count(r)': 0,\n",
       "   'count(s)': 0,\n",
       "   'count(t)': 0,\n",
       "   'count(u)': 1,\n",
       "   'count(v)': 0,\n",
       "   'count(w)': 0,\n",
       "   'count(x)': 0,\n",
       "   'count(y)': 0,\n",
       "   'count(z)': 0},\n",
       "  '남자')]"
      ]
     },
     "execution_count": 22,
     "metadata": {},
     "output_type": "execute_result"
    }
   ],
   "source": [
    "featuresets = [(gender_features2(n), gender) for (n, gender) in labeled_names]\n",
    "featuresets[0:2]"
   ]
  },
  {
   "cell_type": "code",
   "execution_count": 23,
   "metadata": {
    "scrolled": true
   },
   "outputs": [
    {
     "name": "stdout",
     "output_type": "stream",
     "text": [
      "0.7885\n"
     ]
    }
   ],
   "source": [
    "train_set, test_set = featuresets[2000:], featuresets[:2000]\n",
    "classifier = nltk.NaiveBayesClassifier.train(train_set)\n",
    "print(nltk.classify.accuracy(classifier, test_set))"
   ]
  },
  {
   "cell_type": "code",
   "execution_count": 24,
   "metadata": {},
   "outputs": [
    {
     "name": "stdout",
     "output_type": "stream",
     "text": [
      "Most Informative Features\n",
      "             last_letter = 'a'                여자 : 남자     =     39.2 : 1.0\n",
      "             last_letter = 'k'                남자 : 여자     =     37.0 : 1.0\n",
      "             last_letter = 'f'                남자 : 여자     =     11.5 : 1.0\n",
      "             last_letter = 'd'                남자 : 여자     =      9.2 : 1.0\n",
      "             last_letter = 'm'                남자 : 여자     =      8.0 : 1.0\n",
      "             last_letter = 'o'                남자 : 여자     =      7.8 : 1.0\n",
      "             last_letter = 'r'                남자 : 여자     =      7.7 : 1.0\n",
      "             last_letter = 'z'                남자 : 여자     =      6.9 : 1.0\n",
      "             last_letter = 'v'                남자 : 여자     =      5.6 : 1.0\n",
      "             last_letter = 'g'                남자 : 여자     =      5.5 : 1.0\n",
      "             last_letter = 'w'                남자 : 여자     =      5.4 : 1.0\n",
      "            first_letter = 'w'                남자 : 여자     =      5.0 : 1.0\n",
      "                count(w) = 1                  남자 : 여자     =      4.5 : 1.0\n",
      "                count(a) = 3                  여자 : 남자     =      4.3 : 1.0\n",
      "             last_letter = 's'                남자 : 여자     =      4.2 : 1.0\n",
      "             last_letter = 't'                남자 : 여자     =      4.2 : 1.0\n",
      "             last_letter = 'b'                남자 : 여자     =      4.2 : 1.0\n",
      "             last_letter = 'i'                여자 : 남자     =      3.9 : 1.0\n",
      "                count(f) = 2                  남자 : 여자     =      3.7 : 1.0\n",
      "                count(i) = 3                  남자 : 여자     =      3.6 : 1.0\n",
      "                count(o) = 2                  남자 : 여자     =      3.3 : 1.0\n",
      "                count(e) = 3                  여자 : 남자     =      2.9 : 1.0\n",
      "                count(a) = 2                  여자 : 남자     =      2.9 : 1.0\n",
      "                count(u) = 2                  남자 : 여자     =      2.8 : 1.0\n",
      "                count(l) = 3                  여자 : 남자     =      2.8 : 1.0\n",
      "                count(d) = 3                  남자 : 여자     =      2.7 : 1.0\n",
      "            first_letter = 'u'                남자 : 여자     =      2.7 : 1.0\n",
      "            first_letter = 'q'                남자 : 여자     =      2.5 : 1.0\n",
      "                count(y) = 2                  여자 : 남자     =      2.4 : 1.0\n",
      "            first_letter = 'z'                남자 : 여자     =      2.2 : 1.0\n",
      "            first_letter = 'h'                남자 : 여자     =      2.2 : 1.0\n",
      "             last_letter = 'x'                남자 : 여자     =      2.1 : 1.0\n",
      "                count(h) = 2                  남자 : 여자     =      2.1 : 1.0\n",
      "                count(n) = 3                  여자 : 남자     =      2.1 : 1.0\n",
      "            first_letter = 'k'                여자 : 남자     =      2.1 : 1.0\n",
      "                count(p) = 2                  남자 : 여자     =      2.0 : 1.0\n",
      "             last_letter = 'n'                남자 : 여자     =      2.0 : 1.0\n",
      "                count(z) = 1                  남자 : 여자     =      2.0 : 1.0\n",
      "                count(r) = 2                  남자 : 여자     =      2.0 : 1.0\n",
      "             last_letter = 'u'                남자 : 여자     =      1.9 : 1.0\n",
      "                  length = 2                  남자 : 여자     =      1.9 : 1.0\n",
      "                  length = 3                  남자 : 여자     =      1.8 : 1.0\n",
      "                count(p) = 1                  남자 : 여자     =      1.8 : 1.0\n",
      "                count(u) = 1                  남자 : 여자     =      1.8 : 1.0\n",
      "             last_letter = 'e'                여자 : 남자     =      1.8 : 1.0\n",
      "                count(i) = 2                  여자 : 남자     =      1.8 : 1.0\n",
      "                count(n) = 2                  여자 : 남자     =      1.7 : 1.0\n",
      "            first_letter = 'l'                여자 : 남자     =      1.7 : 1.0\n",
      "                count(l) = 2                  여자 : 남자     =      1.7 : 1.0\n",
      "                count(d) = 2                  남자 : 여자     =      1.7 : 1.0\n",
      "                count(k) = 2                  여자 : 남자     =      1.7 : 1.0\n",
      "            first_letter = 'c'                여자 : 남자     =      1.7 : 1.0\n",
      "             last_letter = 'l'                남자 : 여자     =      1.7 : 1.0\n",
      "                count(m) = 3                  남자 : 여자     =      1.6 : 1.0\n",
      "                count(l) = 4                  남자 : 여자     =      1.6 : 1.0\n",
      "                  length = 15                 남자 : 여자     =      1.6 : 1.0\n",
      "                  length = 12                 남자 : 여자     =      1.6 : 1.0\n",
      "             last_letter = 'j'                남자 : 여자     =      1.6 : 1.0\n",
      "            first_letter = 'x'                남자 : 여자     =      1.6 : 1.0\n",
      "                count(e) = 2                  여자 : 남자     =      1.6 : 1.0\n",
      "                count(m) = 2                  남자 : 여자     =      1.6 : 1.0\n",
      "                count(f) = 1                  남자 : 여자     =      1.6 : 1.0\n",
      "                count(g) = 1                  남자 : 여자     =      1.6 : 1.0\n",
      "                count(a) = 0                  남자 : 여자     =      1.6 : 1.0\n",
      "            first_letter = 'y'                남자 : 여자     =      1.5 : 1.0\n",
      "                count(b) = 2                  여자 : 남자     =      1.5 : 1.0\n",
      "                count(t) = 2                  여자 : 남자     =      1.5 : 1.0\n",
      "            first_letter = 't'                남자 : 여자     =      1.5 : 1.0\n",
      "             last_letter = 'h'                남자 : 여자     =      1.5 : 1.0\n",
      "            first_letter = 'o'                남자 : 여자     =      1.5 : 1.0\n",
      "            first_letter = 'm'                여자 : 남자     =      1.5 : 1.0\n",
      "                count(s) = 3                  여자 : 남자     =      1.4 : 1.0\n",
      "            first_letter = 'p'                남자 : 여자     =      1.4 : 1.0\n",
      "                count(o) = 1                  남자 : 여자     =      1.4 : 1.0\n",
      "                count(v) = 1                  남자 : 여자     =      1.4 : 1.0\n",
      "                count(b) = 1                  남자 : 여자     =      1.4 : 1.0\n",
      "                count(s) = 2                  여자 : 남자     =      1.4 : 1.0\n",
      "                  length = 10                 여자 : 남자     =      1.4 : 1.0\n",
      "                count(s) = 1                  남자 : 여자     =      1.3 : 1.0\n",
      "            first_letter = 'g'                남자 : 여자     =      1.3 : 1.0\n",
      "                  length = 9                  여자 : 남자     =      1.3 : 1.0\n",
      "            first_letter = 's'                남자 : 여자     =      1.3 : 1.0\n",
      "                count(i) = 1                  여자 : 남자     =      1.3 : 1.0\n",
      "                  length = 11                 여자 : 남자     =      1.3 : 1.0\n",
      "                count(i) = 0                  남자 : 여자     =      1.3 : 1.0\n",
      "                count(b) = 3                  남자 : 여자     =      1.3 : 1.0\n",
      "            first_letter = 'r'                남자 : 여자     =      1.3 : 1.0\n",
      "            first_letter = 'a'                여자 : 남자     =      1.3 : 1.0\n",
      "                count(t) = 1                  남자 : 여자     =      1.3 : 1.0\n",
      "                  length = 4                  남자 : 여자     =      1.2 : 1.0\n",
      "            first_letter = 'b'                남자 : 여자     =      1.2 : 1.0\n",
      "                count(h) = 1                  남자 : 여자     =      1.2 : 1.0\n",
      "                count(l) = 1                  여자 : 남자     =      1.2 : 1.0\n",
      "            first_letter = 'e'                여자 : 남자     =      1.2 : 1.0\n",
      "             last_letter = 'y'                남자 : 여자     =      1.2 : 1.0\n",
      "                count(d) = 1                  남자 : 여자     =      1.2 : 1.0\n",
      "            first_letter = 'd'                여자 : 남자     =      1.2 : 1.0\n",
      "            first_letter = 'v'                여자 : 남자     =      1.2 : 1.0\n",
      "                count(l) = 0                  남자 : 여자     =      1.2 : 1.0\n",
      "                count(o) = 0                  여자 : 남자     =      1.2 : 1.0\n"
     ]
    }
   ],
   "source": [
    "classifier.show_most_informative_features(100)"
   ]
  },
  {
   "cell_type": "markdown",
   "metadata": {},
   "source": [
    "### 잘못 예측한 경우에 대한 조사"
   ]
  },
  {
   "cell_type": "code",
   "execution_count": 26,
   "metadata": {},
   "outputs": [],
   "source": [
    "train_names = labeled_names[1500:]\n",
    "devtest_names = labeled_names[500:1500]\n",
    "test_names = labeled_names[:500]"
   ]
  },
  {
   "cell_type": "code",
   "execution_count": 27,
   "metadata": {},
   "outputs": [
    {
     "name": "stdout",
     "output_type": "stream",
     "text": [
      "0.78\n"
     ]
    }
   ],
   "source": [
    "train_set = [(gender_features(n), gender) for (n, gender) in train_names]\n",
    "devtest_set = [(gender_features(n), gender) for (n, gender) in devtest_names]\n",
    "test_set = [(gender_features(n), gender) for (n, gender) in test_names]\n",
    "classifier = nltk.NaiveBayesClassifier.train(train_set)\n",
    "print(nltk.classify.accuracy(classifier, devtest_set)) "
   ]
  },
  {
   "cell_type": "code",
   "execution_count": 28,
   "metadata": {},
   "outputs": [
    {
     "data": {
      "text/plain": [
       "[({'last_letter': 'r'}, '남자'),\n",
       " ({'last_letter': 'c'}, '남자'),\n",
       " ({'last_letter': 'l'}, '여자'),\n",
       " ({'last_letter': 'y'}, '남자'),\n",
       " ({'last_letter': 'a'}, '여자'),\n",
       " ({'last_letter': 'n'}, '남자'),\n",
       " ({'last_letter': 'y'}, '남자'),\n",
       " ({'last_letter': 'a'}, '남자'),\n",
       " ({'last_letter': 'y'}, '여자'),\n",
       " ({'last_letter': 'a'}, '여자'),\n",
       " ({'last_letter': 'y'}, '남자'),\n",
       " ({'last_letter': 'a'}, '여자'),\n",
       " ({'last_letter': 'a'}, '여자'),\n",
       " ({'last_letter': 'e'}, '여자'),\n",
       " ({'last_letter': 'i'}, '여자'),\n",
       " ({'last_letter': 'i'}, '여자'),\n",
       " ({'last_letter': 'a'}, '여자'),\n",
       " ({'last_letter': 'y'}, '남자'),\n",
       " ({'last_letter': 'e'}, '여자'),\n",
       " ({'last_letter': 'a'}, '여자')]"
      ]
     },
     "execution_count": 28,
     "metadata": {},
     "output_type": "execute_result"
    }
   ],
   "source": [
    "train_set[:20]"
   ]
  },
  {
   "cell_type": "code",
   "execution_count": 29,
   "metadata": {},
   "outputs": [],
   "source": [
    "errors = []\n",
    "for (name, tag) in devtest_names:\n",
    "    guess = classifier.classify(gender_features(name))\n",
    "    if guess != tag:\n",
    "        errors.append( (tag, guess, name) )"
   ]
  },
  {
   "cell_type": "code",
   "execution_count": 30,
   "metadata": {},
   "outputs": [
    {
     "name": "stdout",
     "output_type": "stream",
     "text": [
      "correct=남자       guess=여자       name=Abdel                         \n",
      "correct=남자       guess=여자       name=Abe                           \n",
      "correct=남자       guess=여자       name=Abel                          \n",
      "correct=남자       guess=여자       name=Addie                         \n",
      "correct=남자       guess=여자       name=Alexei                        \n",
      "correct=남자       guess=여자       name=Alfonse                       \n",
      "correct=남자       guess=여자       name=Andrej                        \n",
      "correct=남자       guess=여자       name=Anthony                       \n",
      "correct=남자       guess=여자       name=Antony                        \n",
      "correct=남자       guess=여자       name=Archy                         \n",
      "correct=남자       guess=여자       name=Axel                          \n",
      "correct=남자       guess=여자       name=Barnie                        \n",
      "correct=남자       guess=여자       name=Barry                         \n",
      "correct=남자       guess=여자       name=Billie                        \n",
      "correct=남자       guess=여자       name=Billy                         \n",
      "correct=남자       guess=여자       name=Brandy                        \n",
      "correct=남자       guess=여자       name=Burnaby                       \n",
      "correct=남자       guess=여자       name=Case                          \n",
      "correct=남자       guess=여자       name=Chaddy                        \n",
      "correct=남자       guess=여자       name=Che                           \n",
      "correct=남자       guess=여자       name=Christy                       \n",
      "correct=남자       guess=여자       name=Clayborne                     \n",
      "correct=남자       guess=여자       name=Cobbie                        \n",
      "correct=남자       guess=여자       name=Cole                          \n",
      "correct=남자       guess=여자       name=Corey                         \n",
      "correct=남자       guess=여자       name=Dannie                        \n",
      "correct=남자       guess=여자       name=Darrell                       \n",
      "correct=남자       guess=여자       name=Davey                         \n",
      "correct=남자       guess=여자       name=Dominique                     \n",
      "correct=남자       guess=여자       name=Donnie                        \n",
      "correct=남자       guess=여자       name=Earl                          \n",
      "correct=남자       guess=여자       name=Eddy                          \n",
      "correct=남자       guess=여자       name=Edsel                         \n",
      "correct=남자       guess=여자       name=Emanuel                       \n",
      "correct=남자       guess=여자       name=Ernie                         \n",
      "correct=남자       guess=여자       name=Eugene                        \n",
      "correct=남자       guess=여자       name=Ezra                          \n",
      "correct=남자       guess=여자       name=Finley                        \n",
      "correct=남자       guess=여자       name=Fonsie                        \n",
      "correct=남자       guess=여자       name=Gabe                          \n",
      "correct=남자       guess=여자       name=Gabriele                      \n",
      "correct=남자       guess=여자       name=Georgy                        \n",
      "correct=남자       guess=여자       name=Geri                          \n",
      "correct=남자       guess=여자       name=Gerri                         \n",
      "correct=남자       guess=여자       name=Goose                         \n",
      "correct=남자       guess=여자       name=Gregory                       \n",
      "correct=남자       guess=여자       name=Guthry                        \n",
      "correct=남자       guess=여자       name=Hari                          \n",
      "correct=남자       guess=여자       name=Harwell                       \n",
      "correct=남자       guess=여자       name=Haskell                       \n",
      "correct=남자       guess=여자       name=Herby                         \n",
      "correct=남자       guess=여자       name=Herve                         \n",
      "correct=남자       guess=여자       name=Hezekiah                      \n",
      "correct=남자       guess=여자       name=Hillel                        \n",
      "correct=남자       guess=여자       name=Hodge                         \n",
      "correct=남자       guess=여자       name=Huey                          \n",
      "correct=남자       guess=여자       name=Isa                           \n",
      "correct=남자       guess=여자       name=Jae                           \n",
      "correct=남자       guess=여자       name=Jean-Pierre                   \n",
      "correct=남자       guess=여자       name=Jeramie                       \n",
      "correct=남자       guess=여자       name=Jeremy                        \n",
      "correct=남자       guess=여자       name=Jerri                         \n",
      "correct=남자       guess=여자       name=Johnny                        \n",
      "correct=남자       guess=여자       name=Jose                          \n",
      "correct=남자       guess=여자       name=Judah                         \n",
      "correct=남자       guess=여자       name=Kermie                        \n",
      "correct=남자       guess=여자       name=Lance                         \n",
      "correct=남자       guess=여자       name=Leroy                         \n",
      "correct=남자       guess=여자       name=Lesley                        \n",
      "correct=남자       guess=여자       name=Luigi                         \n",
      "correct=남자       guess=여자       name=Mace                          \n",
      "correct=남자       guess=여자       name=Manny                         \n",
      "correct=남자       guess=여자       name=Marcel                        \n",
      "correct=남자       guess=여자       name=Marshall                      \n",
      "correct=남자       guess=여자       name=Mattie                        \n",
      "correct=남자       guess=여자       name=Maurice                       \n",
      "correct=남자       guess=여자       name=Mendie                        \n",
      "correct=남자       guess=여자       name=Micheal                       \n",
      "correct=남자       guess=여자       name=Michel                        \n",
      "correct=남자       guess=여자       name=Monroe                        \n",
      "correct=남자       guess=여자       name=Mordecai                      \n",
      "correct=남자       guess=여자       name=Mose                          \n",
      "correct=남자       guess=여자       name=Murray                        \n",
      "correct=남자       guess=여자       name=Neal                          \n",
      "correct=남자       guess=여자       name=Nealy                         \n",
      "correct=남자       guess=여자       name=Noach                         \n",
      "correct=남자       guess=여자       name=Obie                          \n",
      "correct=남자       guess=여자       name=Oswell                        \n",
      "correct=남자       guess=여자       name=Partha                        \n",
      "correct=남자       guess=여자       name=Pasquale                      \n",
      "correct=남자       guess=여자       name=Patel                         \n",
      "correct=남자       guess=여자       name=Pembroke                      \n",
      "correct=남자       guess=여자       name=Phillipe                      \n",
      "correct=남자       guess=여자       name=Ransell                       \n",
      "correct=남자       guess=여자       name=Ravil                         \n",
      "correct=남자       guess=여자       name=Reese                         \n",
      "correct=남자       guess=여자       name=Reggie                        \n",
      "correct=남자       guess=여자       name=Rickey                        \n",
      "correct=남자       guess=여자       name=Ricki                         \n",
      "correct=남자       guess=여자       name=Rodge                         \n",
      "correct=남자       guess=여자       name=Rodolphe                      \n",
      "correct=남자       guess=여자       name=Rudie                         \n",
      "correct=남자       guess=여자       name=Rudolph                       \n",
      "correct=남자       guess=여자       name=Rudy                          \n",
      "correct=남자       guess=여자       name=Salvatore                     \n",
      "correct=남자       guess=여자       name=Sayre                         \n",
      "correct=남자       guess=여자       name=Seth                          \n",
      "correct=남자       guess=여자       name=Shelley                       \n",
      "correct=남자       guess=여자       name=Skelly                        \n",
      "correct=남자       guess=여자       name=Skye                          \n",
      "correct=남자       guess=여자       name=Stanleigh                     \n",
      "correct=남자       guess=여자       name=Stanley                       \n",
      "correct=남자       guess=여자       name=Tallie                        \n",
      "correct=남자       guess=여자       name=Tally                         \n",
      "correct=남자       guess=여자       name=Tannie                        \n",
      "correct=남자       guess=여자       name=Tedie                         \n",
      "correct=남자       guess=여자       name=Terrance                      \n",
      "correct=남자       guess=여자       name=Terri                         \n",
      "correct=남자       guess=여자       name=Thaine                        \n",
      "correct=남자       guess=여자       name=Thane                         \n",
      "correct=남자       guess=여자       name=Timothee                      \n",
      "correct=남자       guess=여자       name=Torry                         \n",
      "correct=남자       guess=여자       name=Towny                         \n",
      "correct=남자       guess=여자       name=Tremaine                      \n",
      "correct=남자       guess=여자       name=Trey                          \n",
      "correct=남자       guess=여자       name=Tull                          \n",
      "correct=남자       guess=여자       name=Tulley                        \n",
      "correct=남자       guess=여자       name=Ty                            \n",
      "correct=남자       guess=여자       name=Tymothy                       \n",
      "correct=남자       guess=여자       name=Vergil                        \n",
      "correct=남자       guess=여자       name=Walsh                         \n",
      "correct=남자       guess=여자       name=Wash                          \n",
      "correct=남자       guess=여자       name=Waverley                      \n",
      "correct=남자       guess=여자       name=Way                           \n",
      "correct=남자       guess=여자       name=Wayne                         \n",
      "correct=남자       guess=여자       name=Wendall                       \n",
      "correct=남자       guess=여자       name=Whitney                       \n",
      "correct=남자       guess=여자       name=Willey                        \n",
      "correct=남자       guess=여자       name=Wojciech                      \n",
      "correct=남자       guess=여자       name=Yankee                        \n",
      "correct=남자       guess=여자       name=Zebadiah                      \n",
      "correct=여자       guess=남자       name=Alex                          \n",
      "correct=여자       guess=남자       name=Alis                          \n",
      "correct=여자       guess=남자       name=Allsun                        \n",
      "correct=여자       guess=남자       name=Bab                           \n",
      "correct=여자       guess=남자       name=Beatriz                       \n",
      "correct=여자       guess=남자       name=Beret                         \n",
      "correct=여자       guess=남자       name=Brenn                         \n",
      "correct=여자       guess=남자       name=Calypso                       \n",
      "correct=여자       guess=남자       name=Carin                         \n",
      "correct=여자       guess=남자       name=Charmion                      \n",
      "correct=여자       guess=남자       name=Christin                      \n",
      "correct=여자       guess=남자       name=Daveen                        \n",
      "correct=여자       guess=남자       name=Demeter                       \n",
      "correct=여자       guess=남자       name=Dion                          \n",
      "correct=여자       guess=남자       name=Dionis                        \n",
      "correct=여자       guess=남자       name=Doloritas                     \n",
      "correct=여자       guess=남자       name=Doralyn                       \n",
      "correct=여자       guess=남자       name=Easter                        \n",
      "correct=여자       guess=남자       name=Esther                        \n",
      "correct=여자       guess=남자       name=Ethelyn                       \n",
      "correct=여자       guess=남자       name=Francis                       \n",
      "correct=여자       guess=남자       name=Gillan                        \n",
      "correct=여자       guess=남자       name=Gillian                       \n",
      "correct=여자       guess=남자       name=Harriet                       \n",
      "correct=여자       guess=남자       name=Hedvig                        \n",
      "correct=여자       guess=남자       name=Ingaborg                      \n",
      "correct=여자       guess=남자       name=Ingrid                        \n",
      "correct=여자       guess=남자       name=Isador                        \n",
      "correct=여자       guess=남자       name=Jaclin                        \n",
      "correct=여자       guess=남자       name=Janet                         \n",
      "correct=여자       guess=남자       name=Jolyn                         \n",
      "correct=여자       guess=남자       name=Joyann                        \n",
      "correct=여자       guess=남자       name=Joyous                        \n",
      "correct=여자       guess=남자       name=Kameko                        \n",
      "correct=여자       guess=남자       name=Karleen                       \n",
      "correct=여자       guess=남자       name=Karylin                       \n",
      "correct=여자       guess=남자       name=Kat                           \n",
      "correct=여자       guess=남자       name=Kathleen                      \n",
      "correct=여자       guess=남자       name=Kerstin                       \n",
      "correct=여자       guess=남자       name=Kim                           \n",
      "correct=여자       guess=남자       name=Kipp                          \n",
      "correct=여자       guess=남자       name=Koo                           \n",
      "correct=여자       guess=남자       name=Koren                         \n",
      "correct=여자       guess=남자       name=Kylynn                        \n",
      "correct=여자       guess=남자       name=Leland                        \n",
      "correct=여자       guess=남자       name=Lillis                        \n",
      "correct=여자       guess=남자       name=Lynnett                       \n",
      "correct=여자       guess=남자       name=Mab                           \n",
      "correct=여자       guess=남자       name=Magdalen                      \n",
      "correct=여자       guess=남자       name=Margaret                      \n",
      "correct=여자       guess=남자       name=Margaux                       \n",
      "correct=여자       guess=남자       name=Mariam                        \n",
      "correct=여자       guess=남자       name=Marit                         \n",
      "correct=여자       guess=남자       name=Marleen                       \n",
      "correct=여자       guess=남자       name=Maryellen                     \n",
      "correct=여자       guess=남자       name=Maureen                       \n",
      "correct=여자       guess=남자       name=Max                           \n",
      "correct=여자       guess=남자       name=Meagan                        \n",
      "correct=여자       guess=남자       name=Mildred                       \n",
      "correct=여자       guess=남자       name=Persis                        \n",
      "correct=여자       guess=남자       name=Phyllis                       \n",
      "correct=여자       guess=남자       name=Piper                         \n",
      "correct=여자       guess=남자       name=Pru                           \n",
      "correct=여자       guess=남자       name=Rosalyn                       \n",
      "correct=여자       guess=남자       name=Roslyn                        \n",
      "correct=여자       guess=남자       name=Rozamond                      \n",
      "correct=여자       guess=남자       name=Sharleen                      \n",
      "correct=여자       guess=남자       name=Shaun                         \n",
      "correct=여자       guess=남자       name=Shaylyn                       \n",
      "correct=여자       guess=남자       name=Shirleen                      \n",
      "correct=여자       guess=남자       name=Star                          \n",
      "correct=여자       guess=남자       name=Tamar                         \n",
      "correct=여자       guess=남자       name=Theo                          \n",
      "correct=여자       guess=남자       name=Thomasin                      \n",
      "correct=여자       guess=남자       name=Umeko                         \n",
      "correct=여자       guess=남자       name=Vin                           \n",
      "correct=여자       guess=남자       name=Willow                        \n",
      "correct=여자       guess=남자       name=Winifred                      \n",
      "correct=여자       guess=남자       name=Yehudit                       \n"
     ]
    }
   ],
   "source": [
    "for (tag, guess, name) in sorted(errors):\n",
    "    print('correct={:<8} guess={:<8s} name={:<30}'.format(tag, guess, name))"
   ]
  },
  {
   "cell_type": "markdown",
   "metadata": {},
   "source": [
    "### 사용 특성\n",
    "- 마지막 두 문자 "
   ]
  },
  {
   "cell_type": "code",
   "execution_count": 31,
   "metadata": {},
   "outputs": [],
   "source": [
    "def gender_features(word):\n",
    "    return {'suffix1': word[-1:],\n",
    "            'suffix2': word[-2:]}"
   ]
  },
  {
   "cell_type": "code",
   "execution_count": 32,
   "metadata": {},
   "outputs": [
    {
     "name": "stdout",
     "output_type": "stream",
     "text": [
      "0.784\n"
     ]
    }
   ],
   "source": [
    "train_set = [(gender_features(n), gender) for (n, gender) in train_names]\n",
    "devtest_set = [(gender_features(n), gender) for (n, gender) in devtest_names]\n",
    "classifier = nltk.NaiveBayesClassifier.train(train_set)\n",
    "print(nltk.classify.accuracy(classifier, devtest_set))"
   ]
  },
  {
   "cell_type": "code",
   "execution_count": 33,
   "metadata": {},
   "outputs": [
    {
     "data": {
      "text/plain": [
       "[('Meier', '남자'),\n",
       " ('Vic', '남자'),\n",
       " ('Sheril', '여자'),\n",
       " ('Bradley', '남자'),\n",
       " ('Ofilia', '여자'),\n",
       " ('Walton', '남자'),\n",
       " ('Hillary', '남자'),\n",
       " ('Sascha', '남자'),\n",
       " ('Audy', '여자'),\n",
       " ('Kassia', '여자'),\n",
       " ('Rodney', '남자'),\n",
       " ('Clotilda', '여자'),\n",
       " ('Kristina', '여자'),\n",
       " ('Sherrie', '여자'),\n",
       " ('Adi', '여자'),\n",
       " ('Eddi', '여자'),\n",
       " ('Allianora', '여자'),\n",
       " ('Conroy', '남자'),\n",
       " ('Aveline', '여자'),\n",
       " ('Maia', '여자')]"
      ]
     },
     "execution_count": 33,
     "metadata": {},
     "output_type": "execute_result"
    }
   ],
   "source": [
    "# train_set[:20]\n",
    "train_names[:20]"
   ]
  },
  {
   "cell_type": "code",
   "execution_count": null,
   "metadata": {},
   "outputs": [],
   "source": []
  }
 ],
 "metadata": {
  "kernelspec": {
   "display_name": "Python 3",
   "language": "python",
   "name": "python3"
  },
  "language_info": {
   "codemirror_mode": {
    "name": "ipython",
    "version": 3
   },
   "file_extension": ".py",
   "mimetype": "text/x-python",
   "name": "python",
   "nbconvert_exporter": "python",
   "pygments_lexer": "ipython3",
   "version": "3.8.5"
  }
 },
 "nbformat": 4,
 "nbformat_minor": 2
}
