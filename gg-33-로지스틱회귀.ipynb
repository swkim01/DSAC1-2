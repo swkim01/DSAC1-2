{
  "nbformat": 4,
  "nbformat_minor": 0,
  "metadata": {
    "kernelspec": {
      "display_name": "Python 3",
      "language": "python",
      "name": "python3"
    },
    "language_info": {
      "codemirror_mode": {
        "name": "ipython",
        "version": 3
      },
      "file_extension": ".py",
      "mimetype": "text/x-python",
      "name": "python",
      "nbconvert_exporter": "python",
      "pygments_lexer": "ipython3",
      "version": "3.7.1"
    },
    "colab": {
      "name": "gg-33-로지스틱회귀.ipynb",
      "provenance": [],
      "collapsed_sections": [
        "oS8U9IPVXmYc",
        "-m6pnf40XmYd"
      ]
    }
  },
  "cells": [
    {
      "cell_type": "markdown",
      "metadata": {
        "id": "tk4YcuiBXmYI"
      },
      "source": [
        "로지스틱 회귀-유방암\n",
        "==\n",
        "- 로지스틱회귀의 개념\n",
        "- BreastCancer.csv\n",
        "\n",
        "<table class=\"tfo-notebook-buttons\" align=\"left\">\n",
        "  <td>\n",
        "    <a target=\"_blank\" href=\"https://colab.research.google.com/github/swkim01/DSAC1-2/blob/main/gg-33-로지스틱회귀.ipynb\"><img src=\"https://github.com/swkim01/DSAC1-2/raw/main/colab_logo_32px.png\" />구글 코랩에서 실행</a>\n",
        "  </td>\n",
        "  <td>\n",
        "    <a target=\"_blank\" href=\"https://github.com/swkim01/DSAC1-2/blob/main/gg-33-로지스틱회귀.ipynb\"><img src=\"https://github.com/swkim01/DSAC1-2/raw/main/GitHub-Mark-32px.png\" />깃헙에서 소스 보기</a>\n",
        "  </td>\n",
        "</table>"
      ]
    },
    {
      "cell_type": "code",
      "metadata": {
        "id": "qxTR00c_XmYP"
      },
      "source": [
        "import numpy as np\n",
        "import pandas as pd\n",
        "import matplotlib.pyplot as plt\n",
        "from sklearn.linear_model import LogisticRegression\n",
        "%matplotlib inline\n",
        "%config InlineBackend.figure_format = 'retina'"
      ],
      "execution_count": null,
      "outputs": []
    },
    {
      "cell_type": "code",
      "metadata": {
        "id": "pIRkYNdMXmYQ"
      },
      "source": [
        "pass_time = [8,9, 9, 9.5, 10, 12, 14, 14.5, 15, 16, 16, 16.5, 17, 17, 17, 17.5,20, 20, 20]\n",
        "fail_time = [1, 2, 2.1,2.6,2.7,2.8,2.9, 3,3.2,3.4,3.5,3.6,3, 5,5.2,5.4]"
      ],
      "execution_count": null,
      "outputs": []
    },
    {
      "cell_type": "code",
      "metadata": {
        "id": "ROj-g4i1XmYS",
        "outputId": "47c6be89-7528-4d76-e7e3-d1562b3a89dd"
      },
      "source": [
        "X = np.hstack((pass_time,fail_time))\n",
        "X"
      ],
      "execution_count": null,
      "outputs": [
        {
          "output_type": "execute_result",
          "data": {
            "text/plain": [
              "array([ 8. ,  9. ,  9. ,  9.5, 10. , 12. , 14. , 14.5, 15. , 16. , 16. ,\n",
              "       16.5, 17. , 17. , 17. , 17.5, 20. , 20. , 20. ,  1. ,  2. ,  2.1,\n",
              "        2.6,  2.7,  2.8,  2.9,  3. ,  3.2,  3.4,  3.5,  3.6,  3. ,  5. ,\n",
              "        5.2,  5.4])"
            ]
          },
          "metadata": {
            "tags": []
          },
          "execution_count": 3
        }
      ]
    },
    {
      "cell_type": "code",
      "metadata": {
        "id": "CrH9t-HJXmYT",
        "outputId": "5e56a571-ef36-4f00-feab-11bdf5ef7547"
      },
      "source": [
        "y1=[1]*len(pass_time)\n",
        "y0=[0]*len(fail_time)\n",
        "y = np.hstack((y1,y0))\n",
        "y"
      ],
      "execution_count": null,
      "outputs": [
        {
          "output_type": "execute_result",
          "data": {
            "text/plain": [
              "array([1, 1, 1, 1, 1, 1, 1, 1, 1, 1, 1, 1, 1, 1, 1, 1, 1, 1, 1, 0, 0, 0,\n",
              "       0, 0, 0, 0, 0, 0, 0, 0, 0, 0, 0, 0, 0])"
            ]
          },
          "metadata": {
            "tags": []
          },
          "execution_count": 4
        }
      ]
    },
    {
      "cell_type": "code",
      "metadata": {
        "id": "8bWkMHujXmYU",
        "outputId": "31bbb618-4828-437d-8229-fa9ad46fb74c"
      },
      "source": [
        "fig = plt.figure(figsize=(8,6))\n",
        "plt.xlim(0, 21)\n",
        "plt.ylim(-0.1, 1.1)\n",
        "plt.xlabel(\"Study time\")\n",
        "plt.ylabel(\"Pass rate\")\n",
        "plt.scatter(X, y)\n",
        "plt.show()"
      ],
      "execution_count": null,
      "outputs": [
        {
          "output_type": "display_data",
          "data": {
            "image/png": "[encoded data removed]",
            "text/plain": [
              "<Figure size 576x432 with 1 Axes>"
            ]
          },
          "metadata": {
            "tags": [],
            "image/png": {
              "height": 372,
              "width": 499
            },
            "needs_background": "light"
          }
        }
      ]
    },
    {
      "cell_type": "markdown",
      "metadata": {
        "id": "7-QMI-_7XmYV"
      },
      "source": [
        "- 이와 같이 공부시간과 합격의 패턴이 알려진 시험에서 \n",
        "- 만일 어떤 사람이 10시간을 공부한다면 이 사람을 합격 예정자로 분류할 수 있을까?\n",
        "- 또는 합격할 확률은 얼마로 예상할 수 있을까?"
      ]
    },
    {
      "cell_type": "markdown",
      "metadata": {
        "id": "JEG6CpggXmYV"
      },
      "source": [
        "- 이러한 관계를 모델링하는데, 로지스틱 회귀분석이 사용된다.\n",
        "- 로지스틱 회귀는 이름은 회귀이지만 \n",
        "- 분류 문제이므로 손실 함수로 크로스 엔트로피(cross entropy)를 사용한다."
      ]
    },
    {
      "cell_type": "code",
      "metadata": {
        "id": "dKU6xkffXmYV",
        "outputId": "d20d3889-ee3c-4f55-e561-1f6cb3bb09c0"
      },
      "source": [
        "model = LogisticRegression()\n",
        "model.fit(X.reshape(-1, 1),y)\n",
        "\n",
        "print(model.coef_)\n",
        "print(model.intercept_)"
      ],
      "execution_count": null,
      "outputs": [
        {
          "output_type": "stream",
          "text": [
            "[[0.40606369]]\n",
            "[-2.47960598]\n"
          ],
          "name": "stdout"
        },
        {
          "output_type": "stream",
          "text": [
            "C:\\Users\\admin\\Anaconda3\\lib\\site-packages\\sklearn\\linear_model\\logistic.py:433: FutureWarning: Default solver will be changed to 'lbfgs' in 0.22. Specify a solver to silence this warning.\n",
            "  FutureWarning)\n"
          ],
          "name": "stderr"
        }
      ]
    },
    {
      "cell_type": "code",
      "metadata": {
        "id": "bkxSlsYgXmYW",
        "outputId": "936f871f-24fc-4179-c3d2-58e43a0bde45"
      },
      "source": [
        "sample = np.array([6.9])\n",
        "# model.predict(sample.reshape[-1, 1])\n",
        "model.predict(sample.reshape([-1, 1]))"
      ],
      "execution_count": null,
      "outputs": [
        {
          "output_type": "execute_result",
          "data": {
            "text/plain": [
              "array([1])"
            ]
          },
          "metadata": {
            "tags": []
          },
          "execution_count": 7
        }
      ]
    },
    {
      "cell_type": "code",
      "metadata": {
        "id": "y5zDOJb6XmYW",
        "outputId": "182b9e60-3740-4b9c-fdea-1921b1ae85d8"
      },
      "source": [
        "sample = np.array([13])\n",
        "# model.predict(sample.reshape[-1, 1])\n",
        "model.predict_proba(sample.reshape([-1, 1]))"
      ],
      "execution_count": null,
      "outputs": [
        {
          "output_type": "execute_result",
          "data": {
            "text/plain": [
              "array([[0.05736623, 0.94263377]])"
            ]
          },
          "metadata": {
            "tags": []
          },
          "execution_count": 8
        }
      ]
    },
    {
      "cell_type": "code",
      "metadata": {
        "id": "UCatfBwxXmYW",
        "outputId": "2b94cbf1-e017-460c-f297-93ea9e182e22"
      },
      "source": [
        "def logreg(z):\n",
        "    return 1 /(1+np.exp(-z))\n",
        "\n",
        "fig = plt.figure(figsize=(8,6))\n",
        "plt.xlim(0, 20)\n",
        "plt.ylim(-0.1, 1.1)\n",
        "plt.xlabel('Study time')\n",
        "plt.ylabel('Pass rate')\n",
        "plt.scatter(X, y, s=50)\n",
        "\n",
        "XX = np.linspace(0.5,21, 100)\n",
        "yy = logreg(model.coef_*XX + model.intercept_)[0]\n",
        "plt.plot(XX, yy, c='r')\n",
        "# plt.show()"
      ],
      "execution_count": null,
      "outputs": [
        {
          "output_type": "execute_result",
          "data": {
            "text/plain": [
              "[<matplotlib.lines.Line2D at 0x16c30832da0>]"
            ]
          },
          "metadata": {
            "tags": []
          },
          "execution_count": 13
        },
        {
          "output_type": "display_data",
          "data": {
            "image/png": "[encoded data removed]",
            "text/plain": [
              "<Figure size 576x432 with 1 Axes>"
            ]
          },
          "metadata": {
            "tags": [],
            "image/png": {
              "height": 372,
              "width": 508
            },
            "needs_background": "light"
          }
        }
      ]
    },
    {
      "cell_type": "code",
      "metadata": {
        "scrolled": true,
        "id": "AL5v_r2RXmYX",
        "outputId": "831f26fc-ee4d-459a-b155-23faad927b9d"
      },
      "source": [
        "def logreg(z):\n",
        "    return 1 /(1+np.exp(-z))\n",
        "\n",
        "fig = plt.figure(figsize=(6,4))\n",
        "plt.xlim(-10, 10)\n",
        "plt.ylim(-0.1, 1.1)\n",
        "a_list = [0.3, 0.5, 1]\n",
        "b_list = [0]\n",
        "XX = np.linspace(-10, 10, 100)\n",
        "for a in a_list:\n",
        "    for b in b_list: \n",
        "        yy = logreg(a*XX + b)\n",
        "        plt.plot(XX, yy, c='k')"
      ],
      "execution_count": null,
      "outputs": [
        {
          "output_type": "display_data",
          "data": {
            "image/png": "[encoded data removed]",
            "text/plain": [
              "<Figure size 432x288 with 1 Axes>"
            ]
          },
          "metadata": {
            "tags": [],
            "image/png": {
              "height": 250,
              "width": 383
            },
            "needs_background": "light"
          }
        }
      ]
    },
    {
      "cell_type": "code",
      "metadata": {
        "colab": {
          "base_uri": "https://localhost:8080/",
          "height": 251
        },
        "id": "mVlfnECAXmYY",
        "outputId": "c8d8794c-e157-41ab-9b4f-69fc441e090b"
      },
      "source": [
        "def logreg(z):\n",
        "    return 1 /(1+np.exp(-z))\n",
        "\n",
        "fig = plt.figure(figsize=(6,4))\n",
        "plt.xlim(-10, 10)\n",
        "plt.ylim(-0.1, 1.1)\n",
        "a_list = [0.8]\n",
        "b_list = [-2, 0, 2]\n",
        "XX = np.linspace(-10, 10, 100)\n",
        "for a in a_list:\n",
        "    for b in b_list: \n",
        "        yy = logreg(a*XX + b)\n",
        "        plt.plot(XX, yy, c='k')"
      ],
      "execution_count": null,
      "outputs": [
        {
          "output_type": "error",
          "ename": "NameError",
          "evalue": "ignored",
          "traceback": [
            "\u001b[0;31m---------------------------------------------------------------------------\u001b[0m",
            "\u001b[0;31mNameError\u001b[0m                                 Traceback (most recent call last)",
            "\u001b[0;32m<ipython-input-1-7a4d37d3705d>\u001b[0m in \u001b[0;36m<module>\u001b[0;34m()\u001b[0m\n\u001b[1;32m      2\u001b[0m     \u001b[0;32mreturn\u001b[0m \u001b[0;36m1\u001b[0m \u001b[0;34m/\u001b[0m\u001b[0;34m(\u001b[0m\u001b[0;36m1\u001b[0m\u001b[0;34m+\u001b[0m\u001b[0mnp\u001b[0m\u001b[0;34m.\u001b[0m\u001b[0mexp\u001b[0m\u001b[0;34m(\u001b[0m\u001b[0;34m-\u001b[0m\u001b[0mz\u001b[0m\u001b[0;34m)\u001b[0m\u001b[0;34m)\u001b[0m\u001b[0;34m\u001b[0m\u001b[0;34m\u001b[0m\u001b[0m\n\u001b[1;32m      3\u001b[0m \u001b[0;34m\u001b[0m\u001b[0m\n\u001b[0;32m----> 4\u001b[0;31m \u001b[0mfig\u001b[0m \u001b[0;34m=\u001b[0m \u001b[0mplt\u001b[0m\u001b[0;34m.\u001b[0m\u001b[0mfigure\u001b[0m\u001b[0;34m(\u001b[0m\u001b[0mfigsize\u001b[0m\u001b[0;34m=\u001b[0m\u001b[0;34m(\u001b[0m\u001b[0;36m6\u001b[0m\u001b[0;34m,\u001b[0m\u001b[0;36m4\u001b[0m\u001b[0;34m)\u001b[0m\u001b[0;34m)\u001b[0m\u001b[0;34m\u001b[0m\u001b[0;34m\u001b[0m\u001b[0m\n\u001b[0m\u001b[1;32m      5\u001b[0m \u001b[0mplt\u001b[0m\u001b[0;34m.\u001b[0m\u001b[0mxlim\u001b[0m\u001b[0;34m(\u001b[0m\u001b[0;34m-\u001b[0m\u001b[0;36m10\u001b[0m\u001b[0;34m,\u001b[0m \u001b[0;36m10\u001b[0m\u001b[0;34m)\u001b[0m\u001b[0;34m\u001b[0m\u001b[0;34m\u001b[0m\u001b[0m\n\u001b[1;32m      6\u001b[0m \u001b[0mplt\u001b[0m\u001b[0;34m.\u001b[0m\u001b[0mylim\u001b[0m\u001b[0;34m(\u001b[0m\u001b[0;34m-\u001b[0m\u001b[0;36m0.1\u001b[0m\u001b[0;34m,\u001b[0m \u001b[0;36m1.1\u001b[0m\u001b[0;34m)\u001b[0m\u001b[0;34m\u001b[0m\u001b[0;34m\u001b[0m\u001b[0m\n",
            "\u001b[0;31mNameError\u001b[0m: name 'plt' is not defined"
          ]
        }
      ]
    },
    {
      "cell_type": "code",
      "metadata": {
        "id": "0JzeNyQuXmYY"
      },
      "source": [
        ""
      ],
      "execution_count": null,
      "outputs": []
    },
    {
      "cell_type": "markdown",
      "metadata": {
        "id": "Jnb5Iz_qXmYZ"
      },
      "source": [
        "## 성능 비교\n",
        "### 유방암 예제"
      ]
    },
    {
      "cell_type": "code",
      "metadata": {
        "id": "pcQkyvoXXmYZ"
      },
      "source": [
        "import numpy as np\n",
        "import pandas as pd\n",
        "import matplotlib.pyplot as plt\n",
        "import matplotlib.gridspec as gridspec\n",
        "import seaborn as sns \n",
        "from sklearn.model_selection import train_test_split\n",
        "from sklearn.model_selection import KFold             # K-fold cross validation\n",
        "from sklearn.linear_model import LogisticRegression\n",
        "from sklearn import metrics"
      ],
      "execution_count": null,
      "outputs": []
    },
    {
      "cell_type": "code",
      "metadata": {
        "colab": {
          "base_uri": "https://localhost:8080/"
        },
        "id": "8BxAcSr6XmYZ",
        "outputId": "d094e91d-7bbc-4c2e-f1d6-ba5f239a7721"
      },
      "source": [
        "# 데이터 읽기\n",
        "#from sklearn.datasets import load_breast_cancer\n",
        "#data = load_breast_cancer()\n",
        "!mkdir -p data\n",
        "!curl -L https://github.com/Yorko/mlcourse.ai/raw/master/data/breast_cancer.csv -o data/breast_cancer.csv\n",
        "data = pd.read_csv('data/breast_cancer.csv')\n",
        "print(data.shape)"
      ],
      "execution_count": null,
      "outputs": [
        {
          "output_type": "stream",
          "text": [
            "  % Total    % Received % Xferd  Average Speed   Time    Time     Time  Current\n",
            "                                 Dload  Upload   Total   Spent    Left  Speed\n",
            "100   147  100   147    0     0   1166      0 --:--:-- --:--:-- --:--:--  1166\n",
            "100  122k  100  122k    0     0   378k      0 --:--:-- --:--:-- --:--:-- 4248k\n",
            "(569, 33)\n"
          ],
          "name": "stdout"
        }
      ]
    },
    {
      "cell_type": "code",
      "metadata": {
        "scrolled": true,
        "colab": {
          "base_uri": "https://localhost:8080/",
          "height": 239
        },
        "id": "W3b_71AvXmYZ",
        "outputId": "eb0a7494-e8e4-48ea-bf20-c802f7e421f2"
      },
      "source": [
        "data.head()"
      ],
      "execution_count": null,
      "outputs": [
        {
          "output_type": "execute_result",
          "data": {
            "text/html": [
              "<div>\n",
              "<style scoped>\n",
              "    .dataframe tbody tr th:only-of-type {\n",
              "        vertical-align: middle;\n",
              "    }\n",
              "\n",
              "    .dataframe tbody tr th {\n",
              "        vertical-align: top;\n",
              "    }\n",
              "\n",
              "    .dataframe thead th {\n",
              "        text-align: right;\n",
              "    }\n",
              "</style>\n",
              "<table border=\"1\" class=\"dataframe\">\n",
              "  <thead>\n",
              "    <tr style=\"text-align: right;\">\n",
              "      <th></th>\n",
              "      <th>id</th>\n",
              "      <th>diagnosis</th>\n",
              "      <th>radius_mean</th>\n",
              "      <th>texture_mean</th>\n",
              "      <th>perimeter_mean</th>\n",
              "      <th>area_mean</th>\n",
              "      <th>smoothness_mean</th>\n",
              "      <th>compactness_mean</th>\n",
              "      <th>concavity_mean</th>\n",
              "      <th>concave points_mean</th>\n",
              "      <th>symmetry_mean</th>\n",
              "      <th>fractal_dimension_mean</th>\n",
              "      <th>radius_se</th>\n",
              "      <th>texture_se</th>\n",
              "      <th>perimeter_se</th>\n",
              "      <th>area_se</th>\n",
              "      <th>smoothness_se</th>\n",
              "      <th>compactness_se</th>\n",
              "      <th>concavity_se</th>\n",
              "      <th>concave points_se</th>\n",
              "      <th>symmetry_se</th>\n",
              "      <th>fractal_dimension_se</th>\n",
              "      <th>radius_worst</th>\n",
              "      <th>texture_worst</th>\n",
              "      <th>perimeter_worst</th>\n",
              "      <th>area_worst</th>\n",
              "      <th>smoothness_worst</th>\n",
              "      <th>compactness_worst</th>\n",
              "      <th>concavity_worst</th>\n",
              "      <th>concave points_worst</th>\n",
              "      <th>symmetry_worst</th>\n",
              "      <th>fractal_dimension_worst</th>\n",
              "      <th>Unnamed: 32</th>\n",
              "    </tr>\n",
              "  </thead>\n",
              "  <tbody>\n",
              "    <tr>\n",
              "      <th>0</th>\n",
              "      <td>842302</td>\n",
              "      <td>M</td>\n",
              "      <td>17.99</td>\n",
              "      <td>10.38</td>\n",
              "      <td>122.80</td>\n",
              "      <td>1001.0</td>\n",
              "      <td>0.11840</td>\n",
              "      <td>0.27760</td>\n",
              "      <td>0.3001</td>\n",
              "      <td>0.14710</td>\n",
              "      <td>0.2419</td>\n",
              "      <td>0.07871</td>\n",
              "      <td>1.0950</td>\n",
              "      <td>0.9053</td>\n",
              "      <td>8.589</td>\n",
              "      <td>153.40</td>\n",
              "      <td>0.006399</td>\n",
              "      <td>0.04904</td>\n",
              "      <td>0.05373</td>\n",
              "      <td>0.01587</td>\n",
              "      <td>0.03003</td>\n",
              "      <td>0.006193</td>\n",
              "      <td>25.38</td>\n",
              "      <td>17.33</td>\n",
              "      <td>184.60</td>\n",
              "      <td>2019.0</td>\n",
              "      <td>0.1622</td>\n",
              "      <td>0.6656</td>\n",
              "      <td>0.7119</td>\n",
              "      <td>0.2654</td>\n",
              "      <td>0.4601</td>\n",
              "      <td>0.11890</td>\n",
              "      <td>NaN</td>\n",
              "    </tr>\n",
              "    <tr>\n",
              "      <th>1</th>\n",
              "      <td>842517</td>\n",
              "      <td>M</td>\n",
              "      <td>20.57</td>\n",
              "      <td>17.77</td>\n",
              "      <td>132.90</td>\n",
              "      <td>1326.0</td>\n",
              "      <td>0.08474</td>\n",
              "      <td>0.07864</td>\n",
              "      <td>0.0869</td>\n",
              "      <td>0.07017</td>\n",
              "      <td>0.1812</td>\n",
              "      <td>0.05667</td>\n",
              "      <td>0.5435</td>\n",
              "      <td>0.7339</td>\n",
              "      <td>3.398</td>\n",
              "      <td>74.08</td>\n",
              "      <td>0.005225</td>\n",
              "      <td>0.01308</td>\n",
              "      <td>0.01860</td>\n",
              "      <td>0.01340</td>\n",
              "      <td>0.01389</td>\n",
              "      <td>0.003532</td>\n",
              "      <td>24.99</td>\n",
              "      <td>23.41</td>\n",
              "      <td>158.80</td>\n",
              "      <td>1956.0</td>\n",
              "      <td>0.1238</td>\n",
              "      <td>0.1866</td>\n",
              "      <td>0.2416</td>\n",
              "      <td>0.1860</td>\n",
              "      <td>0.2750</td>\n",
              "      <td>0.08902</td>\n",
              "      <td>NaN</td>\n",
              "    </tr>\n",
              "    <tr>\n",
              "      <th>2</th>\n",
              "      <td>84300903</td>\n",
              "      <td>M</td>\n",
              "      <td>19.69</td>\n",
              "      <td>21.25</td>\n",
              "      <td>130.00</td>\n",
              "      <td>1203.0</td>\n",
              "      <td>0.10960</td>\n",
              "      <td>0.15990</td>\n",
              "      <td>0.1974</td>\n",
              "      <td>0.12790</td>\n",
              "      <td>0.2069</td>\n",
              "      <td>0.05999</td>\n",
              "      <td>0.7456</td>\n",
              "      <td>0.7869</td>\n",
              "      <td>4.585</td>\n",
              "      <td>94.03</td>\n",
              "      <td>0.006150</td>\n",
              "      <td>0.04006</td>\n",
              "      <td>0.03832</td>\n",
              "      <td>0.02058</td>\n",
              "      <td>0.02250</td>\n",
              "      <td>0.004571</td>\n",
              "      <td>23.57</td>\n",
              "      <td>25.53</td>\n",
              "      <td>152.50</td>\n",
              "      <td>1709.0</td>\n",
              "      <td>0.1444</td>\n",
              "      <td>0.4245</td>\n",
              "      <td>0.4504</td>\n",
              "      <td>0.2430</td>\n",
              "      <td>0.3613</td>\n",
              "      <td>0.08758</td>\n",
              "      <td>NaN</td>\n",
              "    </tr>\n",
              "    <tr>\n",
              "      <th>3</th>\n",
              "      <td>84348301</td>\n",
              "      <td>M</td>\n",
              "      <td>11.42</td>\n",
              "      <td>20.38</td>\n",
              "      <td>77.58</td>\n",
              "      <td>386.1</td>\n",
              "      <td>0.14250</td>\n",
              "      <td>0.28390</td>\n",
              "      <td>0.2414</td>\n",
              "      <td>0.10520</td>\n",
              "      <td>0.2597</td>\n",
              "      <td>0.09744</td>\n",
              "      <td>0.4956</td>\n",
              "      <td>1.1560</td>\n",
              "      <td>3.445</td>\n",
              "      <td>27.23</td>\n",
              "      <td>0.009110</td>\n",
              "      <td>0.07458</td>\n",
              "      <td>0.05661</td>\n",
              "      <td>0.01867</td>\n",
              "      <td>0.05963</td>\n",
              "      <td>0.009208</td>\n",
              "      <td>14.91</td>\n",
              "      <td>26.50</td>\n",
              "      <td>98.87</td>\n",
              "      <td>567.7</td>\n",
              "      <td>0.2098</td>\n",
              "      <td>0.8663</td>\n",
              "      <td>0.6869</td>\n",
              "      <td>0.2575</td>\n",
              "      <td>0.6638</td>\n",
              "      <td>0.17300</td>\n",
              "      <td>NaN</td>\n",
              "    </tr>\n",
              "    <tr>\n",
              "      <th>4</th>\n",
              "      <td>84358402</td>\n",
              "      <td>M</td>\n",
              "      <td>20.29</td>\n",
              "      <td>14.34</td>\n",
              "      <td>135.10</td>\n",
              "      <td>1297.0</td>\n",
              "      <td>0.10030</td>\n",
              "      <td>0.13280</td>\n",
              "      <td>0.1980</td>\n",
              "      <td>0.10430</td>\n",
              "      <td>0.1809</td>\n",
              "      <td>0.05883</td>\n",
              "      <td>0.7572</td>\n",
              "      <td>0.7813</td>\n",
              "      <td>5.438</td>\n",
              "      <td>94.44</td>\n",
              "      <td>0.011490</td>\n",
              "      <td>0.02461</td>\n",
              "      <td>0.05688</td>\n",
              "      <td>0.01885</td>\n",
              "      <td>0.01756</td>\n",
              "      <td>0.005115</td>\n",
              "      <td>22.54</td>\n",
              "      <td>16.67</td>\n",
              "      <td>152.20</td>\n",
              "      <td>1575.0</td>\n",
              "      <td>0.1374</td>\n",
              "      <td>0.2050</td>\n",
              "      <td>0.4000</td>\n",
              "      <td>0.1625</td>\n",
              "      <td>0.2364</td>\n",
              "      <td>0.07678</td>\n",
              "      <td>NaN</td>\n",
              "    </tr>\n",
              "  </tbody>\n",
              "</table>\n",
              "</div>"
            ],
            "text/plain": [
              "         id diagnosis  ...  fractal_dimension_worst  Unnamed: 32\n",
              "0    842302         M  ...                  0.11890          NaN\n",
              "1    842517         M  ...                  0.08902          NaN\n",
              "2  84300903         M  ...                  0.08758          NaN\n",
              "3  84348301         M  ...                  0.17300          NaN\n",
              "4  84358402         M  ...                  0.07678          NaN\n",
              "\n",
              "[5 rows x 33 columns]"
            ]
          },
          "metadata": {
            "tags": []
          },
          "execution_count": 17
        }
      ]
    },
    {
      "cell_type": "markdown",
      "metadata": {
        "id": "Oq8l8YeGXmYa"
      },
      "source": [
        "- 유방암 진단 데이터는 총 30개의 특성을 제공\n",
        "- 이 중에 2개의 특성만 사용 : radius_mean, texture_mean\n",
        "- diagnosis : label로 사용"
      ]
    },
    {
      "cell_type": "code",
      "metadata": {
        "scrolled": true,
        "colab": {
          "base_uri": "https://localhost:8080/",
          "height": 202
        },
        "id": "VIrTgD1FXmYa",
        "outputId": "1fe2ad9b-42a7-4a62-e964-83a9056065fd"
      },
      "source": [
        "data['diagnosis'] = data['diagnosis'].map({'M':1,'B':0})\n",
        "df = data[[\"diagnosis\", \"radius_mean\", \"texture_mean\"]]\n",
        "df.head()"
      ],
      "execution_count": null,
      "outputs": [
        {
          "output_type": "execute_result",
          "data": {
            "text/html": [
              "<div>\n",
              "<style scoped>\n",
              "    .dataframe tbody tr th:only-of-type {\n",
              "        vertical-align: middle;\n",
              "    }\n",
              "\n",
              "    .dataframe tbody tr th {\n",
              "        vertical-align: top;\n",
              "    }\n",
              "\n",
              "    .dataframe thead th {\n",
              "        text-align: right;\n",
              "    }\n",
              "</style>\n",
              "<table border=\"1\" class=\"dataframe\">\n",
              "  <thead>\n",
              "    <tr style=\"text-align: right;\">\n",
              "      <th></th>\n",
              "      <th>diagnosis</th>\n",
              "      <th>radius_mean</th>\n",
              "      <th>texture_mean</th>\n",
              "    </tr>\n",
              "  </thead>\n",
              "  <tbody>\n",
              "    <tr>\n",
              "      <th>0</th>\n",
              "      <td>1</td>\n",
              "      <td>17.99</td>\n",
              "      <td>10.38</td>\n",
              "    </tr>\n",
              "    <tr>\n",
              "      <th>1</th>\n",
              "      <td>1</td>\n",
              "      <td>20.57</td>\n",
              "      <td>17.77</td>\n",
              "    </tr>\n",
              "    <tr>\n",
              "      <th>2</th>\n",
              "      <td>1</td>\n",
              "      <td>19.69</td>\n",
              "      <td>21.25</td>\n",
              "    </tr>\n",
              "    <tr>\n",
              "      <th>3</th>\n",
              "      <td>1</td>\n",
              "      <td>11.42</td>\n",
              "      <td>20.38</td>\n",
              "    </tr>\n",
              "    <tr>\n",
              "      <th>4</th>\n",
              "      <td>1</td>\n",
              "      <td>20.29</td>\n",
              "      <td>14.34</td>\n",
              "    </tr>\n",
              "  </tbody>\n",
              "</table>\n",
              "</div>"
            ],
            "text/plain": [
              "   diagnosis  radius_mean  texture_mean\n",
              "0          1        17.99         10.38\n",
              "1          1        20.57         17.77\n",
              "2          1        19.69         21.25\n",
              "3          1        11.42         20.38\n",
              "4          1        20.29         14.34"
            ]
          },
          "metadata": {
            "tags": []
          },
          "execution_count": 18
        }
      ]
    },
    {
      "cell_type": "markdown",
      "metadata": {
        "id": "hbLMwPKpXmYa"
      },
      "source": [
        "### model로는 LogisticRegression() 사용"
      ]
    },
    {
      "cell_type": "code",
      "metadata": {
        "id": "pMC72KbCXmYa"
      },
      "source": [
        "model=LogisticRegression()\n",
        "y = df[\"diagnosis\"]"
      ],
      "execution_count": null,
      "outputs": []
    },
    {
      "cell_type": "markdown",
      "metadata": {
        "id": "BKEIzp6SXmYb"
      },
      "source": [
        "#### 먼저 radius_mean 특성만 사용\n",
        "- 속성 radius_mean 하나만 사용하여 유방암 진단을 로지스틱 모델로 학습\n",
        "- 테스트 데이터에 적용"
      ]
    },
    {
      "cell_type": "code",
      "metadata": {
        "colab": {
          "base_uri": "https://localhost:8080/"
        },
        "id": "K27yY5wxXmYb",
        "outputId": "d2910e29-5b20-45cf-e14e-568f17118bf2"
      },
      "source": [
        "features = [\"radius_mean\"]\n",
        "X = df[features]\n",
        "np.random.seed(11)\n",
        "\n",
        "X_train, X_test, y_train, y_test = train_test_split(X, y, test_size = 0.3)\n",
        "\n",
        "model.fit(X_train, y_train)\n",
        "print(\"Score: {0:.2%}\".format(model.score(X_test, y_test)))"
      ],
      "execution_count": null,
      "outputs": [
        {
          "output_type": "stream",
          "text": [
            "Score: 85.38%\n"
          ],
          "name": "stdout"
        }
      ]
    },
    {
      "cell_type": "code",
      "metadata": {
        "colab": {
          "base_uri": "https://localhost:8080/"
        },
        "id": "RUM_1-HAXmYb",
        "outputId": "0d0e49b3-1816-475f-d26b-c2c6185f53c5"
      },
      "source": [
        "X_test.shape"
      ],
      "execution_count": null,
      "outputs": [
        {
          "output_type": "execute_result",
          "data": {
            "text/plain": [
              "(171, 1)"
            ]
          },
          "metadata": {
            "tags": []
          },
          "execution_count": 21
        }
      ]
    },
    {
      "cell_type": "code",
      "metadata": {
        "colab": {
          "base_uri": "https://localhost:8080/"
        },
        "id": "mBSrevYvXmYb",
        "outputId": "47d9ff27-76b4-4932-859e-fedc3601059c"
      },
      "source": [
        "print(model.coef_)\n",
        "print(model.intercept_)"
      ],
      "execution_count": null,
      "outputs": [
        {
          "output_type": "stream",
          "text": [
            "[[1.03283783]]\n",
            "[-15.35824085]\n"
          ],
          "name": "stdout"
        }
      ]
    },
    {
      "cell_type": "code",
      "metadata": {
        "colab": {
          "base_uri": "https://localhost:8080/",
          "height": 299
        },
        "id": "r0r6t1TYXmYc",
        "outputId": "228c00a5-7bde-4fff-cbd7-6c0ffc9365b1"
      },
      "source": [
        "plt.figure(figsize=(8,4))\n",
        "plt.scatter(X_train, y_train, s=1)\n",
        "plt.xlabel(\"radius_mean\")\n",
        "plt.ylabel(\"M(1) or B(0)\")\n",
        "\n",
        "def logreg(x):\n",
        "    return 1 / (1 + np.exp(-x))\n",
        "\n",
        "XX = np.linspace(7.5, 40, 100)\n",
        "plt.plot(XX, logreg(model.coef_ * XX + model.intercept_)[0], c='r')"
      ],
      "execution_count": null,
      "outputs": [
        {
          "output_type": "execute_result",
          "data": {
            "text/plain": [
              "[<matplotlib.lines.Line2D at 0x7fce9520ea90>]"
            ]
          },
          "metadata": {
            "tags": []
          },
          "execution_count": 23
        },
        {
          "output_type": "display_data",
          "data": {
            "image/png": "[encoded data removed]",
            "text/plain": [
              "<Figure size 576x288 with 1 Axes>"
            ]
          },
          "metadata": {
            "tags": [],
            "needs_background": "light"
          }
        }
      ]
    },
    {
      "cell_type": "markdown",
      "metadata": {
        "id": "oS8U9IPVXmYc"
      },
      "source": [
        "#### 이번엔 texture_mean 특성만 사용\n",
        "- 속성 texture_mean 하나만 사용하여 유방암 진단을 로지스틱 모델로 학습\n",
        "- 테스트 데이터에 적용"
      ]
    },
    {
      "cell_type": "code",
      "metadata": {
        "id": "qgqrhJfcXmYc",
        "outputId": "ca3652d8-30c5-41db-a5de-5959decb37c1"
      },
      "source": [
        "features = [\"texture_mean\"]\n",
        "X = df[features]\n",
        "X_train, X_test, y_train, y_test = train_test_split(X, y, test_size = 0.3)\n",
        "\n",
        "model.fit(X_train, y_train)\n",
        "print(\"Score: {0:.2%}\".format(model.score(X_test, y_test)))"
      ],
      "execution_count": null,
      "outputs": [
        {
          "output_type": "stream",
          "text": [
            "Score: 66.08%\n"
          ],
          "name": "stdout"
        },
        {
          "output_type": "stream",
          "text": [
            "C:\\Users\\admin\\Anaconda3\\lib\\site-packages\\sklearn\\linear_model\\logistic.py:433: FutureWarning: Default solver will be changed to 'lbfgs' in 0.22. Specify a solver to silence this warning.\n",
            "  FutureWarning)\n"
          ],
          "name": "stderr"
        }
      ]
    },
    {
      "cell_type": "code",
      "metadata": {
        "id": "xX_PcY55XmYd",
        "outputId": "aa26c4c0-e147-4629-9b51-2d13d73e4498"
      },
      "source": [
        "print(model.coef_)\n",
        "print(model.intercept_)"
      ],
      "execution_count": null,
      "outputs": [
        {
          "output_type": "stream",
          "text": [
            "[[0.17814003]]\n",
            "[-3.99279766]\n"
          ],
          "name": "stdout"
        }
      ]
    },
    {
      "cell_type": "code",
      "metadata": {
        "id": "AglQeex2XmYd",
        "outputId": "fefdf797-4c27-4831-e9b5-823191eecce9"
      },
      "source": [
        "plt.figure(figsize=(8,4))\n",
        "plt.scatter(X_train, y_train, s=1)\n",
        "plt.xlabel(\"texture_mean\")\n",
        "plt.ylabel(\"M(1) or B(0)\")\n",
        "\n",
        "XX = np.linspace(7.5, 40, 100)\n",
        "plt.plot(XX, logreg(model.coef_ * XX + model.intercept_)[0], c='r')"
      ],
      "execution_count": null,
      "outputs": [
        {
          "output_type": "execute_result",
          "data": {
            "text/plain": [
              "[<matplotlib.lines.Line2D at 0x16c2fe5c240>]"
            ]
          },
          "metadata": {
            "tags": []
          },
          "execution_count": 28
        },
        {
          "output_type": "display_data",
          "data": {
            "image/png": "[encoded data removed]",
            "text/plain": [
              "<Figure size 576x288 with 1 Axes>"
            ]
          },
          "metadata": {
            "tags": [],
            "image/png": {
              "height": 263,
              "width": 499
            },
            "needs_background": "light"
          }
        }
      ]
    },
    {
      "cell_type": "markdown",
      "metadata": {
        "id": "-m6pnf40XmYd"
      },
      "source": [
        "#### 이제 2개의 특성을 모두 사용\n",
        "- 속성 radius_mean, texture_mean 2개를 모두 사용하여 유방암 진단을 로지스틱 모델로 학습\n",
        "- 테스트 데이터에 적용"
      ]
    },
    {
      "cell_type": "code",
      "metadata": {
        "scrolled": true,
        "id": "Ot9C4zLpXmYd",
        "outputId": "b6503b09-0624-4f02-ef24-579ac1b00289"
      },
      "source": [
        "features = [\"radius_mean\", \"texture_mean\"]\n",
        "\n",
        "X = df[features]\n",
        "X_train, X_test, y_train, y_test = train_test_split(X, y, test_size = 0.3)\n",
        "\n",
        "model.fit(X_train, y_train)\n",
        "print(\"Score: {0:.2%}\".format(model.score(X_test, y_test)))"
      ],
      "execution_count": null,
      "outputs": [
        {
          "output_type": "stream",
          "text": [
            "Score: 88.89%\n"
          ],
          "name": "stdout"
        },
        {
          "output_type": "stream",
          "text": [
            "C:\\Users\\admin\\Anaconda3\\lib\\site-packages\\sklearn\\linear_model\\logistic.py:433: FutureWarning: Default solver will be changed to 'lbfgs' in 0.22. Specify a solver to silence this warning.\n",
            "  FutureWarning)\n"
          ],
          "name": "stderr"
        }
      ]
    },
    {
      "cell_type": "markdown",
      "metadata": {
        "id": "n5PMpjCPXmYe"
      },
      "source": [
        "- 성능이 개선된 것을 볼 수 있다"
      ]
    },
    {
      "cell_type": "code",
      "metadata": {
        "id": "4f88hBeXXmYe",
        "outputId": "8a142cb7-f812-416c-e2a9-4a8a94bddbe0"
      },
      "source": [
        "markers = ['o', 'v']\n",
        "label = [\"B\", \"M\"]\n",
        "for i in range(2):\n",
        "    xs = X_train[\"radius_mean\"][y_train == i]\n",
        "    ys = X_train[\"texture_mean\"][y_train == i]\n",
        "    plt.scatter(xs, ys, marker=markers[i], s=10)\n",
        "plt.legend(label)\n",
        "plt.xlabel(\"radius_mean\")\n",
        "plt.ylabel(\"texture_mean\")"
      ],
      "execution_count": null,
      "outputs": [
        {
          "output_type": "execute_result",
          "data": {
            "text/plain": [
              "Text(0, 0.5, 'texture_mean')"
            ]
          },
          "metadata": {
            "tags": []
          },
          "execution_count": 31
        },
        {
          "output_type": "display_data",
          "data": {
            "image/png": "[encoded data removed]",
            "text/plain": [
              "<Figure size 432x288 with 1 Axes>"
            ]
          },
          "metadata": {
            "tags": [],
            "image/png": {
              "height": 265,
              "width": 384
            },
            "needs_background": "light"
          }
        }
      ]
    },
    {
      "cell_type": "markdown",
      "metadata": {
        "id": "IsaMmkGfXmYe"
      },
      "source": [
        "## 원래 데이터의 모든 속성을 다 사용하여 로지스틱 회귀 분석을 수행"
      ]
    },
    {
      "cell_type": "code",
      "metadata": {
        "id": "mLs9yIGaXmYf"
      },
      "source": [
        "data.drop('id',axis=1,inplace=True)\n",
        "data.drop('Unnamed: 32',axis=1,inplace=True)\n",
        "X=data.drop('diagnosis', axis=1)"
      ],
      "execution_count": null,
      "outputs": []
    },
    {
      "cell_type": "code",
      "metadata": {
        "id": "0i1g0aQCXmYf",
        "outputId": "e74158c6-0afc-4114-c59f-43aee61c71bc"
      },
      "source": [
        "np.random.seed(11)\n",
        "X_train, X_test, y_train, y_test = train_test_split(X, y, test_size = 0.3)\n",
        "model_all = LogisticRegression()\n",
        "model_all.fit(X_train, y_train)\n",
        "print(\"Score: {0:.2%}\".format(model_all.score(X_test, y_test)))"
      ],
      "execution_count": null,
      "outputs": [
        {
          "output_type": "stream",
          "text": [
            "Score: 93.57%\n"
          ],
          "name": "stdout"
        },
        {
          "output_type": "stream",
          "text": [
            "C:\\Users\\admin\\Anaconda3\\lib\\site-packages\\sklearn\\linear_model\\logistic.py:433: FutureWarning: Default solver will be changed to 'lbfgs' in 0.22. Specify a solver to silence this warning.\n",
            "  FutureWarning)\n"
          ],
          "name": "stderr"
        }
      ]
    },
    {
      "cell_type": "markdown",
      "metadata": {
        "id": "fRfVeADuXmYg"
      },
      "source": [
        "# 모든 속성을 다 사용한 경우의 kNN의 성능"
      ]
    },
    {
      "cell_type": "code",
      "metadata": {
        "id": "JQhtWUWAXmYg",
        "outputId": "7e13f689-adef-4f4f-92eb-46b93671d4d6"
      },
      "source": [
        "from sklearn.neighbors import KNeighborsClassifier  \n",
        "\n",
        "for i in range(1,21,2):\n",
        "    knn = KNeighborsClassifier(n_neighbors=i)\n",
        "    knn.fit(X_train, y_train)\n",
        "    print(\"K = \", i, \"-> Score: {0:.2%}\".format(knn.score(X_test, y_test)))"
      ],
      "execution_count": null,
      "outputs": [
        {
          "output_type": "stream",
          "text": [
            "K =  1 -> Score: 90.06%\n",
            "K =  3 -> Score: 91.81%\n",
            "K =  5 -> Score: 93.57%\n",
            "K =  7 -> Score: 92.98%\n",
            "K =  9 -> Score: 92.98%\n",
            "K =  11 -> Score: 92.40%\n",
            "K =  13 -> Score: 92.40%\n",
            "K =  15 -> Score: 91.81%\n",
            "K =  17 -> Score: 91.81%\n",
            "K =  19 -> Score: 91.81%\n"
          ],
          "name": "stdout"
        }
      ]
    },
    {
      "cell_type": "markdown",
      "metadata": {
        "id": "KJ9uq5EiXmYg"
      },
      "source": [
        "# 결정 트리"
      ]
    },
    {
      "cell_type": "code",
      "metadata": {
        "id": "0q_bcMWzXmYg",
        "outputId": "909ed0c0-506b-4b16-e19d-b7979faab587"
      },
      "source": [
        "from sklearn.tree import DecisionTreeClassifier\n",
        "\n",
        "tree = DecisionTreeClassifier()\n",
        "tree.fit(X_train, y_train)\n",
        "print(\"결정트리 -> {:.2%}\".format(tree.score(X_test, y_test)))"
      ],
      "execution_count": null,
      "outputs": [
        {
          "output_type": "stream",
          "text": [
            "결정트리 -> 92.98%\n"
          ],
          "name": "stdout"
        }
      ]
    },
    {
      "cell_type": "markdown",
      "metadata": {
        "id": "8j2E39eYXmYh"
      },
      "source": [
        "# 랜덤 포레스트"
      ]
    },
    {
      "cell_type": "code",
      "metadata": {
        "id": "W7rlT0iIXmYh",
        "outputId": "748ee18d-e8cb-47c4-a10d-9a6ec3b3f2c2"
      },
      "source": [
        "from sklearn.ensemble import RandomForestClassifier\n",
        "\n",
        "rfc = RandomForestClassifier(n_estimators=1000)\n",
        "rfc.fit(X_train, y_train)\n",
        "print(\"랜덤포레스트 : {:.2%}\".format(rfc.score(X_test, y_test)))"
      ],
      "execution_count": null,
      "outputs": [
        {
          "output_type": "stream",
          "text": [
            "랜덤포레스트 : 96.49%\n"
          ],
          "name": "stdout"
        }
      ]
    },
    {
      "cell_type": "markdown",
      "metadata": {
        "id": "6i-xD1h4XmYh"
      },
      "source": [
        "- 랜덤 포레스트를 사용할 경우, 성능이 가장 좋은 것을 알 수 있다."
      ]
    },
    {
      "cell_type": "markdown",
      "metadata": {
        "id": "uQkI7OwRXmYh"
      },
      "source": [
        "## 소프트맥스\n",
        "- 다항 로지스틱스\n",
        "     * 각 클래스로 분류될 가능성을 나타내는 점수를 구하고\n",
        "     * 이 점수들을 사용하여 상대적인 확률을 구하는 softmax 함수 사용\n",
        "     * 입력값이 음수이어도 출력은 0~1 사의 값을 가진다."
      ]
    },
    {
      "cell_type": "code",
      "metadata": {
        "id": "SBjXUfzIXmYi",
        "outputId": "91a61cb1-3757-4b41-907e-1c3d7e5342e4"
      },
      "source": [
        "score = [-1, -0.5, 1.0, 1.5]\n",
        "\n",
        "prob = []\n",
        "sum = 0\n",
        "for i in range(len(score)):\n",
        "    prob.append(np.exp(score[i]))\n",
        "    sum = sum + np.exp(score[i])\n",
        "\n",
        "prob = prob/sum\n",
        "print(prob.round(3))"
      ],
      "execution_count": null,
      "outputs": [
        {
          "output_type": "stream",
          "text": [
            "[0.045 0.074 0.333 0.548]\n"
          ],
          "name": "stdout"
        }
      ]
    },
    {
      "cell_type": "code",
      "metadata": {
        "id": "z_CKe73GXmYi"
      },
      "source": [
        ""
      ],
      "execution_count": null,
      "outputs": []
    }
  ]
}
