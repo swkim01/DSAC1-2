{
  "nbformat": 4,
  "nbformat_minor": 0,
  "metadata": {
    "kernelspec": {
      "display_name": "Python 3",
      "language": "python",
      "name": "python3"
    },
    "language_info": {
      "codemirror_mode": {
        "name": "ipython",
        "version": 3
      },
      "file_extension": ".py",
      "mimetype": "text/x-python",
      "name": "python",
      "nbconvert_exporter": "python",
      "pygments_lexer": "ipython3",
      "version": "3.8.5"
    },
    "colab": {
      "name": "gg-05-데이터프레임연습.ipynb",
      "provenance": []
    }
  },
  "cells": [
    {
      "cell_type": "markdown",
      "metadata": {
        "id": "pymPuSLtulFD"
      },
      "source": [
        "# DataFrame 연습\n",
        "\n",
        "<table class=\"tfo-notebook-buttons\" align=\"left\">\n",
        "  <td>\n",
        "    <a target=\"_blank\" href=\"https://colab.research.google.com/github/swkim01/DSAC1-2/blob/main/gg-05-데이터프레임연습.ipynb\"><img src=\"https://github.com/swkim01/DSAC1-2/raw/main/colab_logo_32px.png\" />구글 코랩에서 실행</a>\n",
        "  </td>\n",
        "  <td>\n",
        "    <a target=\"_blank\" href=\"https://github.com/swkim01/DSAC1-2/blob/main/gg-05-데이터프레임연습.ipynb\"><img src=\"https://github.com/swkim01/DSAC1-2/raw/main/GitHub-Mark-32px.png\" />깃헙에서 소스 보기</a>\n",
        "  </td>\n",
        "</table>"
      ]
    },
    {
      "cell_type": "markdown",
      "metadata": {
        "id": "ge78lwWIulFO"
      },
      "source": [
        "- Pandas 객체 type : Series / DataFrame"
      ]
    },
    {
      "cell_type": "code",
      "metadata": {
        "id": "ZjweTw5lulFP"
      },
      "source": [
        "import numpy as np\n",
        "import pandas as pd\n",
        "from pandas import Series, DataFrame "
      ],
      "execution_count": 1,
      "outputs": []
    },
    {
      "cell_type": "markdown",
      "metadata": {
        "id": "JWzjtly3ulFQ"
      },
      "source": [
        "## 정렬\n",
        "- index(인덱스)를 기준으로 정렬하는 방법\n",
        "- Series의 기본 구조는 index와 그 index에 맵핑에 되는 values 값이 있다.\n",
        "- 사용 형식 : Series(values 값 , index = index 값) "
      ]
    },
    {
      "cell_type": "code",
      "metadata": {
        "id": "GPwMCTp1ulFR",
        "outputId": "2dace2a6-e722-4143-baa7-8e4d613cdf60",
        "colab": {
          "base_uri": "https://localhost:8080/"
        }
      },
      "source": [
        "obj = Series(range(4), index=['d', 'a', 'b', 'c'])\n",
        "obj"
      ],
      "execution_count": 2,
      "outputs": [
        {
          "output_type": "execute_result",
          "data": {
            "text/plain": [
              "d    0\n",
              "a    1\n",
              "b    2\n",
              "c    3\n",
              "dtype: int64"
            ]
          },
          "metadata": {
            "tags": []
          },
          "execution_count": 2
        }
      ]
    },
    {
      "cell_type": "code",
      "metadata": {
        "id": "hqUM_BMCulFS",
        "outputId": "aeb22266-4504-469b-e6ca-345d15ebad5e",
        "colab": {
          "base_uri": "https://localhost:8080/"
        }
      },
      "source": [
        "obj.sort_index() "
      ],
      "execution_count": 3,
      "outputs": [
        {
          "output_type": "execute_result",
          "data": {
            "text/plain": [
              "a    1\n",
              "b    2\n",
              "c    3\n",
              "d    0\n",
              "dtype: int64"
            ]
          },
          "metadata": {
            "tags": []
          },
          "execution_count": 3
        }
      ]
    },
    {
      "cell_type": "code",
      "metadata": {
        "id": "NnA3sNb1ulFT",
        "outputId": "d2377cca-3b7f-488b-f11d-4c498a055c45",
        "colab": {
          "base_uri": "https://localhost:8080/"
        }
      },
      "source": [
        "obj ## 위에서 sort를 해줬으나 obj의 결과는 변하지 않는다."
      ],
      "execution_count": 4,
      "outputs": [
        {
          "output_type": "execute_result",
          "data": {
            "text/plain": [
              "d    0\n",
              "a    1\n",
              "b    2\n",
              "c    3\n",
              "dtype: int64"
            ]
          },
          "metadata": {
            "tags": []
          },
          "execution_count": 4
        }
      ]
    },
    {
      "cell_type": "markdown",
      "metadata": {
        "id": "xgjZlpJ2ulFT"
      },
      "source": [
        "- 임의의 DataFrame를 만들면서 index, column 명 지정"
      ]
    },
    {
      "cell_type": "code",
      "metadata": {
        "id": "BgMOH1vlulFU",
        "outputId": "1b28e611-0335-4b38-e07a-7db4c30149d8",
        "colab": {
          "base_uri": "https://localhost:8080/",
          "height": 111
        }
      },
      "source": [
        "frame = DataFrame(np.arange(8).reshape((2, 4)), index=['three', 'one'],\n",
        "                  columns=['d', 'a', 'b', 'c'])\n",
        "frame"
      ],
      "execution_count": 5,
      "outputs": [
        {
          "output_type": "execute_result",
          "data": {
            "text/html": [
              "<div>\n",
              "<style scoped>\n",
              "    .dataframe tbody tr th:only-of-type {\n",
              "        vertical-align: middle;\n",
              "    }\n",
              "\n",
              "    .dataframe tbody tr th {\n",
              "        vertical-align: top;\n",
              "    }\n",
              "\n",
              "    .dataframe thead th {\n",
              "        text-align: right;\n",
              "    }\n",
              "</style>\n",
              "<table border=\"1\" class=\"dataframe\">\n",
              "  <thead>\n",
              "    <tr style=\"text-align: right;\">\n",
              "      <th></th>\n",
              "      <th>d</th>\n",
              "      <th>a</th>\n",
              "      <th>b</th>\n",
              "      <th>c</th>\n",
              "    </tr>\n",
              "  </thead>\n",
              "  <tbody>\n",
              "    <tr>\n",
              "      <th>three</th>\n",
              "      <td>0</td>\n",
              "      <td>1</td>\n",
              "      <td>2</td>\n",
              "      <td>3</td>\n",
              "    </tr>\n",
              "    <tr>\n",
              "      <th>one</th>\n",
              "      <td>4</td>\n",
              "      <td>5</td>\n",
              "      <td>6</td>\n",
              "      <td>7</td>\n",
              "    </tr>\n",
              "  </tbody>\n",
              "</table>\n",
              "</div>"
            ],
            "text/plain": [
              "       d  a  b  c\n",
              "three  0  1  2  3\n",
              "one    4  5  6  7"
            ]
          },
          "metadata": {
            "tags": []
          },
          "execution_count": 5
        }
      ]
    },
    {
      "cell_type": "markdown",
      "metadata": {
        "id": "onF_9WLaulFU"
      },
      "source": [
        "- sort_index() : index/column명을 기준으로 정렬(Alphabet 순)\n",
        "   * default : 행(row), 즉 index 기준"
      ]
    },
    {
      "cell_type": "code",
      "metadata": {
        "scrolled": true,
        "id": "7RAE7w2wulFV",
        "outputId": "61fc3434-eab3-40af-bfa4-5b5ccff6870a"
      },
      "source": [
        "frame.sort_index()"
      ],
      "execution_count": null,
      "outputs": [
        {
          "output_type": "execute_result",
          "data": {
            "text/html": [
              "<div>\n",
              "<style scoped>\n",
              "    .dataframe tbody tr th:only-of-type {\n",
              "        vertical-align: middle;\n",
              "    }\n",
              "\n",
              "    .dataframe tbody tr th {\n",
              "        vertical-align: top;\n",
              "    }\n",
              "\n",
              "    .dataframe thead th {\n",
              "        text-align: right;\n",
              "    }\n",
              "</style>\n",
              "<table border=\"1\" class=\"dataframe\">\n",
              "  <thead>\n",
              "    <tr style=\"text-align: right;\">\n",
              "      <th></th>\n",
              "      <th>d</th>\n",
              "      <th>a</th>\n",
              "      <th>b</th>\n",
              "      <th>c</th>\n",
              "    </tr>\n",
              "  </thead>\n",
              "  <tbody>\n",
              "    <tr>\n",
              "      <th>one</th>\n",
              "      <td>4</td>\n",
              "      <td>5</td>\n",
              "      <td>6</td>\n",
              "      <td>7</td>\n",
              "    </tr>\n",
              "    <tr>\n",
              "      <th>three</th>\n",
              "      <td>0</td>\n",
              "      <td>1</td>\n",
              "      <td>2</td>\n",
              "      <td>3</td>\n",
              "    </tr>\n",
              "  </tbody>\n",
              "</table>\n",
              "</div>"
            ],
            "text/plain": [
              "       d  a  b  c\n",
              "one    4  5  6  7\n",
              "three  0  1  2  3"
            ]
          },
          "metadata": {
            "tags": []
          },
          "execution_count": 17
        }
      ]
    },
    {
      "cell_type": "markdown",
      "metadata": {
        "id": "oLGlVwU7ulFV"
      },
      "source": [
        "- 열(column) 기준(컬럼 명)으로 정렬\n",
        "   * default : 오름차순"
      ]
    },
    {
      "cell_type": "code",
      "metadata": {
        "id": "T-gvELMUulFW",
        "outputId": "d07ea98f-0ca5-447b-ca31-a6f2831f1cd5"
      },
      "source": [
        "frame.sort_index(axis=1)\n",
        "# 열을 기준으로 정렬"
      ],
      "execution_count": null,
      "outputs": [
        {
          "output_type": "execute_result",
          "data": {
            "text/html": [
              "<div>\n",
              "<style scoped>\n",
              "    .dataframe tbody tr th:only-of-type {\n",
              "        vertical-align: middle;\n",
              "    }\n",
              "\n",
              "    .dataframe tbody tr th {\n",
              "        vertical-align: top;\n",
              "    }\n",
              "\n",
              "    .dataframe thead th {\n",
              "        text-align: right;\n",
              "    }\n",
              "</style>\n",
              "<table border=\"1\" class=\"dataframe\">\n",
              "  <thead>\n",
              "    <tr style=\"text-align: right;\">\n",
              "      <th></th>\n",
              "      <th>a</th>\n",
              "      <th>b</th>\n",
              "      <th>c</th>\n",
              "      <th>d</th>\n",
              "    </tr>\n",
              "  </thead>\n",
              "  <tbody>\n",
              "    <tr>\n",
              "      <th>three</th>\n",
              "      <td>1</td>\n",
              "      <td>2</td>\n",
              "      <td>3</td>\n",
              "      <td>0</td>\n",
              "    </tr>\n",
              "    <tr>\n",
              "      <th>one</th>\n",
              "      <td>5</td>\n",
              "      <td>6</td>\n",
              "      <td>7</td>\n",
              "      <td>4</td>\n",
              "    </tr>\n",
              "  </tbody>\n",
              "</table>\n",
              "</div>"
            ],
            "text/plain": [
              "       a  b  c  d\n",
              "three  1  2  3  0\n",
              "one    5  6  7  4"
            ]
          },
          "metadata": {
            "tags": []
          },
          "execution_count": 18
        }
      ]
    },
    {
      "cell_type": "markdown",
      "metadata": {
        "id": "z5XqUxEculFW"
      },
      "source": [
        "- 열(column) 기준(컬럼 명) 정렬, 내림차순"
      ]
    },
    {
      "cell_type": "code",
      "metadata": {
        "scrolled": true,
        "id": "IikXzCXjulFX",
        "outputId": "197c2b32-becd-41ae-f8cb-823c220afaed"
      },
      "source": [
        "frame.sort_index(axis=1, ascending=False)\n",
        "# 내림차순으로 정렬"
      ],
      "execution_count": null,
      "outputs": [
        {
          "output_type": "execute_result",
          "data": {
            "text/html": [
              "<div>\n",
              "<style scoped>\n",
              "    .dataframe tbody tr th:only-of-type {\n",
              "        vertical-align: middle;\n",
              "    }\n",
              "\n",
              "    .dataframe tbody tr th {\n",
              "        vertical-align: top;\n",
              "    }\n",
              "\n",
              "    .dataframe thead th {\n",
              "        text-align: right;\n",
              "    }\n",
              "</style>\n",
              "<table border=\"1\" class=\"dataframe\">\n",
              "  <thead>\n",
              "    <tr style=\"text-align: right;\">\n",
              "      <th></th>\n",
              "      <th>d</th>\n",
              "      <th>c</th>\n",
              "      <th>b</th>\n",
              "      <th>a</th>\n",
              "    </tr>\n",
              "  </thead>\n",
              "  <tbody>\n",
              "    <tr>\n",
              "      <th>three</th>\n",
              "      <td>0</td>\n",
              "      <td>3</td>\n",
              "      <td>2</td>\n",
              "      <td>1</td>\n",
              "    </tr>\n",
              "    <tr>\n",
              "      <th>one</th>\n",
              "      <td>4</td>\n",
              "      <td>7</td>\n",
              "      <td>6</td>\n",
              "      <td>5</td>\n",
              "    </tr>\n",
              "  </tbody>\n",
              "</table>\n",
              "</div>"
            ],
            "text/plain": [
              "       d  c  b  a\n",
              "three  0  3  2  1\n",
              "one    4  7  6  5"
            ]
          },
          "metadata": {
            "tags": []
          },
          "execution_count": 19
        }
      ]
    },
    {
      "cell_type": "markdown",
      "metadata": {
        "id": "YXF4o0IpulFX"
      },
      "source": [
        "- sort_values() : DataFrame 내 value(값)을 기준으로 정렬"
      ]
    },
    {
      "cell_type": "code",
      "metadata": {
        "scrolled": true,
        "id": "G-vS2c5SulFY",
        "outputId": "5ca36c79-6f24-44b3-aec5-eb56aa479e32"
      },
      "source": [
        "frame = DataFrame({'b': [4,7,3,2], 'a': [4,9,2,5], 'c': [5,3,7,9]}) \n",
        "frame"
      ],
      "execution_count": null,
      "outputs": [
        {
          "output_type": "execute_result",
          "data": {
            "text/html": [
              "<div>\n",
              "<style scoped>\n",
              "    .dataframe tbody tr th:only-of-type {\n",
              "        vertical-align: middle;\n",
              "    }\n",
              "\n",
              "    .dataframe tbody tr th {\n",
              "        vertical-align: top;\n",
              "    }\n",
              "\n",
              "    .dataframe thead th {\n",
              "        text-align: right;\n",
              "    }\n",
              "</style>\n",
              "<table border=\"1\" class=\"dataframe\">\n",
              "  <thead>\n",
              "    <tr style=\"text-align: right;\">\n",
              "      <th></th>\n",
              "      <th>b</th>\n",
              "      <th>a</th>\n",
              "      <th>c</th>\n",
              "    </tr>\n",
              "  </thead>\n",
              "  <tbody>\n",
              "    <tr>\n",
              "      <th>0</th>\n",
              "      <td>4</td>\n",
              "      <td>4</td>\n",
              "      <td>5</td>\n",
              "    </tr>\n",
              "    <tr>\n",
              "      <th>1</th>\n",
              "      <td>7</td>\n",
              "      <td>9</td>\n",
              "      <td>3</td>\n",
              "    </tr>\n",
              "    <tr>\n",
              "      <th>2</th>\n",
              "      <td>3</td>\n",
              "      <td>2</td>\n",
              "      <td>7</td>\n",
              "    </tr>\n",
              "    <tr>\n",
              "      <th>3</th>\n",
              "      <td>2</td>\n",
              "      <td>5</td>\n",
              "      <td>9</td>\n",
              "    </tr>\n",
              "  </tbody>\n",
              "</table>\n",
              "</div>"
            ],
            "text/plain": [
              "   b  a  c\n",
              "0  4  4  5\n",
              "1  7  9  3\n",
              "2  3  2  7\n",
              "3  2  5  9"
            ]
          },
          "metadata": {
            "tags": []
          },
          "execution_count": 20
        }
      ]
    },
    {
      "cell_type": "code",
      "metadata": {
        "id": "TJ6HOzBHulFY",
        "outputId": "bbe9f365-208d-4137-9ccb-d2daf72177ca"
      },
      "source": [
        "frame.sort_values(by='b')"
      ],
      "execution_count": null,
      "outputs": [
        {
          "output_type": "execute_result",
          "data": {
            "text/html": [
              "<div>\n",
              "<style scoped>\n",
              "    .dataframe tbody tr th:only-of-type {\n",
              "        vertical-align: middle;\n",
              "    }\n",
              "\n",
              "    .dataframe tbody tr th {\n",
              "        vertical-align: top;\n",
              "    }\n",
              "\n",
              "    .dataframe thead th {\n",
              "        text-align: right;\n",
              "    }\n",
              "</style>\n",
              "<table border=\"1\" class=\"dataframe\">\n",
              "  <thead>\n",
              "    <tr style=\"text-align: right;\">\n",
              "      <th></th>\n",
              "      <th>b</th>\n",
              "      <th>a</th>\n",
              "      <th>c</th>\n",
              "    </tr>\n",
              "  </thead>\n",
              "  <tbody>\n",
              "    <tr>\n",
              "      <th>3</th>\n",
              "      <td>2</td>\n",
              "      <td>5</td>\n",
              "      <td>9</td>\n",
              "    </tr>\n",
              "    <tr>\n",
              "      <th>2</th>\n",
              "      <td>3</td>\n",
              "      <td>2</td>\n",
              "      <td>7</td>\n",
              "    </tr>\n",
              "    <tr>\n",
              "      <th>0</th>\n",
              "      <td>4</td>\n",
              "      <td>4</td>\n",
              "      <td>5</td>\n",
              "    </tr>\n",
              "    <tr>\n",
              "      <th>1</th>\n",
              "      <td>7</td>\n",
              "      <td>9</td>\n",
              "      <td>3</td>\n",
              "    </tr>\n",
              "  </tbody>\n",
              "</table>\n",
              "</div>"
            ],
            "text/plain": [
              "   b  a  c\n",
              "3  2  5  9\n",
              "2  3  2  7\n",
              "0  4  4  5\n",
              "1  7  9  3"
            ]
          },
          "metadata": {
            "tags": []
          },
          "execution_count": 21
        }
      ]
    },
    {
      "cell_type": "code",
      "metadata": {
        "id": "bjGdhLDCulFZ",
        "outputId": "94c9cd40-2ae7-4060-cfcd-05cdbc9f4ddb"
      },
      "source": [
        "frame.sort_values(by='a')"
      ],
      "execution_count": null,
      "outputs": [
        {
          "output_type": "execute_result",
          "data": {
            "text/html": [
              "<div>\n",
              "<style scoped>\n",
              "    .dataframe tbody tr th:only-of-type {\n",
              "        vertical-align: middle;\n",
              "    }\n",
              "\n",
              "    .dataframe tbody tr th {\n",
              "        vertical-align: top;\n",
              "    }\n",
              "\n",
              "    .dataframe thead th {\n",
              "        text-align: right;\n",
              "    }\n",
              "</style>\n",
              "<table border=\"1\" class=\"dataframe\">\n",
              "  <thead>\n",
              "    <tr style=\"text-align: right;\">\n",
              "      <th></th>\n",
              "      <th>b</th>\n",
              "      <th>a</th>\n",
              "      <th>c</th>\n",
              "    </tr>\n",
              "  </thead>\n",
              "  <tbody>\n",
              "    <tr>\n",
              "      <th>2</th>\n",
              "      <td>3</td>\n",
              "      <td>2</td>\n",
              "      <td>7</td>\n",
              "    </tr>\n",
              "    <tr>\n",
              "      <th>0</th>\n",
              "      <td>4</td>\n",
              "      <td>4</td>\n",
              "      <td>5</td>\n",
              "    </tr>\n",
              "    <tr>\n",
              "      <th>3</th>\n",
              "      <td>2</td>\n",
              "      <td>5</td>\n",
              "      <td>9</td>\n",
              "    </tr>\n",
              "    <tr>\n",
              "      <th>1</th>\n",
              "      <td>7</td>\n",
              "      <td>9</td>\n",
              "      <td>3</td>\n",
              "    </tr>\n",
              "  </tbody>\n",
              "</table>\n",
              "</div>"
            ],
            "text/plain": [
              "   b  a  c\n",
              "2  3  2  7\n",
              "0  4  4  5\n",
              "3  2  5  9\n",
              "1  7  9  3"
            ]
          },
          "metadata": {
            "tags": []
          },
          "execution_count": 22
        }
      ]
    },
    {
      "cell_type": "markdown",
      "metadata": {
        "id": "wrzlU0KlulFZ"
      },
      "source": [
        "## 순위 배정"
      ]
    },
    {
      "cell_type": "markdown",
      "metadata": {
        "id": "3oLXqOnrulFa"
      },
      "source": [
        "- rank() : 순위를 정하고, 순위 값을 배정\n",
        "   * default : 열(column) 기준, 오름차순"
      ]
    },
    {
      "cell_type": "code",
      "metadata": {
        "id": "_0PGGQWEulFa",
        "outputId": "bab4b7c8-0f4c-4301-b427-9986d4a21e13"
      },
      "source": [
        "# 순위 매기기 rank\n",
        "obj = Series([100, 23, 55, 44, 22, 99, 33])\n",
        "obj.rank()"
      ],
      "execution_count": null,
      "outputs": [
        {
          "output_type": "execute_result",
          "data": {
            "text/plain": [
              "0    7.0\n",
              "1    2.0\n",
              "2    5.0\n",
              "3    4.0\n",
              "4    1.0\n",
              "5    6.0\n",
              "6    3.0\n",
              "dtype: float64"
            ]
          },
          "metadata": {
            "tags": []
          },
          "execution_count": 26
        }
      ]
    },
    {
      "cell_type": "markdown",
      "metadata": {
        "id": "GhsmNG_CulFb"
      },
      "source": [
        "- 내림 차순, 순위 매기기"
      ]
    },
    {
      "cell_type": "code",
      "metadata": {
        "scrolled": true,
        "id": "z-uN4K7TulFb",
        "outputId": "3e96f9bc-9420-4c47-92f5-86beddbe9e16"
      },
      "source": [
        "# 내림차순으로 순위를 매긴다\n",
        "obj.rank(ascending=False)"
      ],
      "execution_count": null,
      "outputs": [
        {
          "output_type": "execute_result",
          "data": {
            "text/plain": [
              "0    1.0\n",
              "1    6.0\n",
              "2    3.0\n",
              "3    4.0\n",
              "4    7.0\n",
              "5    2.0\n",
              "6    5.0\n",
              "dtype: float64"
            ]
          },
          "metadata": {
            "tags": []
          },
          "execution_count": 27
        }
      ]
    },
    {
      "cell_type": "markdown",
      "metadata": {
        "id": "7R8ET4czulFc"
      },
      "source": [
        "- 동점이 있는 경우\n",
        "   * 순위 값 = 중간 평균 값"
      ]
    },
    {
      "cell_type": "code",
      "metadata": {
        "id": "mQSsypfdulFc",
        "outputId": "6be50b70-3414-40dc-b0f5-599b979def5e"
      },
      "source": [
        "obj = Series([100, 23, 100, 44, 22, 99, 33])\n",
        "obj.rank()\n",
        "# 동점이 있으면 평균값을 준다"
      ],
      "execution_count": null,
      "outputs": [
        {
          "output_type": "execute_result",
          "data": {
            "text/plain": [
              "0    6.5\n",
              "1    2.0\n",
              "2    6.5\n",
              "3    4.0\n",
              "4    1.0\n",
              "5    5.0\n",
              "6    3.0\n",
              "dtype: float64"
            ]
          },
          "metadata": {
            "tags": []
          },
          "execution_count": 31
        }
      ]
    },
    {
      "cell_type": "markdown",
      "metadata": {
        "id": "N-WWkGL8ulFd"
      },
      "source": [
        "- 동점이 있는 경우, 먼저 나타나는 것에게 높은 순위 부여할 수 있다."
      ]
    },
    {
      "cell_type": "code",
      "metadata": {
        "scrolled": true,
        "id": "yq4jw7zMulFd",
        "outputId": "73ca30b1-cd55-4b42-8cd4-a8dec28333da"
      },
      "source": [
        "obj.rank(method='first')\n",
        "# 동일한 값이 존재 할 경우 먼저 나타나는 것에게 높은 순위를 줄 수 있다"
      ],
      "execution_count": null,
      "outputs": [
        {
          "output_type": "execute_result",
          "data": {
            "text/plain": [
              "0    6.0\n",
              "1    2.0\n",
              "2    7.0\n",
              "3    4.0\n",
              "4    1.0\n",
              "5    5.0\n",
              "6    3.0\n",
              "dtype: float64"
            ]
          },
          "metadata": {
            "tags": []
          },
          "execution_count": 41
        }
      ]
    },
    {
      "cell_type": "markdown",
      "metadata": {
        "id": "hC28X7RYulFd"
      },
      "source": [
        "- 행(row) 기준, 순위 매기기\n",
        "   * axis = 1"
      ]
    },
    {
      "cell_type": "code",
      "metadata": {
        "scrolled": true,
        "id": "5_v-nFr6ulFe",
        "outputId": "b4abea4a-0c5a-49a6-fcb1-9a08068645f2"
      },
      "source": [
        "frame = DataFrame({'b': [4,7,3,2], 'a': [4,9,2,5], 'c': [5,3,7,9]})\n",
        "frame"
      ],
      "execution_count": null,
      "outputs": [
        {
          "output_type": "execute_result",
          "data": {
            "text/html": [
              "<div>\n",
              "<style scoped>\n",
              "    .dataframe tbody tr th:only-of-type {\n",
              "        vertical-align: middle;\n",
              "    }\n",
              "\n",
              "    .dataframe tbody tr th {\n",
              "        vertical-align: top;\n",
              "    }\n",
              "\n",
              "    .dataframe thead th {\n",
              "        text-align: right;\n",
              "    }\n",
              "</style>\n",
              "<table border=\"1\" class=\"dataframe\">\n",
              "  <thead>\n",
              "    <tr style=\"text-align: right;\">\n",
              "      <th></th>\n",
              "      <th>b</th>\n",
              "      <th>a</th>\n",
              "      <th>c</th>\n",
              "    </tr>\n",
              "  </thead>\n",
              "  <tbody>\n",
              "    <tr>\n",
              "      <th>0</th>\n",
              "      <td>4</td>\n",
              "      <td>4</td>\n",
              "      <td>5</td>\n",
              "    </tr>\n",
              "    <tr>\n",
              "      <th>1</th>\n",
              "      <td>7</td>\n",
              "      <td>9</td>\n",
              "      <td>3</td>\n",
              "    </tr>\n",
              "    <tr>\n",
              "      <th>2</th>\n",
              "      <td>3</td>\n",
              "      <td>2</td>\n",
              "      <td>7</td>\n",
              "    </tr>\n",
              "    <tr>\n",
              "      <th>3</th>\n",
              "      <td>2</td>\n",
              "      <td>5</td>\n",
              "      <td>9</td>\n",
              "    </tr>\n",
              "  </tbody>\n",
              "</table>\n",
              "</div>"
            ],
            "text/plain": [
              "   b  a  c\n",
              "0  4  4  5\n",
              "1  7  9  3\n",
              "2  3  2  7\n",
              "3  2  5  9"
            ]
          },
          "metadata": {
            "tags": []
          },
          "execution_count": 42
        }
      ]
    },
    {
      "cell_type": "code",
      "metadata": {
        "id": "HnkLDl7uulFe",
        "outputId": "1f836143-6fc7-497c-8e9a-054ef3e27fd7"
      },
      "source": [
        "frame.rank(axis=1) #행 기준으로 rank를 수행"
      ],
      "execution_count": null,
      "outputs": [
        {
          "output_type": "execute_result",
          "data": {
            "text/html": [
              "<div>\n",
              "<style scoped>\n",
              "    .dataframe tbody tr th:only-of-type {\n",
              "        vertical-align: middle;\n",
              "    }\n",
              "\n",
              "    .dataframe tbody tr th {\n",
              "        vertical-align: top;\n",
              "    }\n",
              "\n",
              "    .dataframe thead th {\n",
              "        text-align: right;\n",
              "    }\n",
              "</style>\n",
              "<table border=\"1\" class=\"dataframe\">\n",
              "  <thead>\n",
              "    <tr style=\"text-align: right;\">\n",
              "      <th></th>\n",
              "      <th>b</th>\n",
              "      <th>a</th>\n",
              "      <th>c</th>\n",
              "    </tr>\n",
              "  </thead>\n",
              "  <tbody>\n",
              "    <tr>\n",
              "      <th>0</th>\n",
              "      <td>1.5</td>\n",
              "      <td>1.5</td>\n",
              "      <td>3.0</td>\n",
              "    </tr>\n",
              "    <tr>\n",
              "      <th>1</th>\n",
              "      <td>2.0</td>\n",
              "      <td>3.0</td>\n",
              "      <td>1.0</td>\n",
              "    </tr>\n",
              "    <tr>\n",
              "      <th>2</th>\n",
              "      <td>2.0</td>\n",
              "      <td>1.0</td>\n",
              "      <td>3.0</td>\n",
              "    </tr>\n",
              "    <tr>\n",
              "      <th>3</th>\n",
              "      <td>1.0</td>\n",
              "      <td>2.0</td>\n",
              "      <td>3.0</td>\n",
              "    </tr>\n",
              "  </tbody>\n",
              "</table>\n",
              "</div>"
            ],
            "text/plain": [
              "     b    a    c\n",
              "0  1.5  1.5  3.0\n",
              "1  2.0  3.0  1.0\n",
              "2  2.0  1.0  3.0\n",
              "3  1.0  2.0  3.0"
            ]
          },
          "metadata": {
            "tags": []
          },
          "execution_count": 43
        }
      ]
    },
    {
      "cell_type": "markdown",
      "metadata": {
        "id": "5IOw_xqdulFe"
      },
      "source": [
        "- NaN 있는 경우, 빼고 계산"
      ]
    },
    {
      "cell_type": "code",
      "metadata": {
        "scrolled": true,
        "id": "S8B6z5mxulFf",
        "outputId": "036a8ac8-b2c8-4b17-dc0e-284e930770e3"
      },
      "source": [
        "frame = DataFrame({'b': [4, 7, 3, 2], 'a': [4,9,2,5], 'c': [5,3,7,np.nan]})\n",
        "frame"
      ],
      "execution_count": null,
      "outputs": [
        {
          "output_type": "execute_result",
          "data": {
            "text/html": [
              "<div>\n",
              "<style scoped>\n",
              "    .dataframe tbody tr th:only-of-type {\n",
              "        vertical-align: middle;\n",
              "    }\n",
              "\n",
              "    .dataframe tbody tr th {\n",
              "        vertical-align: top;\n",
              "    }\n",
              "\n",
              "    .dataframe thead th {\n",
              "        text-align: right;\n",
              "    }\n",
              "</style>\n",
              "<table border=\"1\" class=\"dataframe\">\n",
              "  <thead>\n",
              "    <tr style=\"text-align: right;\">\n",
              "      <th></th>\n",
              "      <th>b</th>\n",
              "      <th>a</th>\n",
              "      <th>c</th>\n",
              "    </tr>\n",
              "  </thead>\n",
              "  <tbody>\n",
              "    <tr>\n",
              "      <th>0</th>\n",
              "      <td>4</td>\n",
              "      <td>4</td>\n",
              "      <td>5.0</td>\n",
              "    </tr>\n",
              "    <tr>\n",
              "      <th>1</th>\n",
              "      <td>7</td>\n",
              "      <td>9</td>\n",
              "      <td>3.0</td>\n",
              "    </tr>\n",
              "    <tr>\n",
              "      <th>2</th>\n",
              "      <td>3</td>\n",
              "      <td>2</td>\n",
              "      <td>7.0</td>\n",
              "    </tr>\n",
              "    <tr>\n",
              "      <th>3</th>\n",
              "      <td>2</td>\n",
              "      <td>5</td>\n",
              "      <td>NaN</td>\n",
              "    </tr>\n",
              "  </tbody>\n",
              "</table>\n",
              "</div>"
            ],
            "text/plain": [
              "   b  a    c\n",
              "0  4  4  5.0\n",
              "1  7  9  3.0\n",
              "2  3  2  7.0\n",
              "3  2  5  NaN"
            ]
          },
          "metadata": {
            "tags": []
          },
          "execution_count": 44
        }
      ]
    },
    {
      "cell_type": "markdown",
      "metadata": {
        "id": "VUVeIxoHulFf"
      },
      "source": [
        "- sum() : 합, mean() : 평균 계산\n",
        "   * default : 열(column) 기준"
      ]
    },
    {
      "cell_type": "code",
      "metadata": {
        "scrolled": false,
        "id": "1w3acIQPulFg",
        "outputId": "ae4fc9d5-a907-4101-8d88-741434a461b8"
      },
      "source": [
        "frame.sum()"
      ],
      "execution_count": null,
      "outputs": [
        {
          "output_type": "execute_result",
          "data": {
            "text/plain": [
              "b    16.0\n",
              "a    20.0\n",
              "c    15.0\n",
              "dtype: float64"
            ]
          },
          "metadata": {
            "tags": []
          },
          "execution_count": 45
        }
      ]
    },
    {
      "cell_type": "code",
      "metadata": {
        "id": "XBY9krnNulFg",
        "outputId": "90b8414c-5905-4823-ae8d-4447afab0f3f"
      },
      "source": [
        "frame.mean()"
      ],
      "execution_count": null,
      "outputs": [
        {
          "output_type": "execute_result",
          "data": {
            "text/plain": [
              "b    4.0\n",
              "a    5.0\n",
              "c    5.0\n",
              "dtype: float64"
            ]
          },
          "metadata": {
            "tags": []
          },
          "execution_count": 46
        }
      ]
    },
    {
      "cell_type": "markdown",
      "metadata": {
        "id": "V4FZhE1TulFg"
      },
      "source": [
        "- NaN이 있으면 이를 반영하여 스킵하지 않는다. (skipna=False)\n",
        "- skipna 은 skip NaN을 뜻함."
      ]
    },
    {
      "cell_type": "code",
      "metadata": {
        "scrolled": true,
        "id": "1BpMhWIEulFh",
        "outputId": "7a3d5939-aa33-4fca-a055-2a7742d732c8"
      },
      "source": [
        "frame.sum(skipna=False)"
      ],
      "execution_count": null,
      "outputs": [
        {
          "output_type": "execute_result",
          "data": {
            "text/plain": [
              "b    16.0\n",
              "a    20.0\n",
              "c     NaN\n",
              "dtype: float64"
            ]
          },
          "metadata": {
            "tags": []
          },
          "execution_count": 48
        }
      ]
    },
    {
      "cell_type": "markdown",
      "metadata": {
        "id": "XyNi8RbzulFh"
      },
      "source": [
        "- idxmax() : 최대치가 있는 위치를 반환한다.\n",
        "- idxmin() : 최소치가 있는 위치를 반환한다."
      ]
    },
    {
      "cell_type": "code",
      "metadata": {
        "id": "y8DhFKydulFh",
        "outputId": "63709d9b-8dab-44d8-8c15-00e36d15d33c"
      },
      "source": [
        "frame.idxmax()"
      ],
      "execution_count": null,
      "outputs": [
        {
          "output_type": "execute_result",
          "data": {
            "text/plain": [
              "b    1\n",
              "a    1\n",
              "c    2\n",
              "dtype: int64"
            ]
          },
          "metadata": {
            "tags": []
          },
          "execution_count": 50
        }
      ]
    },
    {
      "cell_type": "code",
      "metadata": {
        "id": "XAAZOwRuulFi",
        "outputId": "b9f135b2-309c-41ef-8765-f43ae67c4da8"
      },
      "source": [
        "frame.idxmin()"
      ],
      "execution_count": null,
      "outputs": [
        {
          "output_type": "execute_result",
          "data": {
            "text/plain": [
              "b    3\n",
              "a    2\n",
              "c    1\n",
              "dtype: int64"
            ]
          },
          "metadata": {
            "tags": []
          },
          "execution_count": 51
        }
      ]
    },
    {
      "cell_type": "markdown",
      "metadata": {
        "id": "cX8sCL_-ulFi"
      },
      "source": [
        "- unique() : 중복되지 않는 항목들을 찾는다.\n",
        "   * 집합(set)의 개념"
      ]
    },
    {
      "cell_type": "code",
      "metadata": {
        "id": "hAONXQ-0ulFj",
        "outputId": "9e2230f1-a15a-46cd-d786-27fd11dc01bf"
      },
      "source": [
        "obj = Series(['c', 'a', 'd', 'a', 'a', 'b', 'b', 'c', 'c'])\n",
        "obj"
      ],
      "execution_count": null,
      "outputs": [
        {
          "output_type": "execute_result",
          "data": {
            "text/plain": [
              "0    c\n",
              "1    a\n",
              "2    d\n",
              "3    a\n",
              "4    a\n",
              "5    b\n",
              "6    b\n",
              "7    c\n",
              "8    c\n",
              "dtype: object"
            ]
          },
          "metadata": {
            "tags": []
          },
          "execution_count": 56
        }
      ]
    },
    {
      "cell_type": "code",
      "metadata": {
        "id": "-yJTdB-vulFj",
        "outputId": "ce0a1e94-9d5a-434e-bf6d-094093c62d79"
      },
      "source": [
        "uniques = obj.unique()         # value값들의 종류를 확인할 수 있다.\n",
        "uniques"
      ],
      "execution_count": null,
      "outputs": [
        {
          "output_type": "execute_result",
          "data": {
            "text/plain": [
              "array(['c', 'a', 'd', 'b'], dtype=object)"
            ]
          },
          "metadata": {
            "tags": []
          },
          "execution_count": 57
        }
      ]
    },
    {
      "cell_type": "markdown",
      "metadata": {
        "id": "9FAgJm-YulFj"
      },
      "source": [
        "## 항목들의 빈도 수 계산"
      ]
    },
    {
      "cell_type": "markdown",
      "metadata": {
        "id": "ZUWT-kQrulFk"
      },
      "source": [
        "- value_counts() : 대상 객체 내의 항목들의 빈도 수를 count한다.\n",
        "   * 빈도 수가 높은 순으로 정렬하여 반환"
      ]
    },
    {
      "cell_type": "code",
      "metadata": {
        "scrolled": true,
        "id": "VZi4FFZ1ulFk",
        "outputId": "da424db1-2edd-4573-c746-e4bb9590ca65"
      },
      "source": [
        "obj.value_counts()"
      ],
      "execution_count": null,
      "outputs": [
        {
          "output_type": "execute_result",
          "data": {
            "text/plain": [
              "a    3\n",
              "c    3\n",
              "b    2\n",
              "d    1\n",
              "dtype: int64"
            ]
          },
          "metadata": {
            "tags": []
          },
          "execution_count": 58
        }
      ]
    },
    {
      "cell_type": "markdown",
      "metadata": {
        "id": "Z5FEeuhOulFk"
      },
      "source": [
        "- 빈도 수로 정렬하지 않고 나타난 순서대로 출력 \n",
        "   * sort=False"
      ]
    },
    {
      "cell_type": "code",
      "metadata": {
        "scrolled": true,
        "id": "jVtyLkhtulFl",
        "outputId": "bf3cd458-8c4d-4dc3-ccb4-4dc503578ab3"
      },
      "source": [
        "obj.value_counts(sort=False)"
      ],
      "execution_count": null,
      "outputs": [
        {
          "output_type": "execute_result",
          "data": {
            "text/plain": [
              "d    1\n",
              "b    2\n",
              "c    3\n",
              "a    3\n",
              "dtype: int64"
            ]
          },
          "metadata": {
            "tags": []
          },
          "execution_count": 59
        }
      ]
    },
    {
      "cell_type": "markdown",
      "metadata": {
        "id": "iCw7L8rPulFl"
      },
      "source": [
        "- isin() : 특정한 내용이 들어있는지 여부를 불리언(True/False)으로 반환"
      ]
    },
    {
      "cell_type": "code",
      "metadata": {
        "scrolled": true,
        "id": "9R_QhotpulFl",
        "outputId": "ceda5982-a049-43b9-bd16-0ebb5dcf8372"
      },
      "source": [
        "mask = obj.isin(['b', 'c'])\n",
        "mask"
      ],
      "execution_count": null,
      "outputs": [
        {
          "output_type": "execute_result",
          "data": {
            "text/plain": [
              "0     True\n",
              "1    False\n",
              "2    False\n",
              "3    False\n",
              "4    False\n",
              "5     True\n",
              "6     True\n",
              "7     True\n",
              "8     True\n",
              "dtype: bool"
            ]
          },
          "metadata": {
            "tags": []
          },
          "execution_count": 60
        }
      ]
    },
    {
      "cell_type": "code",
      "metadata": {
        "id": "tuk0mfAHulFm",
        "outputId": "60dc49d3-03df-4e7e-c7b0-fe88ad90fc1d"
      },
      "source": [
        "obj\n",
        "# obj 값 확인"
      ],
      "execution_count": null,
      "outputs": [
        {
          "output_type": "execute_result",
          "data": {
            "text/plain": [
              "0    c\n",
              "1    a\n",
              "2    d\n",
              "3    a\n",
              "4    a\n",
              "5    b\n",
              "6    b\n",
              "7    c\n",
              "8    c\n",
              "dtype: object"
            ]
          },
          "metadata": {
            "tags": []
          },
          "execution_count": 61
        }
      ]
    },
    {
      "cell_type": "markdown",
      "metadata": {
        "id": "Sp8ejtSaulFm"
      },
      "source": [
        "- 데이터 객체 내에서 특정 값이 True인 항목만 출력하려면\n",
        "   * 여기선 obj 객체 내에서 mask=True 인 항목"
      ]
    },
    {
      "cell_type": "code",
      "metadata": {
        "scrolled": true,
        "id": "gZkTefnxulFm",
        "outputId": "40b40e18-9498-4a48-f13f-529eda3c6a6f"
      },
      "source": [
        "obj[mask]          # obj에서 mask 값이 true인 값만을 출력"
      ],
      "execution_count": null,
      "outputs": [
        {
          "output_type": "execute_result",
          "data": {
            "text/plain": [
              "0    c\n",
              "5    b\n",
              "6    b\n",
              "7    c\n",
              "8    c\n",
              "dtype: object"
            ]
          },
          "metadata": {
            "tags": []
          },
          "execution_count": 62
        }
      ]
    },
    {
      "cell_type": "markdown",
      "metadata": {
        "id": "6UAs9x2hulFn"
      },
      "source": [
        "- 대상 객체에 대해 여러 메소드들을 한꺼번에 순서대로 적용"
      ]
    },
    {
      "cell_type": "code",
      "metadata": {
        "scrolled": true,
        "id": "2QR0Ce64ulFn",
        "outputId": "cc834967-11da-4afc-d755-4af6bc096377"
      },
      "source": [
        "# 아래는 같은 결과를 얻는다\n",
        "obj[obj.isin(['b', 'c'])] "
      ],
      "execution_count": null,
      "outputs": [
        {
          "output_type": "execute_result",
          "data": {
            "text/plain": [
              "0    c\n",
              "5    b\n",
              "6    b\n",
              "7    c\n",
              "8    c\n",
              "dtype: object"
            ]
          },
          "metadata": {
            "tags": []
          },
          "execution_count": 63
        }
      ]
    },
    {
      "cell_type": "markdown",
      "metadata": {
        "id": "yqr5bGYFulFn"
      },
      "source": [
        "## 결측치  처리"
      ]
    },
    {
      "cell_type": "markdown",
      "metadata": {
        "id": "lqN0TXC2ulFo"
      },
      "source": [
        "- value_counts : 대상 객체 내의 모든 value 항목들에 대한 갯수 세기"
      ]
    },
    {
      "cell_type": "code",
      "metadata": {
        "id": "m93wCZtculFo"
      },
      "source": [
        "frame = DataFrame({'X':['c', 'a', 'd', 'a', 'a', 'b', 'b', 'c', 'c'], \n",
        "                  'Y':['f', 'g', 'd', 'g', 'h', 'e', 'd', 'h', 'f'],\n",
        "                   'Z':['a', 'e', 'd', 'g', 'd', 'e', 'q', 'b', 'c']})"
      ],
      "execution_count": null,
      "outputs": []
    },
    {
      "cell_type": "code",
      "metadata": {
        "id": "gFAXQNGTulFo",
        "outputId": "8e3c8c74-ff7d-447f-b473-52244bdc0972"
      },
      "source": [
        "frame"
      ],
      "execution_count": null,
      "outputs": [
        {
          "output_type": "execute_result",
          "data": {
            "text/html": [
              "<div>\n",
              "<style scoped>\n",
              "    .dataframe tbody tr th:only-of-type {\n",
              "        vertical-align: middle;\n",
              "    }\n",
              "\n",
              "    .dataframe tbody tr th {\n",
              "        vertical-align: top;\n",
              "    }\n",
              "\n",
              "    .dataframe thead th {\n",
              "        text-align: right;\n",
              "    }\n",
              "</style>\n",
              "<table border=\"1\" class=\"dataframe\">\n",
              "  <thead>\n",
              "    <tr style=\"text-align: right;\">\n",
              "      <th></th>\n",
              "      <th>X</th>\n",
              "      <th>Y</th>\n",
              "      <th>Z</th>\n",
              "    </tr>\n",
              "  </thead>\n",
              "  <tbody>\n",
              "    <tr>\n",
              "      <th>0</th>\n",
              "      <td>c</td>\n",
              "      <td>f</td>\n",
              "      <td>a</td>\n",
              "    </tr>\n",
              "    <tr>\n",
              "      <th>1</th>\n",
              "      <td>a</td>\n",
              "      <td>g</td>\n",
              "      <td>e</td>\n",
              "    </tr>\n",
              "    <tr>\n",
              "      <th>2</th>\n",
              "      <td>d</td>\n",
              "      <td>d</td>\n",
              "      <td>d</td>\n",
              "    </tr>\n",
              "    <tr>\n",
              "      <th>3</th>\n",
              "      <td>a</td>\n",
              "      <td>g</td>\n",
              "      <td>g</td>\n",
              "    </tr>\n",
              "    <tr>\n",
              "      <th>4</th>\n",
              "      <td>a</td>\n",
              "      <td>h</td>\n",
              "      <td>d</td>\n",
              "    </tr>\n",
              "    <tr>\n",
              "      <th>5</th>\n",
              "      <td>b</td>\n",
              "      <td>e</td>\n",
              "      <td>e</td>\n",
              "    </tr>\n",
              "    <tr>\n",
              "      <th>6</th>\n",
              "      <td>b</td>\n",
              "      <td>d</td>\n",
              "      <td>q</td>\n",
              "    </tr>\n",
              "    <tr>\n",
              "      <th>7</th>\n",
              "      <td>c</td>\n",
              "      <td>h</td>\n",
              "      <td>b</td>\n",
              "    </tr>\n",
              "    <tr>\n",
              "      <th>8</th>\n",
              "      <td>c</td>\n",
              "      <td>f</td>\n",
              "      <td>c</td>\n",
              "    </tr>\n",
              "  </tbody>\n",
              "</table>\n",
              "</div>"
            ],
            "text/plain": [
              "   X  Y  Z\n",
              "0  c  f  a\n",
              "1  a  g  e\n",
              "2  d  d  d\n",
              "3  a  g  g\n",
              "4  a  h  d\n",
              "5  b  e  e\n",
              "6  b  d  q\n",
              "7  c  h  b\n",
              "8  c  f  c"
            ]
          },
          "metadata": {
            "tags": []
          },
          "execution_count": 67
        }
      ]
    },
    {
      "cell_type": "code",
      "metadata": {
        "id": "TLxC7aCGulFp",
        "outputId": "15dbaf45-8349-4df8-bc40-527f9ec680eb"
      },
      "source": [
        "# 각 항목이 들어 있는 갯수를 센다. 없는 값은 NaN으로 표시된다\n",
        "result = frame.apply(pd.value_counts)\n",
        "result"
      ],
      "execution_count": null,
      "outputs": [
        {
          "output_type": "execute_result",
          "data": {
            "text/html": [
              "<div>\n",
              "<style scoped>\n",
              "    .dataframe tbody tr th:only-of-type {\n",
              "        vertical-align: middle;\n",
              "    }\n",
              "\n",
              "    .dataframe tbody tr th {\n",
              "        vertical-align: top;\n",
              "    }\n",
              "\n",
              "    .dataframe thead th {\n",
              "        text-align: right;\n",
              "    }\n",
              "</style>\n",
              "<table border=\"1\" class=\"dataframe\">\n",
              "  <thead>\n",
              "    <tr style=\"text-align: right;\">\n",
              "      <th></th>\n",
              "      <th>X</th>\n",
              "      <th>Y</th>\n",
              "      <th>Z</th>\n",
              "    </tr>\n",
              "  </thead>\n",
              "  <tbody>\n",
              "    <tr>\n",
              "      <th>a</th>\n",
              "      <td>3.0</td>\n",
              "      <td>NaN</td>\n",
              "      <td>1.0</td>\n",
              "    </tr>\n",
              "    <tr>\n",
              "      <th>b</th>\n",
              "      <td>2.0</td>\n",
              "      <td>NaN</td>\n",
              "      <td>1.0</td>\n",
              "    </tr>\n",
              "    <tr>\n",
              "      <th>c</th>\n",
              "      <td>3.0</td>\n",
              "      <td>NaN</td>\n",
              "      <td>1.0</td>\n",
              "    </tr>\n",
              "    <tr>\n",
              "      <th>d</th>\n",
              "      <td>1.0</td>\n",
              "      <td>2.0</td>\n",
              "      <td>2.0</td>\n",
              "    </tr>\n",
              "    <tr>\n",
              "      <th>e</th>\n",
              "      <td>NaN</td>\n",
              "      <td>1.0</td>\n",
              "      <td>2.0</td>\n",
              "    </tr>\n",
              "    <tr>\n",
              "      <th>f</th>\n",
              "      <td>NaN</td>\n",
              "      <td>2.0</td>\n",
              "      <td>NaN</td>\n",
              "    </tr>\n",
              "    <tr>\n",
              "      <th>g</th>\n",
              "      <td>NaN</td>\n",
              "      <td>2.0</td>\n",
              "      <td>1.0</td>\n",
              "    </tr>\n",
              "    <tr>\n",
              "      <th>h</th>\n",
              "      <td>NaN</td>\n",
              "      <td>2.0</td>\n",
              "      <td>NaN</td>\n",
              "    </tr>\n",
              "    <tr>\n",
              "      <th>q</th>\n",
              "      <td>NaN</td>\n",
              "      <td>NaN</td>\n",
              "      <td>1.0</td>\n",
              "    </tr>\n",
              "  </tbody>\n",
              "</table>\n",
              "</div>"
            ],
            "text/plain": [
              "     X    Y    Z\n",
              "a  3.0  NaN  1.0\n",
              "b  2.0  NaN  1.0\n",
              "c  3.0  NaN  1.0\n",
              "d  1.0  2.0  2.0\n",
              "e  NaN  1.0  2.0\n",
              "f  NaN  2.0  NaN\n",
              "g  NaN  2.0  1.0\n",
              "h  NaN  2.0  NaN\n",
              "q  NaN  NaN  1.0"
            ]
          },
          "metadata": {
            "tags": []
          },
          "execution_count": 68
        }
      ]
    },
    {
      "cell_type": "markdown",
      "metadata": {
        "id": "mZe2WbFCulFp"
      },
      "source": [
        "- fillna(0)\n",
        "   * 값이 없는 경우, NaN 대신 0으로 대체"
      ]
    },
    {
      "cell_type": "code",
      "metadata": {
        "id": "lkEroNfaulFq",
        "outputId": "2fa6961a-93c4-48d9-e800-de9b8e581a50"
      },
      "source": [
        "result = frame.apply(pd.value_counts).fillna(0)    ## fillna 은 fii NaN을 뜻한다.\n",
        "result"
      ],
      "execution_count": null,
      "outputs": [
        {
          "output_type": "execute_result",
          "data": {
            "text/html": [
              "<div>\n",
              "<style scoped>\n",
              "    .dataframe tbody tr th:only-of-type {\n",
              "        vertical-align: middle;\n",
              "    }\n",
              "\n",
              "    .dataframe tbody tr th {\n",
              "        vertical-align: top;\n",
              "    }\n",
              "\n",
              "    .dataframe thead th {\n",
              "        text-align: right;\n",
              "    }\n",
              "</style>\n",
              "<table border=\"1\" class=\"dataframe\">\n",
              "  <thead>\n",
              "    <tr style=\"text-align: right;\">\n",
              "      <th></th>\n",
              "      <th>X</th>\n",
              "      <th>Y</th>\n",
              "      <th>Z</th>\n",
              "    </tr>\n",
              "  </thead>\n",
              "  <tbody>\n",
              "    <tr>\n",
              "      <th>a</th>\n",
              "      <td>3.0</td>\n",
              "      <td>0.0</td>\n",
              "      <td>1.0</td>\n",
              "    </tr>\n",
              "    <tr>\n",
              "      <th>b</th>\n",
              "      <td>2.0</td>\n",
              "      <td>0.0</td>\n",
              "      <td>1.0</td>\n",
              "    </tr>\n",
              "    <tr>\n",
              "      <th>c</th>\n",
              "      <td>3.0</td>\n",
              "      <td>0.0</td>\n",
              "      <td>1.0</td>\n",
              "    </tr>\n",
              "    <tr>\n",
              "      <th>d</th>\n",
              "      <td>1.0</td>\n",
              "      <td>2.0</td>\n",
              "      <td>2.0</td>\n",
              "    </tr>\n",
              "    <tr>\n",
              "      <th>e</th>\n",
              "      <td>0.0</td>\n",
              "      <td>1.0</td>\n",
              "      <td>2.0</td>\n",
              "    </tr>\n",
              "    <tr>\n",
              "      <th>f</th>\n",
              "      <td>0.0</td>\n",
              "      <td>2.0</td>\n",
              "      <td>0.0</td>\n",
              "    </tr>\n",
              "    <tr>\n",
              "      <th>g</th>\n",
              "      <td>0.0</td>\n",
              "      <td>2.0</td>\n",
              "      <td>1.0</td>\n",
              "    </tr>\n",
              "    <tr>\n",
              "      <th>h</th>\n",
              "      <td>0.0</td>\n",
              "      <td>2.0</td>\n",
              "      <td>0.0</td>\n",
              "    </tr>\n",
              "    <tr>\n",
              "      <th>q</th>\n",
              "      <td>0.0</td>\n",
              "      <td>0.0</td>\n",
              "      <td>1.0</td>\n",
              "    </tr>\n",
              "  </tbody>\n",
              "</table>\n",
              "</div>"
            ],
            "text/plain": [
              "     X    Y    Z\n",
              "a  3.0  0.0  1.0\n",
              "b  2.0  0.0  1.0\n",
              "c  3.0  0.0  1.0\n",
              "d  1.0  2.0  2.0\n",
              "e  0.0  1.0  2.0\n",
              "f  0.0  2.0  0.0\n",
              "g  0.0  2.0  1.0\n",
              "h  0.0  2.0  0.0\n",
              "q  0.0  0.0  1.0"
            ]
          },
          "metadata": {
            "tags": []
          },
          "execution_count": 69
        }
      ]
    },
    {
      "cell_type": "markdown",
      "metadata": {
        "id": "fm7n2CkqulFq"
      },
      "source": [
        "- dropna()\n",
        "   * 결측 치 처리시에 한 항목이라도 NaN이 있으면, 해당 행(row)을 삭제"
      ]
    },
    {
      "cell_type": "code",
      "metadata": {
        "id": "bWrE5WOSulFr",
        "outputId": "411f732a-8e12-4f40-ace8-9f26d1186ad1"
      },
      "source": [
        "from numpy import nan as NA\n",
        "data = Series([1, NA, 3.5, NA, 7])\n",
        "data"
      ],
      "execution_count": null,
      "outputs": [
        {
          "output_type": "execute_result",
          "data": {
            "text/plain": [
              "0    1.0\n",
              "1    NaN\n",
              "2    3.5\n",
              "3    NaN\n",
              "4    7.0\n",
              "dtype: float64"
            ]
          },
          "metadata": {
            "tags": []
          },
          "execution_count": 73
        }
      ]
    },
    {
      "cell_type": "code",
      "metadata": {
        "id": "WIt3x0s-ulFr",
        "outputId": "d8e64e02-9c91-487a-b19f-232f44602e7a"
      },
      "source": [
        "data.dropna()  # data에서 NA가 있는 항목들이 떨어져 나가는 것을 볼 수 있다."
      ],
      "execution_count": null,
      "outputs": [
        {
          "output_type": "execute_result",
          "data": {
            "text/plain": [
              "0    1.0\n",
              "2    3.5\n",
              "4    7.0\n",
              "dtype: float64"
            ]
          },
          "metadata": {
            "tags": []
          },
          "execution_count": 74
        }
      ]
    },
    {
      "cell_type": "markdown",
      "metadata": {
        "id": "18tcedOaulFr"
      },
      "source": [
        "- notnull() : NA 여부를 불리언(True/False)으로 반환"
      ]
    },
    {
      "cell_type": "code",
      "metadata": {
        "scrolled": true,
        "id": "GuX2it-xulFs",
        "outputId": "34300eb7-eb19-469e-bc32-35b1d6fc10d3"
      },
      "source": [
        "# 같은 결과\n",
        "data[data.notnull()]"
      ],
      "execution_count": null,
      "outputs": [
        {
          "output_type": "execute_result",
          "data": {
            "text/plain": [
              "0    1.0\n",
              "2    3.5\n",
              "4    7.0\n",
              "dtype: float64"
            ]
          },
          "metadata": {
            "tags": []
          },
          "execution_count": 75
        }
      ]
    },
    {
      "cell_type": "code",
      "metadata": {
        "id": "lzVhOkWXulFs",
        "outputId": "9f71b891-f0db-4583-a35c-9270dde5713f"
      },
      "source": [
        "data = DataFrame([[NA, 6.5, 3.], [NA, NA, NA],\n",
        "                  [NA, NA, NA], [NA, 6.5, 3.]])\n",
        "data"
      ],
      "execution_count": null,
      "outputs": [
        {
          "output_type": "execute_result",
          "data": {
            "text/html": [
              "<div>\n",
              "<style scoped>\n",
              "    .dataframe tbody tr th:only-of-type {\n",
              "        vertical-align: middle;\n",
              "    }\n",
              "\n",
              "    .dataframe tbody tr th {\n",
              "        vertical-align: top;\n",
              "    }\n",
              "\n",
              "    .dataframe thead th {\n",
              "        text-align: right;\n",
              "    }\n",
              "</style>\n",
              "<table border=\"1\" class=\"dataframe\">\n",
              "  <thead>\n",
              "    <tr style=\"text-align: right;\">\n",
              "      <th></th>\n",
              "      <th>0</th>\n",
              "      <th>1</th>\n",
              "      <th>2</th>\n",
              "    </tr>\n",
              "  </thead>\n",
              "  <tbody>\n",
              "    <tr>\n",
              "      <th>0</th>\n",
              "      <td>NaN</td>\n",
              "      <td>6.5</td>\n",
              "      <td>3.0</td>\n",
              "    </tr>\n",
              "    <tr>\n",
              "      <th>1</th>\n",
              "      <td>NaN</td>\n",
              "      <td>NaN</td>\n",
              "      <td>NaN</td>\n",
              "    </tr>\n",
              "    <tr>\n",
              "      <th>2</th>\n",
              "      <td>NaN</td>\n",
              "      <td>NaN</td>\n",
              "      <td>NaN</td>\n",
              "    </tr>\n",
              "    <tr>\n",
              "      <th>3</th>\n",
              "      <td>NaN</td>\n",
              "      <td>6.5</td>\n",
              "      <td>3.0</td>\n",
              "    </tr>\n",
              "  </tbody>\n",
              "</table>\n",
              "</div>"
            ],
            "text/plain": [
              "    0    1    2\n",
              "0 NaN  6.5  3.0\n",
              "1 NaN  NaN  NaN\n",
              "2 NaN  NaN  NaN\n",
              "3 NaN  6.5  3.0"
            ]
          },
          "metadata": {
            "tags": []
          },
          "execution_count": 76
        }
      ]
    },
    {
      "cell_type": "code",
      "metadata": {
        "id": "sRH2tNhEulFt",
        "outputId": "4ce3ae57-fc58-4cca-d7b8-5349720b3023"
      },
      "source": [
        "# 한 항목이라도 NA가 있으면 해당 행을 삭제한다\n",
        "cleaned = data.dropna()\n",
        "cleaned"
      ],
      "execution_count": null,
      "outputs": [
        {
          "output_type": "execute_result",
          "data": {
            "text/html": [
              "<div>\n",
              "<style scoped>\n",
              "    .dataframe tbody tr th:only-of-type {\n",
              "        vertical-align: middle;\n",
              "    }\n",
              "\n",
              "    .dataframe tbody tr th {\n",
              "        vertical-align: top;\n",
              "    }\n",
              "\n",
              "    .dataframe thead th {\n",
              "        text-align: right;\n",
              "    }\n",
              "</style>\n",
              "<table border=\"1\" class=\"dataframe\">\n",
              "  <thead>\n",
              "    <tr style=\"text-align: right;\">\n",
              "      <th></th>\n",
              "      <th>0</th>\n",
              "      <th>1</th>\n",
              "      <th>2</th>\n",
              "    </tr>\n",
              "  </thead>\n",
              "  <tbody>\n",
              "  </tbody>\n",
              "</table>\n",
              "</div>"
            ],
            "text/plain": [
              "Empty DataFrame\n",
              "Columns: [0, 1, 2]\n",
              "Index: []"
            ]
          },
          "metadata": {
            "tags": []
          },
          "execution_count": 77
        }
      ]
    },
    {
      "cell_type": "markdown",
      "metadata": {
        "id": "wg0LKlZsulFt"
      },
      "source": [
        "- 행(row)의 모든 항목이 NA일 때 해당 행을 삭제 \n",
        "   * how = 'all'"
      ]
    },
    {
      "cell_type": "code",
      "metadata": {
        "scrolled": true,
        "id": "AT-qoz80ulFt",
        "outputId": "5ae4aa3d-d941-4b29-dd27-ba28de9d2ca1"
      },
      "source": [
        "data.dropna(how='all')"
      ],
      "execution_count": null,
      "outputs": [
        {
          "output_type": "execute_result",
          "data": {
            "text/html": [
              "<div>\n",
              "<style scoped>\n",
              "    .dataframe tbody tr th:only-of-type {\n",
              "        vertical-align: middle;\n",
              "    }\n",
              "\n",
              "    .dataframe tbody tr th {\n",
              "        vertical-align: top;\n",
              "    }\n",
              "\n",
              "    .dataframe thead th {\n",
              "        text-align: right;\n",
              "    }\n",
              "</style>\n",
              "<table border=\"1\" class=\"dataframe\">\n",
              "  <thead>\n",
              "    <tr style=\"text-align: right;\">\n",
              "      <th></th>\n",
              "      <th>0</th>\n",
              "      <th>1</th>\n",
              "      <th>2</th>\n",
              "    </tr>\n",
              "  </thead>\n",
              "  <tbody>\n",
              "    <tr>\n",
              "      <th>0</th>\n",
              "      <td>NaN</td>\n",
              "      <td>6.5</td>\n",
              "      <td>3.0</td>\n",
              "    </tr>\n",
              "    <tr>\n",
              "      <th>3</th>\n",
              "      <td>NaN</td>\n",
              "      <td>6.5</td>\n",
              "      <td>3.0</td>\n",
              "    </tr>\n",
              "  </tbody>\n",
              "</table>\n",
              "</div>"
            ],
            "text/plain": [
              "    0    1    2\n",
              "0 NaN  6.5  3.0\n",
              "3 NaN  6.5  3.0"
            ]
          },
          "metadata": {
            "tags": []
          },
          "execution_count": 79
        }
      ]
    },
    {
      "cell_type": "code",
      "metadata": {
        "id": "-Cr-p33UulFu",
        "outputId": "5c315d4f-972b-438c-9899-8648cf9c90e4"
      },
      "source": [
        "data"
      ],
      "execution_count": null,
      "outputs": [
        {
          "output_type": "execute_result",
          "data": {
            "text/html": [
              "<div>\n",
              "<style scoped>\n",
              "    .dataframe tbody tr th:only-of-type {\n",
              "        vertical-align: middle;\n",
              "    }\n",
              "\n",
              "    .dataframe tbody tr th {\n",
              "        vertical-align: top;\n",
              "    }\n",
              "\n",
              "    .dataframe thead th {\n",
              "        text-align: right;\n",
              "    }\n",
              "</style>\n",
              "<table border=\"1\" class=\"dataframe\">\n",
              "  <thead>\n",
              "    <tr style=\"text-align: right;\">\n",
              "      <th></th>\n",
              "      <th>0</th>\n",
              "      <th>1</th>\n",
              "      <th>2</th>\n",
              "    </tr>\n",
              "  </thead>\n",
              "  <tbody>\n",
              "    <tr>\n",
              "      <th>0</th>\n",
              "      <td>NaN</td>\n",
              "      <td>6.5</td>\n",
              "      <td>3.0</td>\n",
              "    </tr>\n",
              "    <tr>\n",
              "      <th>1</th>\n",
              "      <td>NaN</td>\n",
              "      <td>NaN</td>\n",
              "      <td>NaN</td>\n",
              "    </tr>\n",
              "    <tr>\n",
              "      <th>2</th>\n",
              "      <td>NaN</td>\n",
              "      <td>NaN</td>\n",
              "      <td>NaN</td>\n",
              "    </tr>\n",
              "    <tr>\n",
              "      <th>3</th>\n",
              "      <td>NaN</td>\n",
              "      <td>6.5</td>\n",
              "      <td>3.0</td>\n",
              "    </tr>\n",
              "  </tbody>\n",
              "</table>\n",
              "</div>"
            ],
            "text/plain": [
              "    0    1    2\n",
              "0 NaN  6.5  3.0\n",
              "1 NaN  NaN  NaN\n",
              "2 NaN  NaN  NaN\n",
              "3 NaN  6.5  3.0"
            ]
          },
          "metadata": {
            "tags": []
          },
          "execution_count": 80
        }
      ]
    },
    {
      "cell_type": "markdown",
      "metadata": {
        "id": "Nu0IqtlXulFu"
      },
      "source": [
        "- 열(column)에 대한 삭제\n",
        "   * axis = 1"
      ]
    },
    {
      "cell_type": "code",
      "metadata": {
        "id": "2XMMG1-4ulFu",
        "outputId": "346a6126-2f25-4f6d-b9c3-ea99e0099ecd"
      },
      "source": [
        "clean2 = data.dropna(axis=1)\n",
        "clean2"
      ],
      "execution_count": null,
      "outputs": [
        {
          "output_type": "execute_result",
          "data": {
            "text/html": [
              "<div>\n",
              "<style scoped>\n",
              "    .dataframe tbody tr th:only-of-type {\n",
              "        vertical-align: middle;\n",
              "    }\n",
              "\n",
              "    .dataframe tbody tr th {\n",
              "        vertical-align: top;\n",
              "    }\n",
              "\n",
              "    .dataframe thead th {\n",
              "        text-align: right;\n",
              "    }\n",
              "</style>\n",
              "<table border=\"1\" class=\"dataframe\">\n",
              "  <thead>\n",
              "    <tr style=\"text-align: right;\">\n",
              "      <th></th>\n",
              "    </tr>\n",
              "  </thead>\n",
              "  <tbody>\n",
              "    <tr>\n",
              "      <th>0</th>\n",
              "    </tr>\n",
              "    <tr>\n",
              "      <th>1</th>\n",
              "    </tr>\n",
              "    <tr>\n",
              "      <th>2</th>\n",
              "    </tr>\n",
              "    <tr>\n",
              "      <th>3</th>\n",
              "    </tr>\n",
              "  </tbody>\n",
              "</table>\n",
              "</div>"
            ],
            "text/plain": [
              "Empty DataFrame\n",
              "Columns: []\n",
              "Index: [0, 1, 2, 3]"
            ]
          },
          "metadata": {
            "tags": []
          },
          "execution_count": 81
        }
      ]
    },
    {
      "cell_type": "code",
      "metadata": {
        "id": "IfWagk0uulFv",
        "outputId": "56178abf-ff12-45f0-feda-d3ce83ac59b5"
      },
      "source": [
        "clean2 = data.dropna(axis=1, how='all')\n",
        "clean2"
      ],
      "execution_count": null,
      "outputs": [
        {
          "output_type": "execute_result",
          "data": {
            "text/html": [
              "<div>\n",
              "<style scoped>\n",
              "    .dataframe tbody tr th:only-of-type {\n",
              "        vertical-align: middle;\n",
              "    }\n",
              "\n",
              "    .dataframe tbody tr th {\n",
              "        vertical-align: top;\n",
              "    }\n",
              "\n",
              "    .dataframe thead th {\n",
              "        text-align: right;\n",
              "    }\n",
              "</style>\n",
              "<table border=\"1\" class=\"dataframe\">\n",
              "  <thead>\n",
              "    <tr style=\"text-align: right;\">\n",
              "      <th></th>\n",
              "      <th>1</th>\n",
              "      <th>2</th>\n",
              "    </tr>\n",
              "  </thead>\n",
              "  <tbody>\n",
              "    <tr>\n",
              "      <th>0</th>\n",
              "      <td>6.5</td>\n",
              "      <td>3.0</td>\n",
              "    </tr>\n",
              "    <tr>\n",
              "      <th>1</th>\n",
              "      <td>NaN</td>\n",
              "      <td>NaN</td>\n",
              "    </tr>\n",
              "    <tr>\n",
              "      <th>2</th>\n",
              "      <td>NaN</td>\n",
              "      <td>NaN</td>\n",
              "    </tr>\n",
              "    <tr>\n",
              "      <th>3</th>\n",
              "      <td>6.5</td>\n",
              "      <td>3.0</td>\n",
              "    </tr>\n",
              "  </tbody>\n",
              "</table>\n",
              "</div>"
            ],
            "text/plain": [
              "     1    2\n",
              "0  6.5  3.0\n",
              "1  NaN  NaN\n",
              "2  NaN  NaN\n",
              "3  6.5  3.0"
            ]
          },
          "metadata": {
            "tags": []
          },
          "execution_count": 82
        }
      ]
    },
    {
      "cell_type": "markdown",
      "metadata": {
        "id": "LZo-_u0kulFv"
      },
      "source": [
        "- NA가 특정 개수 이상일 때 해당 행(row)을 삭제\n",
        "   * thresh = 2 (예, 2개 이상 일 경우)"
      ]
    },
    {
      "cell_type": "code",
      "metadata": {
        "id": "OAzje3E9ulFw",
        "outputId": "e2e08117-8780-45cc-e0f6-708077bb1c94"
      },
      "source": [
        "df = DataFrame(np.random.randn(7 , 3))\n",
        "df.iloc[:4, 1] = NA \n",
        "df.iloc[:2, 2] = NA\n",
        "df.iloc[0,0] = NA\n",
        "df"
      ],
      "execution_count": null,
      "outputs": [
        {
          "output_type": "execute_result",
          "data": {
            "text/html": [
              "<div>\n",
              "<style scoped>\n",
              "    .dataframe tbody tr th:only-of-type {\n",
              "        vertical-align: middle;\n",
              "    }\n",
              "\n",
              "    .dataframe tbody tr th {\n",
              "        vertical-align: top;\n",
              "    }\n",
              "\n",
              "    .dataframe thead th {\n",
              "        text-align: right;\n",
              "    }\n",
              "</style>\n",
              "<table border=\"1\" class=\"dataframe\">\n",
              "  <thead>\n",
              "    <tr style=\"text-align: right;\">\n",
              "      <th></th>\n",
              "      <th>0</th>\n",
              "      <th>1</th>\n",
              "      <th>2</th>\n",
              "    </tr>\n",
              "  </thead>\n",
              "  <tbody>\n",
              "    <tr>\n",
              "      <th>0</th>\n",
              "      <td>NaN</td>\n",
              "      <td>NaN</td>\n",
              "      <td>NaN</td>\n",
              "    </tr>\n",
              "    <tr>\n",
              "      <th>1</th>\n",
              "      <td>2.120667</td>\n",
              "      <td>NaN</td>\n",
              "      <td>NaN</td>\n",
              "    </tr>\n",
              "    <tr>\n",
              "      <th>2</th>\n",
              "      <td>1.601987</td>\n",
              "      <td>NaN</td>\n",
              "      <td>-1.025997</td>\n",
              "    </tr>\n",
              "    <tr>\n",
              "      <th>3</th>\n",
              "      <td>-1.085825</td>\n",
              "      <td>NaN</td>\n",
              "      <td>-0.786849</td>\n",
              "    </tr>\n",
              "    <tr>\n",
              "      <th>4</th>\n",
              "      <td>-0.776580</td>\n",
              "      <td>2.006082</td>\n",
              "      <td>-1.019262</td>\n",
              "    </tr>\n",
              "    <tr>\n",
              "      <th>5</th>\n",
              "      <td>-0.155773</td>\n",
              "      <td>-0.749234</td>\n",
              "      <td>1.693654</td>\n",
              "    </tr>\n",
              "    <tr>\n",
              "      <th>6</th>\n",
              "      <td>-0.777653</td>\n",
              "      <td>1.077287</td>\n",
              "      <td>0.379658</td>\n",
              "    </tr>\n",
              "  </tbody>\n",
              "</table>\n",
              "</div>"
            ],
            "text/plain": [
              "          0         1         2\n",
              "0       NaN       NaN       NaN\n",
              "1  2.120667       NaN       NaN\n",
              "2  1.601987       NaN -1.025997\n",
              "3 -1.085825       NaN -0.786849\n",
              "4 -0.776580  2.006082 -1.019262\n",
              "5 -0.155773 -0.749234  1.693654\n",
              "6 -0.777653  1.077287  0.379658"
            ]
          },
          "metadata": {
            "tags": []
          },
          "execution_count": 83
        }
      ]
    },
    {
      "cell_type": "code",
      "metadata": {
        "id": "zFAJqQ_culFw",
        "outputId": "fade53dd-1a44-4d1f-9cbf-4854f3f658d7"
      },
      "source": [
        "df.dropna(thresh=2)\n",
        "# NA가 2개 이상인 경우 삭제"
      ],
      "execution_count": null,
      "outputs": [
        {
          "output_type": "execute_result",
          "data": {
            "text/html": [
              "<div>\n",
              "<style scoped>\n",
              "    .dataframe tbody tr th:only-of-type {\n",
              "        vertical-align: middle;\n",
              "    }\n",
              "\n",
              "    .dataframe tbody tr th {\n",
              "        vertical-align: top;\n",
              "    }\n",
              "\n",
              "    .dataframe thead th {\n",
              "        text-align: right;\n",
              "    }\n",
              "</style>\n",
              "<table border=\"1\" class=\"dataframe\">\n",
              "  <thead>\n",
              "    <tr style=\"text-align: right;\">\n",
              "      <th></th>\n",
              "      <th>0</th>\n",
              "      <th>1</th>\n",
              "      <th>2</th>\n",
              "    </tr>\n",
              "  </thead>\n",
              "  <tbody>\n",
              "    <tr>\n",
              "      <th>2</th>\n",
              "      <td>1.601987</td>\n",
              "      <td>NaN</td>\n",
              "      <td>-1.025997</td>\n",
              "    </tr>\n",
              "    <tr>\n",
              "      <th>3</th>\n",
              "      <td>-1.085825</td>\n",
              "      <td>NaN</td>\n",
              "      <td>-0.786849</td>\n",
              "    </tr>\n",
              "    <tr>\n",
              "      <th>4</th>\n",
              "      <td>-0.776580</td>\n",
              "      <td>2.006082</td>\n",
              "      <td>-1.019262</td>\n",
              "    </tr>\n",
              "    <tr>\n",
              "      <th>5</th>\n",
              "      <td>-0.155773</td>\n",
              "      <td>-0.749234</td>\n",
              "      <td>1.693654</td>\n",
              "    </tr>\n",
              "    <tr>\n",
              "      <th>6</th>\n",
              "      <td>-0.777653</td>\n",
              "      <td>1.077287</td>\n",
              "      <td>0.379658</td>\n",
              "    </tr>\n",
              "  </tbody>\n",
              "</table>\n",
              "</div>"
            ],
            "text/plain": [
              "          0         1         2\n",
              "2  1.601987       NaN -1.025997\n",
              "3 -1.085825       NaN -0.786849\n",
              "4 -0.776580  2.006082 -1.019262\n",
              "5 -0.155773 -0.749234  1.693654\n",
              "6 -0.777653  1.077287  0.379658"
            ]
          },
          "metadata": {
            "tags": []
          },
          "execution_count": 84
        }
      ]
    },
    {
      "cell_type": "code",
      "metadata": {
        "id": "wGCX1PX2ulFw",
        "outputId": "00c22d93-7457-4b11-b5cf-a0065983ad28"
      },
      "source": [
        "df"
      ],
      "execution_count": null,
      "outputs": [
        {
          "output_type": "execute_result",
          "data": {
            "text/html": [
              "<div>\n",
              "<style scoped>\n",
              "    .dataframe tbody tr th:only-of-type {\n",
              "        vertical-align: middle;\n",
              "    }\n",
              "\n",
              "    .dataframe tbody tr th {\n",
              "        vertical-align: top;\n",
              "    }\n",
              "\n",
              "    .dataframe thead th {\n",
              "        text-align: right;\n",
              "    }\n",
              "</style>\n",
              "<table border=\"1\" class=\"dataframe\">\n",
              "  <thead>\n",
              "    <tr style=\"text-align: right;\">\n",
              "      <th></th>\n",
              "      <th>0</th>\n",
              "      <th>1</th>\n",
              "      <th>2</th>\n",
              "    </tr>\n",
              "  </thead>\n",
              "  <tbody>\n",
              "    <tr>\n",
              "      <th>0</th>\n",
              "      <td>NaN</td>\n",
              "      <td>NaN</td>\n",
              "      <td>NaN</td>\n",
              "    </tr>\n",
              "    <tr>\n",
              "      <th>1</th>\n",
              "      <td>2.120667</td>\n",
              "      <td>NaN</td>\n",
              "      <td>NaN</td>\n",
              "    </tr>\n",
              "    <tr>\n",
              "      <th>2</th>\n",
              "      <td>1.601987</td>\n",
              "      <td>NaN</td>\n",
              "      <td>-1.025997</td>\n",
              "    </tr>\n",
              "    <tr>\n",
              "      <th>3</th>\n",
              "      <td>-1.085825</td>\n",
              "      <td>NaN</td>\n",
              "      <td>-0.786849</td>\n",
              "    </tr>\n",
              "    <tr>\n",
              "      <th>4</th>\n",
              "      <td>-0.776580</td>\n",
              "      <td>2.006082</td>\n",
              "      <td>-1.019262</td>\n",
              "    </tr>\n",
              "    <tr>\n",
              "      <th>5</th>\n",
              "      <td>-0.155773</td>\n",
              "      <td>-0.749234</td>\n",
              "      <td>1.693654</td>\n",
              "    </tr>\n",
              "    <tr>\n",
              "      <th>6</th>\n",
              "      <td>-0.777653</td>\n",
              "      <td>1.077287</td>\n",
              "      <td>0.379658</td>\n",
              "    </tr>\n",
              "  </tbody>\n",
              "</table>\n",
              "</div>"
            ],
            "text/plain": [
              "          0         1         2\n",
              "0       NaN       NaN       NaN\n",
              "1  2.120667       NaN       NaN\n",
              "2  1.601987       NaN -1.025997\n",
              "3 -1.085825       NaN -0.786849\n",
              "4 -0.776580  2.006082 -1.019262\n",
              "5 -0.155773 -0.749234  1.693654\n",
              "6 -0.777653  1.077287  0.379658"
            ]
          },
          "metadata": {
            "tags": []
          },
          "execution_count": 85
        }
      ]
    },
    {
      "cell_type": "markdown",
      "metadata": {
        "id": "w1YIvY2TulFx"
      },
      "source": [
        "- fillna() 수행할 때, 모두 같은 값으로 채우지 않고... Column별로 다른 값으로 대체\n",
        "   * 딕셔너리 형태로 값을 지정 : ex) {1:0.5, 2:-1}"
      ]
    },
    {
      "cell_type": "code",
      "metadata": {
        "scrolled": true,
        "id": "A3deVLpNulFx",
        "outputId": "1ac30dbe-dbab-47dc-8254-fff61e7e69b6"
      },
      "source": [
        "df.fillna({1: 0.5, 2: -1}) "
      ],
      "execution_count": null,
      "outputs": [
        {
          "output_type": "execute_result",
          "data": {
            "text/html": [
              "<div>\n",
              "<style scoped>\n",
              "    .dataframe tbody tr th:only-of-type {\n",
              "        vertical-align: middle;\n",
              "    }\n",
              "\n",
              "    .dataframe tbody tr th {\n",
              "        vertical-align: top;\n",
              "    }\n",
              "\n",
              "    .dataframe thead th {\n",
              "        text-align: right;\n",
              "    }\n",
              "</style>\n",
              "<table border=\"1\" class=\"dataframe\">\n",
              "  <thead>\n",
              "    <tr style=\"text-align: right;\">\n",
              "      <th></th>\n",
              "      <th>0</th>\n",
              "      <th>1</th>\n",
              "      <th>2</th>\n",
              "    </tr>\n",
              "  </thead>\n",
              "  <tbody>\n",
              "    <tr>\n",
              "      <th>0</th>\n",
              "      <td>NaN</td>\n",
              "      <td>0.500000</td>\n",
              "      <td>-1.000000</td>\n",
              "    </tr>\n",
              "    <tr>\n",
              "      <th>1</th>\n",
              "      <td>2.120667</td>\n",
              "      <td>0.500000</td>\n",
              "      <td>-1.000000</td>\n",
              "    </tr>\n",
              "    <tr>\n",
              "      <th>2</th>\n",
              "      <td>1.601987</td>\n",
              "      <td>0.500000</td>\n",
              "      <td>-1.025997</td>\n",
              "    </tr>\n",
              "    <tr>\n",
              "      <th>3</th>\n",
              "      <td>-1.085825</td>\n",
              "      <td>0.500000</td>\n",
              "      <td>-0.786849</td>\n",
              "    </tr>\n",
              "    <tr>\n",
              "      <th>4</th>\n",
              "      <td>-0.776580</td>\n",
              "      <td>2.006082</td>\n",
              "      <td>-1.019262</td>\n",
              "    </tr>\n",
              "    <tr>\n",
              "      <th>5</th>\n",
              "      <td>-0.155773</td>\n",
              "      <td>-0.749234</td>\n",
              "      <td>1.693654</td>\n",
              "    </tr>\n",
              "    <tr>\n",
              "      <th>6</th>\n",
              "      <td>-0.777653</td>\n",
              "      <td>1.077287</td>\n",
              "      <td>0.379658</td>\n",
              "    </tr>\n",
              "  </tbody>\n",
              "</table>\n",
              "</div>"
            ],
            "text/plain": [
              "          0         1         2\n",
              "0       NaN  0.500000 -1.000000\n",
              "1  2.120667  0.500000 -1.000000\n",
              "2  1.601987  0.500000 -1.025997\n",
              "3 -1.085825  0.500000 -0.786849\n",
              "4 -0.776580  2.006082 -1.019262\n",
              "5 -0.155773 -0.749234  1.693654\n",
              "6 -0.777653  1.077287  0.379658"
            ]
          },
          "metadata": {
            "tags": []
          },
          "execution_count": 86
        }
      ]
    },
    {
      "cell_type": "markdown",
      "metadata": {
        "id": "kYlBVDdculFy"
      },
      "source": [
        "## DataFrame  객체 원래 값을 변경하는 방법\n",
        "- DataFrame 객체에 대한 조작을 수행하면 \n",
        "    * view만 변경되고 \n",
        "    * 객체 자체의 원래 값은 변경되지 않는다. "
      ]
    },
    {
      "cell_type": "markdown",
      "metadata": {
        "id": "zboK8tUwulFy"
      },
      "source": [
        "- 새로운 변수에 결과를 저장하는 방법\n",
        "   * df2 = df.fillna( {1:0.5, 2:-1} )\n",
        "- 대상 객체 자체의 값을 그대로 변경하는 방법\n",
        "   * df.fillna( {1:0.5, 2:-1}, inplace=True)"
      ]
    },
    {
      "cell_type": "code",
      "metadata": {
        "scrolled": true,
        "id": "eJLgPxYEulFy",
        "outputId": "8ceac100-a171-468b-eb86-e892d258a531"
      },
      "source": [
        "df        # fillna()로 내용은 바뀌지 않는다. "
      ],
      "execution_count": null,
      "outputs": [
        {
          "output_type": "execute_result",
          "data": {
            "text/html": [
              "<div>\n",
              "<style scoped>\n",
              "    .dataframe tbody tr th:only-of-type {\n",
              "        vertical-align: middle;\n",
              "    }\n",
              "\n",
              "    .dataframe tbody tr th {\n",
              "        vertical-align: top;\n",
              "    }\n",
              "\n",
              "    .dataframe thead th {\n",
              "        text-align: right;\n",
              "    }\n",
              "</style>\n",
              "<table border=\"1\" class=\"dataframe\">\n",
              "  <thead>\n",
              "    <tr style=\"text-align: right;\">\n",
              "      <th></th>\n",
              "      <th>0</th>\n",
              "      <th>1</th>\n",
              "      <th>2</th>\n",
              "    </tr>\n",
              "  </thead>\n",
              "  <tbody>\n",
              "    <tr>\n",
              "      <th>0</th>\n",
              "      <td>NaN</td>\n",
              "      <td>NaN</td>\n",
              "      <td>NaN</td>\n",
              "    </tr>\n",
              "    <tr>\n",
              "      <th>1</th>\n",
              "      <td>2.120667</td>\n",
              "      <td>NaN</td>\n",
              "      <td>NaN</td>\n",
              "    </tr>\n",
              "    <tr>\n",
              "      <th>2</th>\n",
              "      <td>1.601987</td>\n",
              "      <td>NaN</td>\n",
              "      <td>-1.025997</td>\n",
              "    </tr>\n",
              "    <tr>\n",
              "      <th>3</th>\n",
              "      <td>-1.085825</td>\n",
              "      <td>NaN</td>\n",
              "      <td>-0.786849</td>\n",
              "    </tr>\n",
              "    <tr>\n",
              "      <th>4</th>\n",
              "      <td>-0.776580</td>\n",
              "      <td>2.006082</td>\n",
              "      <td>-1.019262</td>\n",
              "    </tr>\n",
              "    <tr>\n",
              "      <th>5</th>\n",
              "      <td>-0.155773</td>\n",
              "      <td>-0.749234</td>\n",
              "      <td>1.693654</td>\n",
              "    </tr>\n",
              "    <tr>\n",
              "      <th>6</th>\n",
              "      <td>-0.777653</td>\n",
              "      <td>1.077287</td>\n",
              "      <td>0.379658</td>\n",
              "    </tr>\n",
              "  </tbody>\n",
              "</table>\n",
              "</div>"
            ],
            "text/plain": [
              "          0         1         2\n",
              "0       NaN       NaN       NaN\n",
              "1  2.120667       NaN       NaN\n",
              "2  1.601987       NaN -1.025997\n",
              "3 -1.085825       NaN -0.786849\n",
              "4 -0.776580  2.006082 -1.019262\n",
              "5 -0.155773 -0.749234  1.693654\n",
              "6 -0.777653  1.077287  0.379658"
            ]
          },
          "metadata": {
            "tags": []
          },
          "execution_count": 87
        }
      ]
    },
    {
      "cell_type": "code",
      "metadata": {
        "id": "wALoNA9IulFz",
        "outputId": "e99905ed-0130-44b4-e770-0bbf49e91bca"
      },
      "source": [
        "# 새로운 변수를 정의하면 바뀐 값을 얻는다\n",
        "df2 = df.fillna({1: 0.5, 2: -1})\n",
        "df2"
      ],
      "execution_count": null,
      "outputs": [
        {
          "output_type": "execute_result",
          "data": {
            "text/html": [
              "<div>\n",
              "<style scoped>\n",
              "    .dataframe tbody tr th:only-of-type {\n",
              "        vertical-align: middle;\n",
              "    }\n",
              "\n",
              "    .dataframe tbody tr th {\n",
              "        vertical-align: top;\n",
              "    }\n",
              "\n",
              "    .dataframe thead th {\n",
              "        text-align: right;\n",
              "    }\n",
              "</style>\n",
              "<table border=\"1\" class=\"dataframe\">\n",
              "  <thead>\n",
              "    <tr style=\"text-align: right;\">\n",
              "      <th></th>\n",
              "      <th>0</th>\n",
              "      <th>1</th>\n",
              "      <th>2</th>\n",
              "    </tr>\n",
              "  </thead>\n",
              "  <tbody>\n",
              "    <tr>\n",
              "      <th>0</th>\n",
              "      <td>NaN</td>\n",
              "      <td>0.500000</td>\n",
              "      <td>-1.000000</td>\n",
              "    </tr>\n",
              "    <tr>\n",
              "      <th>1</th>\n",
              "      <td>2.120667</td>\n",
              "      <td>0.500000</td>\n",
              "      <td>-1.000000</td>\n",
              "    </tr>\n",
              "    <tr>\n",
              "      <th>2</th>\n",
              "      <td>1.601987</td>\n",
              "      <td>0.500000</td>\n",
              "      <td>-1.025997</td>\n",
              "    </tr>\n",
              "    <tr>\n",
              "      <th>3</th>\n",
              "      <td>-1.085825</td>\n",
              "      <td>0.500000</td>\n",
              "      <td>-0.786849</td>\n",
              "    </tr>\n",
              "    <tr>\n",
              "      <th>4</th>\n",
              "      <td>-0.776580</td>\n",
              "      <td>2.006082</td>\n",
              "      <td>-1.019262</td>\n",
              "    </tr>\n",
              "    <tr>\n",
              "      <th>5</th>\n",
              "      <td>-0.155773</td>\n",
              "      <td>-0.749234</td>\n",
              "      <td>1.693654</td>\n",
              "    </tr>\n",
              "    <tr>\n",
              "      <th>6</th>\n",
              "      <td>-0.777653</td>\n",
              "      <td>1.077287</td>\n",
              "      <td>0.379658</td>\n",
              "    </tr>\n",
              "  </tbody>\n",
              "</table>\n",
              "</div>"
            ],
            "text/plain": [
              "          0         1         2\n",
              "0       NaN  0.500000 -1.000000\n",
              "1  2.120667  0.500000 -1.000000\n",
              "2  1.601987  0.500000 -1.025997\n",
              "3 -1.085825  0.500000 -0.786849\n",
              "4 -0.776580  2.006082 -1.019262\n",
              "5 -0.155773 -0.749234  1.693654\n",
              "6 -0.777653  1.077287  0.379658"
            ]
          },
          "metadata": {
            "tags": []
          },
          "execution_count": 89
        }
      ]
    },
    {
      "cell_type": "code",
      "metadata": {
        "id": "rFfWUVLSulFz",
        "outputId": "01f44db3-40f4-42a6-ace9-9b7e6a7c6f1f"
      },
      "source": [
        "df"
      ],
      "execution_count": null,
      "outputs": [
        {
          "output_type": "execute_result",
          "data": {
            "text/html": [
              "<div>\n",
              "<style scoped>\n",
              "    .dataframe tbody tr th:only-of-type {\n",
              "        vertical-align: middle;\n",
              "    }\n",
              "\n",
              "    .dataframe tbody tr th {\n",
              "        vertical-align: top;\n",
              "    }\n",
              "\n",
              "    .dataframe thead th {\n",
              "        text-align: right;\n",
              "    }\n",
              "</style>\n",
              "<table border=\"1\" class=\"dataframe\">\n",
              "  <thead>\n",
              "    <tr style=\"text-align: right;\">\n",
              "      <th></th>\n",
              "      <th>0</th>\n",
              "      <th>1</th>\n",
              "      <th>2</th>\n",
              "    </tr>\n",
              "  </thead>\n",
              "  <tbody>\n",
              "    <tr>\n",
              "      <th>0</th>\n",
              "      <td>NaN</td>\n",
              "      <td>NaN</td>\n",
              "      <td>NaN</td>\n",
              "    </tr>\n",
              "    <tr>\n",
              "      <th>1</th>\n",
              "      <td>2.120667</td>\n",
              "      <td>NaN</td>\n",
              "      <td>NaN</td>\n",
              "    </tr>\n",
              "    <tr>\n",
              "      <th>2</th>\n",
              "      <td>1.601987</td>\n",
              "      <td>NaN</td>\n",
              "      <td>-1.025997</td>\n",
              "    </tr>\n",
              "    <tr>\n",
              "      <th>3</th>\n",
              "      <td>-1.085825</td>\n",
              "      <td>NaN</td>\n",
              "      <td>-0.786849</td>\n",
              "    </tr>\n",
              "    <tr>\n",
              "      <th>4</th>\n",
              "      <td>-0.776580</td>\n",
              "      <td>2.006082</td>\n",
              "      <td>-1.019262</td>\n",
              "    </tr>\n",
              "    <tr>\n",
              "      <th>5</th>\n",
              "      <td>-0.155773</td>\n",
              "      <td>-0.749234</td>\n",
              "      <td>1.693654</td>\n",
              "    </tr>\n",
              "    <tr>\n",
              "      <th>6</th>\n",
              "      <td>-0.777653</td>\n",
              "      <td>1.077287</td>\n",
              "      <td>0.379658</td>\n",
              "    </tr>\n",
              "  </tbody>\n",
              "</table>\n",
              "</div>"
            ],
            "text/plain": [
              "          0         1         2\n",
              "0       NaN       NaN       NaN\n",
              "1  2.120667       NaN       NaN\n",
              "2  1.601987       NaN -1.025997\n",
              "3 -1.085825       NaN -0.786849\n",
              "4 -0.776580  2.006082 -1.019262\n",
              "5 -0.155773 -0.749234  1.693654\n",
              "6 -0.777653  1.077287  0.379658"
            ]
          },
          "metadata": {
            "tags": []
          },
          "execution_count": 90
        }
      ]
    },
    {
      "cell_type": "code",
      "metadata": {
        "id": "Wjgi8VcNulF0",
        "outputId": "cf5e8825-cd68-4661-e1c9-a2e4d59f8c79"
      },
      "source": [
        "df.fillna({1: 0.5, 2: -1}, inplace=True)\n",
        "df"
      ],
      "execution_count": null,
      "outputs": [
        {
          "output_type": "execute_result",
          "data": {
            "text/html": [
              "<div>\n",
              "<style scoped>\n",
              "    .dataframe tbody tr th:only-of-type {\n",
              "        vertical-align: middle;\n",
              "    }\n",
              "\n",
              "    .dataframe tbody tr th {\n",
              "        vertical-align: top;\n",
              "    }\n",
              "\n",
              "    .dataframe thead th {\n",
              "        text-align: right;\n",
              "    }\n",
              "</style>\n",
              "<table border=\"1\" class=\"dataframe\">\n",
              "  <thead>\n",
              "    <tr style=\"text-align: right;\">\n",
              "      <th></th>\n",
              "      <th>0</th>\n",
              "      <th>1</th>\n",
              "      <th>2</th>\n",
              "    </tr>\n",
              "  </thead>\n",
              "  <tbody>\n",
              "    <tr>\n",
              "      <th>0</th>\n",
              "      <td>NaN</td>\n",
              "      <td>0.500000</td>\n",
              "      <td>-1.000000</td>\n",
              "    </tr>\n",
              "    <tr>\n",
              "      <th>1</th>\n",
              "      <td>2.120667</td>\n",
              "      <td>0.500000</td>\n",
              "      <td>-1.000000</td>\n",
              "    </tr>\n",
              "    <tr>\n",
              "      <th>2</th>\n",
              "      <td>1.601987</td>\n",
              "      <td>0.500000</td>\n",
              "      <td>-1.025997</td>\n",
              "    </tr>\n",
              "    <tr>\n",
              "      <th>3</th>\n",
              "      <td>-1.085825</td>\n",
              "      <td>0.500000</td>\n",
              "      <td>-0.786849</td>\n",
              "    </tr>\n",
              "    <tr>\n",
              "      <th>4</th>\n",
              "      <td>-0.776580</td>\n",
              "      <td>2.006082</td>\n",
              "      <td>-1.019262</td>\n",
              "    </tr>\n",
              "    <tr>\n",
              "      <th>5</th>\n",
              "      <td>-0.155773</td>\n",
              "      <td>-0.749234</td>\n",
              "      <td>1.693654</td>\n",
              "    </tr>\n",
              "    <tr>\n",
              "      <th>6</th>\n",
              "      <td>-0.777653</td>\n",
              "      <td>1.077287</td>\n",
              "      <td>0.379658</td>\n",
              "    </tr>\n",
              "  </tbody>\n",
              "</table>\n",
              "</div>"
            ],
            "text/plain": [
              "          0         1         2\n",
              "0       NaN  0.500000 -1.000000\n",
              "1  2.120667  0.500000 -1.000000\n",
              "2  1.601987  0.500000 -1.025997\n",
              "3 -1.085825  0.500000 -0.786849\n",
              "4 -0.776580  2.006082 -1.019262\n",
              "5 -0.155773 -0.749234  1.693654\n",
              "6 -0.777653  1.077287  0.379658"
            ]
          },
          "metadata": {
            "tags": []
          },
          "execution_count": 91
        }
      ]
    },
    {
      "cell_type": "code",
      "metadata": {
        "id": "QtkLHxm2ulF0"
      },
      "source": [
        ""
      ],
      "execution_count": null,
      "outputs": []
    }
  ]
}