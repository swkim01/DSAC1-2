{
  "nbformat": 4,
  "nbformat_minor": 0,
  "metadata": {
    "kernelspec": {
      "display_name": "Python 3",
      "language": "python",
      "name": "python3"
    },
    "language_info": {
      "codemirror_mode": {
        "name": "ipython",
        "version": 3
      },
      "file_extension": ".py",
      "mimetype": "text/x-python",
      "name": "python",
      "nbconvert_exporter": "python",
      "pygments_lexer": "ipython3",
      "version": "3.6.6"
    },
    "colab": {
      "name": "gg_32_선형분류.ipynb",
      "provenance": [],
      "collapsed_sections": []
    }
  },
  "cells": [
    {
      "cell_type": "markdown",
      "metadata": {
        "id": "UEYmYJd5PVUH"
      },
      "source": [
        "# 붓꽃 이진 분류\r\n",
        "- 꽃 잎, 꽃 받침의 크기를 보고 붓꽃의 종류를 분류\r\n",
        "- iris : bunch type의 데이터구조(임의의 데이터들을 하나로 묶어 저장하는데 유용)\r\n",
        "    * feature_names : 속성들의 이름을 제공\r\n",
        "    * target_names : 타겟 변수(꽃의 종류)\r\n",
        "\r\n",
        "<table class=\"tfo-notebook-buttons\" align=\"left\">\r\n",
        "  <td>\r\n",
        "    <a target=\"_blank\" href=\"https://colab.research.google.com/github/swkim01/DSAC1-2/blob/main/gg-32-선형분류.ipynb\"><img src=\"https://github.com/swkim01/DSAC1-2/raw/main/colab_logo_32px.png\" />구글 코랩에서 실행</a>\r\n",
        "  </td>\r\n",
        "  <td>\r\n",
        "    <a target=\"_blank\" href=\"https://github.com/swkim01/DSAC1-2/blob/main/gg-32-선형분류.ipynb\"><img src=\"https://github.com/swkim01/DSAC1-2/raw/main/GitHub-Mark-32px.png\" />깃헙에서 소스 보기</a>\r\n",
        "  </td>\r\n",
        "</table>"
      ]
    },
    {
      "cell_type": "code",
      "metadata": {
        "colab": {
          "base_uri": "https://localhost:8080/"
        },
        "id": "_BHHk3kxPUff",
        "outputId": "7f3e97a5-c153-444a-d024-a622f17eabc9"
      },
      "source": [
        "from sklearn.datasets import load_iris\n",
        "iris = load_iris()\n",
        "print(type(iris)) "
      ],
      "execution_count": null,
      "outputs": [
        {
          "output_type": "stream",
          "text": [
            "<class 'sklearn.utils.Bunch'>\n"
          ],
          "name": "stdout"
        }
      ]
    },
    {
      "cell_type": "code",
      "metadata": {
        "colab": {
          "base_uri": "https://localhost:8080/"
        },
        "id": "fcQreEFyPUfm",
        "outputId": "b59469f3-e97f-4b83-eb86-7b3934125c10"
      },
      "source": [
        "print(iris.feature_names)"
      ],
      "execution_count": null,
      "outputs": [
        {
          "output_type": "stream",
          "text": [
            "['sepal length (cm)', 'sepal width (cm)', 'petal length (cm)', 'petal width (cm)']\n"
          ],
          "name": "stdout"
        }
      ]
    },
    {
      "cell_type": "code",
      "metadata": {
        "colab": {
          "base_uri": "https://localhost:8080/"
        },
        "id": "0P_fYXIqPUfm",
        "outputId": "b434c17b-1497-47ce-aa12-741f0765b1ff"
      },
      "source": [
        "print(iris.target_names)"
      ],
      "execution_count": null,
      "outputs": [
        {
          "output_type": "stream",
          "text": [
            "['setosa' 'versicolor' 'virginica']\n"
          ],
          "name": "stdout"
        }
      ]
    },
    {
      "cell_type": "markdown",
      "metadata": {
        "id": "oxY1-KELVXXg"
      },
      "source": [
        "- iris.data : feature들의 값\r\n",
        "- iris.target : 0(setosa), 1(versicolor), 2(virginica)"
      ]
    },
    {
      "cell_type": "code",
      "metadata": {
        "colab": {
          "base_uri": "https://localhost:8080/"
        },
        "id": "pn3ZAzaQPUfn",
        "outputId": "fde9909e-cf42-4479-c3b9-1e6d3f719e38"
      },
      "source": [
        "X, y = iris.data, iris.target\n",
        "print(X.shape, type(X))# (150, 4) <class 'numpy.ndarray'>\n",
        "print(y.shape, type(y))# (150,) <class 'numpy.ndarray'>"
      ],
      "execution_count": null,
      "outputs": [
        {
          "output_type": "stream",
          "text": [
            "(150, 4) <class 'numpy.ndarray'>\n",
            "(150,) <class 'numpy.ndarray'>\n"
          ],
          "name": "stdout"
        }
      ]
    },
    {
      "cell_type": "code",
      "metadata": {
        "colab": {
          "base_uri": "https://localhost:8080/"
        },
        "id": "GjG8I9rwVlyU",
        "outputId": "f85c3c3c-0d20-42c8-968a-cf5ff5c9c33a"
      },
      "source": [
        "print(X[0:3])"
      ],
      "execution_count": null,
      "outputs": [
        {
          "output_type": "stream",
          "text": [
            "[[5.1 3.5 1.4 0.2]\n",
            " [4.9 3.  1.4 0.2]\n",
            " [4.7 3.2 1.3 0.2]]\n"
          ],
          "name": "stdout"
        }
      ]
    },
    {
      "cell_type": "code",
      "metadata": {
        "colab": {
          "base_uri": "https://localhost:8080/"
        },
        "id": "XoSg021IVyp-",
        "outputId": "88a2ecb6-a6d5-4b74-9ba8-2046e93d6524"
      },
      "source": [
        "print(y)"
      ],
      "execution_count": null,
      "outputs": [
        {
          "output_type": "stream",
          "text": [
            "[0 0 0 0 0 0 0 0 0 0 0 0 0 0 0 0 0 0 0 0 0 0 0 0 0 0 0 0 0 0 0 0 0 0 0 0 0\n",
            " 0 0 0 0 0 0 0 0 0 0 0 0 0 1 1 1 1 1 1 1 1 1 1 1 1 1 1 1 1 1 1 1 1 1 1 1 1\n",
            " 1 1 1 1 1 1 1 1 1 1 1 1 1 1 1 1 1 1 1 1 1 1 1 1 1 1 2 2 2 2 2 2 2 2 2 2 2\n",
            " 2 2 2 2 2 2 2 2 2 2 2 2 2 2 2 2 2 2 2 2 2 2 2 2 2 2 2 2 2 2 2 2 2 2 2 2 2\n",
            " 2 2]\n"
          ],
          "name": "stdout"
        }
      ]
    },
    {
      "cell_type": "markdown",
      "metadata": {
        "id": "viRtUUnSVhvM"
      },
      "source": [
        "- 앞의 2개 특성만(꽃받침<sepal>의 길이와 넓이)"
      ]
    },
    {
      "cell_type": "code",
      "metadata": {
        "id": "_baDRxzCPUfn"
      },
      "source": [
        "X2 = X[:, :2]"
      ],
      "execution_count": null,
      "outputs": []
    },
    {
      "cell_type": "code",
      "metadata": {
        "colab": {
          "base_uri": "https://localhost:8080/"
        },
        "id": "zSlpa94nV98d",
        "outputId": "51a8ed39-0a4c-4956-a01a-b143aecba8b0"
      },
      "source": [
        "print(X2[0:3])"
      ],
      "execution_count": null,
      "outputs": [
        {
          "output_type": "stream",
          "text": [
            "[[5.1 3.5]\n",
            " [4.9 3. ]\n",
            " [4.7 3.2]]\n"
          ],
          "name": "stdout"
        }
      ]
    },
    {
      "cell_type": "markdown",
      "metadata": {
        "id": "_0ekw2wkV_Mk"
      },
      "source": [
        "데이터 확인\r\n",
        "--"
      ]
    },
    {
      "cell_type": "code",
      "metadata": {
        "colab": {
          "base_uri": "https://localhost:8080/",
          "height": 301
        },
        "id": "dhMW6z9gPUfo",
        "outputId": "f838a8d1-c6cb-451a-c7b7-826990318f66"
      },
      "source": [
        "%matplotlib inline\n",
        "import matplotlib.pyplot as plt\n",
        "\n",
        "markers = ['o', '+', '^']\n",
        "for i in range(3):\n",
        "    xs = X2[:, 0][y == i]\n",
        "    ys = X2[:, 1][y == i]\n",
        "    plt.scatter(xs, ys, marker=markers[i])\n",
        "plt.legend(iris.target_names)\n",
        "plt.xlabel(\"Sepal length\")\n",
        "plt.ylabel(\"Sepal width\")"
      ],
      "execution_count": null,
      "outputs": [
        {
          "output_type": "execute_result",
          "data": {
            "text/plain": [
              "Text(0, 0.5, 'Sepal width')"
            ]
          },
          "metadata": {
            "tags": []
          },
          "execution_count": 10
        },
        {
          "output_type": "display_data",
          "data": {
            "image/png": "[encoded data removed]",
            "text/plain": [
              "<Figure size 432x288 with 1 Axes>"
            ]
          },
          "metadata": {
            "tags": [],
            "needs_background": "light"
          }
        }
      ]
    },
    {
      "cell_type": "markdown",
      "metadata": {
        "id": "ID1Hej-4WF7G"
      },
      "source": [
        "- 위의 그림에서는 주어진 데이터의 속성 4개를 다 사용하지 않고\r\n",
        "- 앞의 2개의 속성에 대해서만 target값들을 표시해 보았다.\r\n",
        "- 학습에 사용할 속성으로 2개만 사용한 이유는\r\n",
        "- 2차원 평면이 보기 편하도록 하기 위한 것일 뿐이다."
      ]
    },
    {
      "cell_type": "markdown",
      "metadata": {
        "id": "ukndqKSFWJLU"
      },
      "source": [
        "- 위의 그림을 보면 setosa 부류와 그 이외의 부류와는 쉽게 구분할 수 있다는 것을 알 수 있다.\r\n",
        "- 직선을 잘 선택하면 두 영역을 쉽게 구분할 수 있다. \r\n",
        "- 이를 달리 표현하면 선형 모델로도 잘 나누어질 것으로 보인다."
      ]
    },
    {
      "cell_type": "markdown",
      "metadata": {
        "id": "63DJDdbKWMIs"
      },
      "source": [
        "- 이제 타겟 변수를 3개(0, 1, 2)로 나누어진 것을\r\n",
        "- setosa 부류(target=0), setosa가 아닌 부류(target=1)의 이진 분류문제로 바꾸어 보겠다.\r\n",
        "- 이를 위해 target=2 인 것을 모두 1로 바꾸어 사용한다."
      ]
    },
    {
      "cell_type": "code",
      "metadata": {
        "colab": {
          "base_uri": "https://localhost:8080/"
        },
        "id": "7nEFX6XMPUfo",
        "outputId": "c29fa4ee-73b7-4bc7-a4c1-3a292d1d18cc"
      },
      "source": [
        "y2 = y.copy()              # y의 복사본을 만든다\n",
        "y2[(y2==2)] = 1 # y중에 2의 값을 모두 1로 바꾼다\n",
        "y2"
      ],
      "execution_count": null,
      "outputs": [
        {
          "output_type": "execute_result",
          "data": {
            "text/plain": [
              "array([0, 0, 0, 0, 0, 0, 0, 0, 0, 0, 0, 0, 0, 0, 0, 0, 0, 0, 0, 0, 0, 0,\n",
              "       0, 0, 0, 0, 0, 0, 0, 0, 0, 0, 0, 0, 0, 0, 0, 0, 0, 0, 0, 0, 0, 0,\n",
              "       0, 0, 0, 0, 0, 0, 1, 1, 1, 1, 1, 1, 1, 1, 1, 1, 1, 1, 1, 1, 1, 1,\n",
              "       1, 1, 1, 1, 1, 1, 1, 1, 1, 1, 1, 1, 1, 1, 1, 1, 1, 1, 1, 1, 1, 1,\n",
              "       1, 1, 1, 1, 1, 1, 1, 1, 1, 1, 1, 1, 1, 1, 1, 1, 1, 1, 1, 1, 1, 1,\n",
              "       1, 1, 1, 1, 1, 1, 1, 1, 1, 1, 1, 1, 1, 1, 1, 1, 1, 1, 1, 1, 1, 1,\n",
              "       1, 1, 1, 1, 1, 1, 1, 1, 1, 1, 1, 1, 1, 1, 1, 1, 1, 1])"
            ]
          },
          "metadata": {
            "tags": []
          },
          "execution_count": 11
        }
      ]
    },
    {
      "cell_type": "markdown",
      "metadata": {
        "id": "1WUS90y9WSM0"
      },
      "source": [
        "- train_test_split() : 훈련 데이터, 시험 데이터로 분리"
      ]
    },
    {
      "cell_type": "code",
      "metadata": {
        "id": "oZuiQouaPUfp"
      },
      "source": [
        "from sklearn.model_selection import train_test_split\n",
        "\n",
        "X_train, X_test, y_train, y_test = train_test_split(X2, y2, test_size=0.5)"
      ],
      "execution_count": null,
      "outputs": []
    },
    {
      "cell_type": "code",
      "metadata": {
        "colab": {
          "base_uri": "https://localhost:8080/"
        },
        "id": "nUaCrhaXPUfp",
        "outputId": "62f55cf3-ffdd-45d2-dfba-66318ae0d83c"
      },
      "source": [
        "y2"
      ],
      "execution_count": null,
      "outputs": [
        {
          "output_type": "execute_result",
          "data": {
            "text/plain": [
              "array([0, 0, 0, 0, 0, 0, 0, 0, 0, 0, 0, 0, 0, 0, 0, 0, 0, 0, 0, 0, 0, 0,\n",
              "       0, 0, 0, 0, 0, 0, 0, 0, 0, 0, 0, 0, 0, 0, 0, 0, 0, 0, 0, 0, 0, 0,\n",
              "       0, 0, 0, 0, 0, 0, 1, 1, 1, 1, 1, 1, 1, 1, 1, 1, 1, 1, 1, 1, 1, 1,\n",
              "       1, 1, 1, 1, 1, 1, 1, 1, 1, 1, 1, 1, 1, 1, 1, 1, 1, 1, 1, 1, 1, 1,\n",
              "       1, 1, 1, 1, 1, 1, 1, 1, 1, 1, 1, 1, 1, 1, 1, 1, 1, 1, 1, 1, 1, 1,\n",
              "       1, 1, 1, 1, 1, 1, 1, 1, 1, 1, 1, 1, 1, 1, 1, 1, 1, 1, 1, 1, 1, 1,\n",
              "       1, 1, 1, 1, 1, 1, 1, 1, 1, 1, 1, 1, 1, 1, 1, 1, 1, 1])"
            ]
          },
          "metadata": {
            "tags": []
          },
          "execution_count": 13
        }
      ]
    },
    {
      "cell_type": "code",
      "metadata": {
        "colab": {
          "base_uri": "https://localhost:8080/",
          "height": 301
        },
        "id": "g6iGnfH6PUfp",
        "outputId": "06d5270c-cfe1-45db-a185-c42059cd6ffb"
      },
      "source": [
        "markers = ['o', '+', '^']\n",
        "for i in range(3):\n",
        "    xs = X_train[:, 0][y_train == i]\n",
        "    ys = X_train[:, 1][y_train == i]\n",
        "    plt.scatter(xs, ys, marker=markers[i])\n",
        "binary_names = ['setosa', 'non-setosa']\n",
        "plt.legend(binary_names)\n",
        "plt.xlabel(\"Sepal length\")\n",
        "plt.ylabel(\"Sepal width\")"
      ],
      "execution_count": null,
      "outputs": [
        {
          "output_type": "execute_result",
          "data": {
            "text/plain": [
              "Text(0, 0.5, 'Sepal width')"
            ]
          },
          "metadata": {
            "tags": []
          },
          "execution_count": 14
        },
        {
          "output_type": "display_data",
          "data": {
            "image/png": "[encoded data removed]",
            "text/plain": [
              "<Figure size 432x288 with 1 Axes>"
            ]
          },
          "metadata": {
            "tags": [],
            "needs_background": "light"
          }
        }
      ]
    },
    {
      "cell_type": "markdown",
      "metadata": {
        "id": "QL_HuUUvWcVN"
      },
      "source": [
        "## 최적화 알고리즘 선택 : 경사하강법(SGDClassifier, Stochastic Gradient Descent)"
      ]
    },
    {
      "cell_type": "code",
      "metadata": {
        "scrolled": true,
        "colab": {
          "base_uri": "https://localhost:8080/"
        },
        "id": "BwqDGj8SPUfq",
        "outputId": "585dee37-a84c-4901-f126-10dffc8d7d67"
      },
      "source": [
        "from sklearn.linear_model import SGDClassifier\n",
        "clf = SGDClassifier(max_iter=1000)\n",
        "clf.fit(X_train, y_train)"
      ],
      "execution_count": null,
      "outputs": [
        {
          "output_type": "execute_result",
          "data": {
            "text/plain": [
              "SGDClassifier(alpha=0.0001, average=False, class_weight=None,\n",
              "              early_stopping=False, epsilon=0.1, eta0=0.0, fit_intercept=True,\n",
              "              l1_ratio=0.15, learning_rate='optimal', loss='hinge',\n",
              "              max_iter=1000, n_iter_no_change=5, n_jobs=None, penalty='l2',\n",
              "              power_t=0.5, random_state=None, shuffle=True, tol=0.001,\n",
              "              validation_fraction=0.1, verbose=0, warm_start=False)"
            ]
          },
          "metadata": {
            "tags": []
          },
          "execution_count": 20
        }
      ]
    },
    {
      "cell_type": "markdown",
      "metadata": {
        "id": "6kblad3MWieE"
      },
      "source": [
        "선형 분류\r\n",
        "---\r\n",
        "- x : 꽃받침의 길이, y : 꽃받침의 폭\r\n",
        "- ax+by+c > 0\r\n",
        "- y > (-a/b)x-c/b"
      ]
    },
    {
      "cell_type": "code",
      "metadata": {
        "colab": {
          "base_uri": "https://localhost:8080/"
        },
        "id": "ZsZCViegPUfq",
        "outputId": "db1d9642-de4b-4d5f-8b5a-16fdd969719d"
      },
      "source": [
        "clf.coef_, clf.intercept_"
      ],
      "execution_count": null,
      "outputs": [
        {
          "output_type": "execute_result",
          "data": {
            "text/plain": [
              "(array([[ 118.87694146, -177.41935484]]), array([-49.09046521]))"
            ]
          },
          "metadata": {
            "tags": []
          },
          "execution_count": 21
        }
      ]
    },
    {
      "cell_type": "code",
      "metadata": {
        "colab": {
          "base_uri": "https://localhost:8080/"
        },
        "id": "9wAoXFUYPUfq",
        "outputId": "34b41bc0-ad78-478a-b730-3808505cdb45"
      },
      "source": [
        "a = clf.coef_[0,0]\n",
        "b = clf.coef_[0,1]\n",
        "c = clf.intercept_\n",
        "print(a, b, c)\n",
        "## 103.189493433 –172.607879925 -35.2970136277"
      ],
      "execution_count": null,
      "outputs": [
        {
          "output_type": "stream",
          "text": [
            "118.87694145758626 -177.41935483870898 [-49.09046521]\n"
          ],
          "name": "stdout"
        }
      ]
    },
    {
      "cell_type": "code",
      "metadata": {
        "colab": {
          "base_uri": "https://localhost:8080/",
          "height": 298
        },
        "id": "qNN4stbJPUfr",
        "outputId": "641db526-d850-4a4b-9543-c25ba8c8159a"
      },
      "source": [
        "import numpy as np\n",
        "%matplotlib inline\n",
        "import matplotlib.pyplot as plt\n",
        "\n",
        "markers = ['o', '+', '^']\n",
        "for i in range(2):\n",
        "    xs = X_train[:, 0][y_train == i]\n",
        "    ys = X_train[:, 1][y_train == i]\n",
        "    plt.scatter(xs, ys, marker=markers[i])\n",
        "\n",
        "binary_names = ['setosa', 'non-setosa']\n",
        "plt.legend(binary_names)\n",
        "plt.xlabel(\"Sepal length\")\n",
        "plt.ylabel(\"Sepal width\")\n",
        "\n",
        "XX = np.linspace(4, 8, 40)\n",
        "# 결정 경계선\n",
        "plt.plot(XX, (-a/b)*XX - c/b, \"k-\", linewidth=2)"
      ],
      "execution_count": null,
      "outputs": [
        {
          "output_type": "execute_result",
          "data": {
            "text/plain": [
              "[<matplotlib.lines.Line2D at 0x7fc48c84bac8>]"
            ]
          },
          "metadata": {
            "tags": []
          },
          "execution_count": 23
        },
        {
          "output_type": "display_data",
          "data": {
            "image/png": "[encoded data removed]",
            "text/plain": [
              "<Figure size 432x288 with 1 Axes>"
            ]
          },
          "metadata": {
            "tags": [],
            "needs_background": "light"
          }
        }
      ]
    },
    {
      "cell_type": "markdown",
      "metadata": {
        "id": "z9RMfYSzW8rt"
      },
      "source": [
        "### 임의의 샘플에 대해 분류 예측\r\n",
        "- 입력 : 꽃받침의 길이, 폭 \r\n",
        "- clf : 예측 수행 모델 : \r\n",
        "- predict() : 예측 수행 함수"
      ]
    },
    {
      "cell_type": "code",
      "metadata": {
        "colab": {
          "base_uri": "https://localhost:8080/"
        },
        "id": "m6iz87RkPUfr",
        "outputId": "1ec60f42-7c07-439a-ed2a-bf4da6e82469"
      },
      "source": [
        "print(clf.predict([[4.5, 3.5]]))  # 0"
      ],
      "execution_count": null,
      "outputs": [
        {
          "output_type": "stream",
          "text": [
            "[0]\n"
          ],
          "name": "stdout"
        }
      ]
    },
    {
      "cell_type": "code",
      "metadata": {
        "colab": {
          "base_uri": "https://localhost:8080/"
        },
        "id": "zWauXibyXGRb",
        "outputId": "e883e304-3a5b-4f9d-c37d-644b83a0a55b"
      },
      "source": [
        "print(clf.predict([[6.5, 2.5]]))  # 1"
      ],
      "execution_count": null,
      "outputs": [
        {
          "output_type": "stream",
          "text": [
            "[1]\n"
          ],
          "name": "stdout"
        }
      ]
    },
    {
      "cell_type": "markdown",
      "metadata": {
        "id": "wjPoR_mjXEQM"
      },
      "source": [
        "- 위의 꽃받침의 길이와 폭 속성 그래프 상에서 위의 두 점의 좌표 위치를 보면\r\n",
        "- 대략 어떤 클래스에 해당할 지 눈으로 봐도 알 수 있다."
      ]
    },
    {
      "cell_type": "markdown",
      "metadata": {
        "id": "sP5x5r4FXLd8"
      },
      "source": [
        "### 이제 test 데이터에 대해서 예측을 모두 시행하고, 정확도를 구해 본다.\r\n",
        "- score(X, y) "
      ]
    },
    {
      "cell_type": "markdown",
      "metadata": {
        "id": "Pj2qSS03XQyd"
      },
      "source": [
        "- X2 : 전체 데이터 (X_train + X_test)\r\n",
        "- X_train : 훈련 데이터\r\n",
        "- X_test : 테스트 데이터"
      ]
    },
    {
      "cell_type": "code",
      "metadata": {
        "colab": {
          "base_uri": "https://localhost:8080/"
        },
        "id": "xQU6tl-bPUfr",
        "outputId": "28aee175-6381-4d5f-b727-8cd97ac1629d"
      },
      "source": [
        "print(clf.score(X2, y2))"
      ],
      "execution_count": null,
      "outputs": [
        {
          "output_type": "stream",
          "text": [
            "0.98\n"
          ],
          "name": "stdout"
        }
      ]
    },
    {
      "cell_type": "code",
      "metadata": {
        "colab": {
          "base_uri": "https://localhost:8080/"
        },
        "id": "_j2S11HzPUfs",
        "outputId": "9256aaed-9084-44eb-d3b0-600ad5d5f142"
      },
      "source": [
        "print(clf.score(X_test, y_test))"
      ],
      "execution_count": null,
      "outputs": [
        {
          "output_type": "stream",
          "text": [
            "0.9866666666666667\n"
          ],
          "name": "stdout"
        }
      ]
    },
    {
      "cell_type": "code",
      "metadata": {
        "colab": {
          "base_uri": "https://localhost:8080/",
          "height": 298
        },
        "id": "c2zW3j9aPUfs",
        "outputId": "15779fbf-16b5-4c61-aae8-8331e0a33afb"
      },
      "source": [
        "for i in range(2):\n",
        "    xs = X_test[:, 0][y_test == i]\n",
        "    ys = X_test[:, 1][y_test == i]\n",
        "    plt.scatter(xs, ys, marker=markers[i])\n",
        "\n",
        "binary_names = ['setosa', 'non-setosa']\n",
        "plt.legend(binary_names)\n",
        "plt.xlabel(\"Sepal length\")\n",
        "plt.ylabel(\"Sepal width\")\n",
        "\n",
        "XX = np.linspace(4, 8, 40)\n",
        "# 결정 경계선\n",
        "plt.plot(XX, (-a/b)*XX - c/b, \"k-\", linewidth=2)"
      ],
      "execution_count": null,
      "outputs": [
        {
          "output_type": "execute_result",
          "data": {
            "text/plain": [
              "[<matplotlib.lines.Line2D at 0x7fc48c753c18>]"
            ]
          },
          "metadata": {
            "tags": []
          },
          "execution_count": 28
        },
        {
          "output_type": "display_data",
          "data": {
            "image/png": "[encoded data removed]",
            "text/plain": [
              "<Figure size 432x288 with 1 Axes>"
            ]
          },
          "metadata": {
            "tags": [],
            "needs_background": "light"
          }
        }
      ]
    },
    {
      "cell_type": "code",
      "metadata": {
        "colab": {
          "base_uri": "https://localhost:8080/"
        },
        "id": "7_7ycEi-PUfs",
        "outputId": "79841ece-7c77-40cd-e5fa-eef4aa4bbee6"
      },
      "source": [
        "from sklearn.model_selection import cross_val_score, KFold\n",
        "#cv = KFold(X2.shape[0], 5, shuffle=True)\n",
        "cv = KFold(5, shuffle=True)\n",
        "print(cross_val_score(clf, X2, y2, cv=cv))"
      ],
      "execution_count": null,
      "outputs": [
        {
          "output_type": "stream",
          "text": [
            "[0.83333333 0.9        0.96666667 0.96666667 0.93333333]\n"
          ],
          "name": "stdout"
        }
      ]
    },
    {
      "cell_type": "markdown",
      "metadata": {
        "id": "ujGAodC3PUft"
      },
      "source": [
        "## 4개 속성 모두 이용\n",
        "### 세가지 꽃 구분"
      ]
    },
    {
      "cell_type": "code",
      "metadata": {
        "colab": {
          "base_uri": "https://localhost:8080/"
        },
        "id": "RaiMftBBPUft",
        "outputId": "3184df95-54ae-42aa-beea-dba4d0dca34d"
      },
      "source": [
        "from sklearn import datasets\n",
        "from sklearn.model_selection import train_test_split\n",
        "from sklearn.linear_model import SGDClassifier\n",
        "from sklearn import metrics\n",
        "\n",
        "iris = datasets.load_iris()\n",
        "X, y = iris.data, iris.target\n",
        "X_train, X_test, y_train, y_test = train_test_split(X, y, test_size=0.3)\n",
        "\n",
        "clf_all = SGDClassifier(max_iter=1000)\n",
        "clf_all.fit(X_train, y_train)"
      ],
      "execution_count": null,
      "outputs": [
        {
          "output_type": "execute_result",
          "data": {
            "text/plain": [
              "SGDClassifier(alpha=0.0001, average=False, class_weight=None,\n",
              "              early_stopping=False, epsilon=0.1, eta0=0.0, fit_intercept=True,\n",
              "              l1_ratio=0.15, learning_rate='optimal', loss='hinge',\n",
              "              max_iter=1000, n_iter_no_change=5, n_jobs=None, penalty='l2',\n",
              "              power_t=0.5, random_state=None, shuffle=True, tol=0.001,\n",
              "              validation_fraction=0.1, verbose=0, warm_start=False)"
            ]
          },
          "metadata": {
            "tags": []
          },
          "execution_count": 30
        }
      ]
    },
    {
      "cell_type": "code",
      "metadata": {
        "colab": {
          "base_uri": "https://localhost:8080/"
        },
        "id": "O8HneyFsPUft",
        "outputId": "2bf29fc3-8d0a-42e4-c355-228fd49fa788"
      },
      "source": [
        "clf_all.score(X_test, y_test)"
      ],
      "execution_count": null,
      "outputs": [
        {
          "output_type": "execute_result",
          "data": {
            "text/plain": [
              "0.8"
            ]
          },
          "metadata": {
            "tags": []
          },
          "execution_count": 31
        }
      ]
    },
    {
      "cell_type": "code",
      "metadata": {
        "colab": {
          "base_uri": "https://localhost:8080/"
        },
        "id": "MSRzkxAOPUft",
        "outputId": "ec13e9a9-982e-4028-d95f-fba24d45e57e"
      },
      "source": [
        "#cv = KFold(X.shape[0], 5,shuffle=True)\n",
        "cv = KFold(5,shuffle=True)\n",
        "print(cross_val_score(clf_all, X, y, cv=cv))"
      ],
      "execution_count": null,
      "outputs": [
        {
          "output_type": "stream",
          "text": [
            "[0.96666667 1.         0.7        0.63333333 0.83333333]\n"
          ],
          "name": "stdout"
        }
      ]
    },
    {
      "cell_type": "code",
      "metadata": {
        "id": "h98UkAe5PUfu"
      },
      "source": [
        ""
      ],
      "execution_count": null,
      "outputs": []
    }
  ]
}
